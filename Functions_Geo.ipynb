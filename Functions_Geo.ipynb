{
 "cells": [
  {
   "cell_type": "markdown",
   "id": "b541993b-7203-4603-ac54-948b8e3af123",
   "metadata": {},
   "source": [
    "## Imports"
   ]
  },
  {
   "cell_type": "code",
   "execution_count": 11,
   "id": "5344d83a-94ef-4817-9c97-9f36ddce19a3",
   "metadata": {},
   "outputs": [],
   "source": [
    "import json\n",
    "from shapely.geometry import shape, Point\n",
    "import geopy.distance\n",
    "import pprint"
   ]
  },
  {
   "cell_type": "markdown",
   "id": "4a5a691f-ca16-4579-841d-37c94db85905",
   "metadata": {},
   "source": [
    "### Check if point inside polygon"
   ]
  },
  {
   "cell_type": "code",
   "execution_count": 12,
   "id": "68bf409d-2906-436f-83f7-3835768317c2",
   "metadata": {},
   "outputs": [
    {
     "name": "stdout",
     "output_type": "stream",
     "text": [
      "Found containing polygon: {'SCACODIGO': '009131', 'SCATIPO': 0, 'SCANOMBRE': 'SANTA HELENA', 'SHAPE_Leng': 0.0349063726429, 'SHAPE_Area': 4.68564938336e-05}\n"
     ]
    }
   ],
   "source": [
    "# load GeoJSON file containing sectors\n",
    "with open(\"Datos Abiertos - Bogota/Ordenamiento_Territorial - Sector_Catastral/Raw-data-sector-catastral-april-2023.geojson\") as f:\n",
    "    js = json.load(f)\n",
    "\n",
    "# construct point based on lon/lat returned by geocoder\n",
    "\n",
    "point = Point(-74.066837, 4.732316)\n",
    "\n",
    "# check each polygon to see if it contains the point\n",
    "for feature in js[\"features\"]:\n",
    "    polygon = shape(feature[\"geometry\"])\n",
    "    if polygon.contains(point):\n",
    "        print(\"Found containing polygon:\", feature[\"properties\"])"
   ]
  },
  {
   "cell_type": "markdown",
   "id": "663a29ee-4d06-472c-b5a9-f4d8aa7765f4",
   "metadata": {},
   "source": [
    "### Get distance between points"
   ]
  },
  {
   "cell_type": "code",
   "execution_count": null,
   "id": "43683a3a-67a7-48d5-903b-3f99512cba7f",
   "metadata": {},
   "outputs": [],
   "source": [
    "# load JSON file containing points\n",
    "with open(\"Datos Abiertos - Bogota/Vivienda_Ciudad_Territorio - Ocupacion-Ilegal/GeoJson-Nov-2022.json\") as f:\n",
    "    js = json.load(f)\n",
    "\n",
    "home = (4.732316, -74.066837)\n",
    "\n",
    "# results = [x for x in js[\"features\"] if geopy.distance.geodesic(home, (x[\"lat\"], x[\"lon\"])).m]\n",
    "results = []\n",
    "for feature in js[\"features\"]:\n",
    "    point = (feature[\"lat\"], feature[\"lon\"])\n",
    "    if geopy.distance.geodesic(home, point).m <= 3000:\n",
    "        feature[\"distance_m\"] = geopy.distance.geodesic(home, point).m\n",
    "        results.append(feature)\n",
    "\n",
    "newlist = sorted(results, key=lambda d: d[\"distance_m\"])\n",
    "newlist = newlist[0:5]\n",
    "display(newlist)"
   ]
  },
  {
   "cell_type": "markdown",
   "id": "d4a45e50-215b-4230-9a94-9f990756dd63",
   "metadata": {},
   "source": [
    "### Get polygons in radius"
   ]
  },
  {
   "cell_type": "code",
   "execution_count": null,
   "id": "cbb8e303-22ca-460f-a9a2-c9bdb4e8546d",
   "metadata": {},
   "outputs": [],
   "source": [
    "# Raw data should be processed with QGIS before (to WGS84) in order to have Type and Coordinates inside geometry\n",
    "with open(\"Datos Abiertos - Bogota/Ordenamiento_Territorial - Parques POT/data-parques-feb-2023-processed.geojson\") as f:\n",
    "    js = json.load(f)\n",
    "\n",
    "point = Point(-74.066837, 4.732316)\n",
    "\n",
    "results = []\n",
    "for feature in js[\"features\"]:\n",
    "    poly = shape(feature[\"geometry\"])\n",
    "    feature[\"dist2poly1\"] = poly.distance(point) * 111194.93  # Degress to M considering earth\n",
    "    feature[\"dist2poly2\"] = poly.boundary.distance(point) * 111194.93  # Degress to M considering earth\n",
    "    if feature[\"dist2poly1\"] < 2000:\n",
    "        feature.pop(\"geometry\", None)\n",
    "        results.append(feature)\n",
    "\n",
    "newlist = sorted(results, key=lambda d: d[\"dist2poly1\"])\n",
    "newlist = newlist[0:50]\n",
    "pprint.pprint(newlist)\n"
   ]
  },
  {
   "cell_type": "code",
   "execution_count": null,
   "id": "d760abda-1e87-4d45-b359-8a7e772e2ce9",
   "metadata": {},
   "outputs": [],
   "source": []
  }
 ],
 "metadata": {
  "kernelspec": {
   "display_name": "Python 3",
   "language": "python",
   "name": "python3"
  },
  "language_info": {
   "codemirror_mode": {
    "name": "ipython",
    "version": 3
   },
   "file_extension": ".py",
   "mimetype": "text/x-python",
   "name": "python",
   "nbconvert_exporter": "python",
   "pygments_lexer": "ipython3",
   "version": "3.8.0"
  }
 },
 "nbformat": 4,
 "nbformat_minor": 5
}
