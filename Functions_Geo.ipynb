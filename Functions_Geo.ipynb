{
 "cells": [
  {
   "cell_type": "markdown",
   "id": "b541993b-7203-4603-ac54-948b8e3af123",
   "metadata": {},
   "source": [
    "## Imports"
   ]
  },
  {
   "cell_type": "code",
   "execution_count": 11,
   "id": "5344d83a-94ef-4817-9c97-9f36ddce19a3",
   "metadata": {},
   "outputs": [],
   "source": [
    "import json\n",
    "from shapely.geometry import shape, Point\n",
    "import geopy.distance\n",
    "import pprint"
   ]
  },
  {
   "cell_type": "markdown",
   "id": "4a5a691f-ca16-4579-841d-37c94db85905",
   "metadata": {},
   "source": [
    "### Check if point inside polygon"
   ]
  },
  {
   "cell_type": "code",
   "execution_count": 30,
   "id": "68bf409d-2906-436f-83f7-3835768317c2",
   "metadata": {},
   "outputs": [],
   "source": [
    "# load GeoJSON file containing sectors\n",
    "# with open(\"Datos Abiertos - Bogota/Ordenamiento_Territorial - Sector_Catastral/Raw-data-sector-catastral-april-2023.geojson\") as f:\n",
    "#     js = json.load(f)\n",
    "\n",
    "# def check_point_inside_polygon(point=Point(-74.066837, 4.732316), features=js[\"features\"]): \n",
    "def check_point_inside_polygon(point, features): \n",
    "    for feature in features:\n",
    "        polygon = shape(feature[\"geometry\"])\n",
    "        if polygon.contains(point):\n",
    "            return feature[\"properties\"]"
   ]
  },
  {
   "cell_type": "markdown",
   "id": "663a29ee-4d06-472c-b5a9-f4d8aa7765f4",
   "metadata": {
    "tags": []
   },
   "source": [
    "### Check points in radius"
   ]
  },
  {
   "cell_type": "code",
   "execution_count": 32,
   "id": "43683a3a-67a7-48d5-903b-3f99512cba7f",
   "metadata": {},
   "outputs": [],
   "source": [
    "def check_point_within_radius(center, geometry, radius=1000):\n",
    "    '''\n",
    "        center = (lat, long)\n",
    "        geometry = {\n",
    "        \"type\": \"Point\", \n",
    "        \"coordinates\": (0.0, 0.0)\n",
    "        }\n",
    "    '''\n",
    "    point = shape(geometry)\n",
    "    if point.geom_type == 'Point':\n",
    "        pointCoord = (list(point.coords)[0][1], list(point.coords)[0][0])\n",
    "        if geopy.distance.geodesic(center, pointCoord).m <= radius:\n",
    "            return True\n",
    "    return False"
   ]
  },
  {
   "cell_type": "markdown",
   "id": "b4a24d13-77be-41ea-89cf-f45887c8261c",
   "metadata": {
    "tags": []
   },
   "source": [
    "### Get distance between points"
   ]
  },
  {
   "cell_type": "code",
   "execution_count": 31,
   "id": "c0a04886-753b-46d1-8172-96dd164b317c",
   "metadata": {},
   "outputs": [],
   "source": [
    "def get_distance_between_points(center, geometry):\n",
    "    '''\n",
    "        center = (lat, long)\n",
    "        geometry = {\n",
    "        \"type\": \"Point\", \n",
    "        \"coordinates\": (0.0, 0.0)\n",
    "        }\n",
    "    '''\n",
    "    point = shape(geometry)\n",
    "    if point.geom_type == 'Point':\n",
    "        pointCoord = (list(point.coords)[0][1], list(point.coords)[0][0])\n",
    "        return geopy.distance.geodesic(center, pointCoord).m\n",
    "    return None"
   ]
  },
  {
   "cell_type": "markdown",
   "id": "d4a45e50-215b-4230-9a94-9f990756dd63",
   "metadata": {
    "tags": []
   },
   "source": [
    "### Get polygons in radius"
   ]
  },
  {
   "cell_type": "code",
   "execution_count": 21,
   "id": "cbb8e303-22ca-460f-a9a2-c9bdb4e8546d",
   "metadata": {},
   "outputs": [],
   "source": [
    "# Raw data should be processed with QGIS before (to WGS84) in order to have Type and Coordinates inside geometry\n",
    "# with open(\"Datos Abiertos - Bogota/Ordenamiento_Territorial - Parques POT/data-parques-feb-2023-processed.geojson\") as f:\n",
    "#     js = json.load(f)\n",
    "\n",
    "# def get_polygons_in_radius(center=Point(-74.066837, 4.732316), features=js[\"features\"], radius=1000):\n",
    "def get_polygons_in_radius(center, features, radius):\n",
    "    results = []\n",
    "    for feature in features:\n",
    "        poly = shape(feature[\"geometry\"])\n",
    "        feature[\"dist2poly1\"] = poly.distance(center) * 111194.93  # Degress to M considering earth\n",
    "        if feature[\"dist2poly1\"] <= radius:\n",
    "            feature.pop(\"geometry\", None)\n",
    "            results.append(feature)\n",
    "    return sorted(results, key=lambda d: d[\"dist2poly1\"])"
   ]
  },
  {
   "cell_type": "code",
   "execution_count": null,
   "id": "d760abda-1e87-4d45-b359-8a7e772e2ce9",
   "metadata": {},
   "outputs": [],
   "source": []
  }
 ],
 "metadata": {
  "kernelspec": {
   "display_name": "conda_python3",
   "language": "python",
   "name": "conda_python3"
  },
  "language_info": {
   "codemirror_mode": {
    "name": "ipython",
    "version": 3
   },
   "file_extension": ".py",
   "mimetype": "text/x-python",
   "name": "python",
   "nbconvert_exporter": "python",
   "pygments_lexer": "ipython3",
   "version": "3.10.8"
  }
 },
 "nbformat": 4,
 "nbformat_minor": 5
}
