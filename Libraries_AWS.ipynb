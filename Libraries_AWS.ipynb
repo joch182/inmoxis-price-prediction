{
 "cells": [
  {
   "cell_type": "markdown",
   "id": "381e4057-60d3-448c-9f56-7a4ac9fc9279",
   "metadata": {},
   "source": [
    "# Install libraries in AWS Jupyter"
   ]
  },
  {
   "cell_type": "code",
   "execution_count": 1,
   "id": "d7547f56-5ade-4c43-b7fc-012ceeccb465",
   "metadata": {
    "tags": []
   },
   "outputs": [
    {
     "name": "stdout",
     "output_type": "stream",
     "text": [
      "3.10.10\n"
     ]
    }
   ],
   "source": [
    "from platform import python_version\n",
    "print(python_version())"
   ]
  },
  {
   "cell_type": "code",
   "execution_count": 2,
   "id": "fdd3f56a-ce2e-46cf-8505-b7113a4f5379",
   "metadata": {
    "tags": []
   },
   "outputs": [
    {
     "name": "stdout",
     "output_type": "stream",
     "text": [
      "python3 is /home/ec2-user/anaconda3/envs/python3/bin/python3\n"
     ]
    }
   ],
   "source": [
    "!type python3"
   ]
  },
  {
   "cell_type": "code",
   "execution_count": 4,
   "id": "bdd7d392-d515-4000-8e08-beb7c08ff45d",
   "metadata": {
    "tags": []
   },
   "outputs": [
    {
     "name": "stdout",
     "output_type": "stream",
     "text": [
      "Looking in indexes: https://pypi.org/simple, https://pip.repos.neuron.amazonaws.com\n",
      "Requirement already satisfied: xgboost in /home/ec2-user/anaconda3/envs/python3/lib/python3.10/site-packages (1.7.6)\n",
      "Requirement already satisfied: numpy in /home/ec2-user/anaconda3/envs/python3/lib/python3.10/site-packages (from xgboost) (1.22.3)\n",
      "Requirement already satisfied: scipy in /home/ec2-user/anaconda3/envs/python3/lib/python3.10/site-packages (from xgboost) (1.10.1)\n",
      "Looking in indexes: https://pypi.org/simple, https://pip.repos.neuron.amazonaws.com\n",
      "Requirement already satisfied: pymongo in /home/ec2-user/anaconda3/envs/python3/lib/python3.10/site-packages (4.4.1)\n",
      "Requirement already satisfied: dnspython<3.0.0,>=1.16.0 in /home/ec2-user/anaconda3/envs/python3/lib/python3.10/site-packages (from pymongo) (2.4.1)\n",
      "Looking in indexes: https://pypi.org/simple, https://pip.repos.neuron.amazonaws.com\n",
      "Requirement already satisfied: shapely in /home/ec2-user/anaconda3/envs/python3/lib/python3.10/site-packages (2.0.1)\n",
      "Requirement already satisfied: numpy>=1.14 in /home/ec2-user/anaconda3/envs/python3/lib/python3.10/site-packages (from shapely) (1.22.3)\n",
      "Looking in indexes: https://pypi.org/simple, https://pip.repos.neuron.amazonaws.com\n",
      "Requirement already satisfied: geopy in /home/ec2-user/anaconda3/envs/python3/lib/python3.10/site-packages (2.3.0)\n",
      "Requirement already satisfied: geographiclib<3,>=1.52 in /home/ec2-user/anaconda3/envs/python3/lib/python3.10/site-packages (from geopy) (2.0)\n",
      "Looking in indexes: https://pypi.org/simple, https://pip.repos.neuron.amazonaws.com\n",
      "Collecting python-dotenv\n",
      "  Downloading python_dotenv-1.0.0-py3-none-any.whl (19 kB)\n",
      "Installing collected packages: python-dotenv\n",
      "Successfully installed python-dotenv-1.0.0\n"
     ]
    }
   ],
   "source": [
    "# !/home/ec2-user/anaconda3/envs/python3/bin/python3 -m pip install tensorflow\n",
    "# !/home/ec2-user/anaconda3/envs/python3/bin/python3 -m pip install tensorflow_decision_forests\n",
    "!/home/ec2-user/anaconda3/envs/python3/bin/python3 -m pip install xgboost\n",
    "!/home/ec2-user/anaconda3/envs/python3/bin/python3 -m pip install pymongo\n",
    "!/home/ec2-user/anaconda3/envs/python3/bin/python3 -m pip install shapely\n",
    "!/home/ec2-user/anaconda3/envs/python3/bin/python3 -m pip install geopy\n",
    "!/home/ec2-user/anaconda3/envs/python3/bin/python3 -m pip install python-dotenv"
   ]
  },
  {
   "cell_type": "code",
   "execution_count": null,
   "id": "b06c247e-a30a-43f7-b791-78a42a026e5e",
   "metadata": {},
   "outputs": [],
   "source": []
  }
 ],
 "metadata": {
  "kernelspec": {
   "display_name": "conda_python3",
   "language": "python",
   "name": "conda_python3"
  },
  "language_info": {
   "codemirror_mode": {
    "name": "ipython",
    "version": 3
   },
   "file_extension": ".py",
   "mimetype": "text/x-python",
   "name": "python",
   "nbconvert_exporter": "python",
   "pygments_lexer": "ipython3",
   "version": "3.10.10"
  }
 },
 "nbformat": 4,
 "nbformat_minor": 5
}
