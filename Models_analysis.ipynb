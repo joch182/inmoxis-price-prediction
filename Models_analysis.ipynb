{
 "cells": [
  {
   "cell_type": "code",
   "execution_count": 3,
   "id": "ce4bbd69-cce7-432f-a150-d473d88ef649",
   "metadata": {
    "tags": []
   },
   "outputs": [
    {
     "name": "stdout",
     "output_type": "stream",
     "text": [
      "python3 is /home/ec2-user/anaconda3/envs/python3/bin/python3\n",
      "Looking in indexes: https://pypi.org/simple, https://pip.repos.neuron.amazonaws.com\n",
      "Requirement already satisfied: xgboost in /home/ec2-user/anaconda3/envs/python3/lib/python3.10/site-packages (1.7.5)\n",
      "Requirement already satisfied: scipy in /home/ec2-user/anaconda3/envs/python3/lib/python3.10/site-packages (from xgboost) (1.10.0)\n",
      "Requirement already satisfied: numpy in /home/ec2-user/anaconda3/envs/python3/lib/python3.10/site-packages (from xgboost) (1.22.3)\n",
      "Imports finished...\n"
     ]
    }
   ],
   "source": [
    "%run Regression_model_functions.ipynb"
   ]
  },
  {
   "cell_type": "code",
   "execution_count": 5,
   "id": "054767f3-98a4-4a61-adeb-28e034df1b88",
   "metadata": {
    "tags": []
   },
   "outputs": [],
   "source": [
    "data_df = pd.read_csv('Data/20230409_Sales_HousesApartments_Bogota_Stratum4_price_and_pricem2.csv')\n",
    "data_df.drop('price', axis=1, inplace=True)\n",
    "data_df.dropna(inplace=True)"
   ]
  },
  {
   "cell_type": "code",
   "execution_count": 7,
   "id": "e0b02bc3-f838-4b85-98fb-7fc9cb857442",
   "metadata": {
    "tags": []
   },
   "outputs": [],
   "source": [
    "from sklearn.model_selection import train_test_split\n",
    "# Data split\n",
    "x = data_df.drop('price_m2',axis=1)\n",
    "y = data_df['price_m2']\n",
    "x_train, x_test, y_train, y_test = train_test_split(x, y, test_size = 0.2, random_state = 42)"
   ]
  },
  {
   "cell_type": "code",
   "execution_count": null,
   "id": "7589a805-0079-419e-86ba-42a235fc6b10",
   "metadata": {},
   "outputs": [],
   "source": [
    "# Results DF definition\n",
    "results = pd.DataFrame()\n",
    "# Evaluate all models available\n",
    "results = results.append(linear_regression(x_train, y_train, x_test, y_test), ignore_index=True)\n",
    "results = results.append(ransac(x_train, y_train, x_test, y_test), ignore_index=True)\n",
    "results = results.append(ridge(x_train, y_train, x_test, y_test), ignore_index=True)\n",
    "results = results.append(elasticnet(x_train, y_train, x_test, y_test), ignore_index=True)\n",
    "results = results.append(linearsvr(x_train, y_train, x_test, y_test), ignore_index=True)\n",
    "results = results.append(bayesianridge(x_train, y_train, x_test, y_test), ignore_index=True)\n",
    "results = results.append(lasso(x_train, y_train, x_test, y_test), ignore_index=True)\n",
    "results = results.append(decisiontree_regressor(x_train, y_train, x_test, y_test), ignore_index=True)\n",
    "results = results.append(randomforest_regressor(x_train, y_train, x_test, y_test), ignore_index=True)\n",
    "results = results.append(gradientboost_regressor(x_train, y_train, x_test, y_test), ignore_index=True)\n",
    "results = results.append(sgd_regressor(x_train, y_train, x_test, y_test), ignore_index=True)\n",
    "results = results.append(huber_regressor(x_train, y_train, x_test, y_test), ignore_index=True)\n",
    "results = results.append(theilsen_regressor(x_train, y_train, x_test, y_test), ignore_index=True)\n",
    "results = results.append(xgboost(x_train, y_train, x_test, y_test), ignore_index=True)\n",
    "print(results)\n",
    "print(\"ANALISIS CULMINADO\")"
   ]
  }
 ],
 "metadata": {
  "kernelspec": {
   "display_name": "conda_python3",
   "language": "python",
   "name": "conda_python3"
  },
  "language_info": {
   "codemirror_mode": {
    "name": "ipython",
    "version": 3
   },
   "file_extension": ".py",
   "mimetype": "text/x-python",
   "name": "python",
   "nbconvert_exporter": "python",
   "pygments_lexer": "ipython3",
   "version": "3.10.8"
  }
 },
 "nbformat": 4,
 "nbformat_minor": 5
}
