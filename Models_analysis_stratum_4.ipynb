{
 "cells": [
  {
   "cell_type": "code",
   "execution_count": null,
   "id": "ce4bbd69-cce7-432f-a150-d473d88ef649",
   "metadata": {
    "tags": []
   },
   "outputs": [],
   "source": [
    "%run Regression_model_functions.ipynb\n",
    "pd.set_option('display.max_columns', None)\n",
    "pd.set_option('display.expand_frame_repr', True)"
   ]
  },
  {
   "cell_type": "code",
   "execution_count": null,
   "id": "054767f3-98a4-4a61-adeb-28e034df1b88",
   "metadata": {
    "tags": []
   },
   "outputs": [],
   "source": [
    "# Import Dataframe and perform any filter before starting analysis\n",
    "data_df = pd.read_csv('Data/20230409_Sales_HousesApartments_Bogota_Stratum4_price_and_pricem2.csv')\n",
    "data_df.drop('price', axis=1, inplace=True)\n",
    "data_df.dropna(inplace=True)"
   ]
  },
  {
   "cell_type": "code",
   "execution_count": null,
   "id": "e0b02bc3-f838-4b85-98fb-7fc9cb857442",
   "metadata": {
    "tags": []
   },
   "outputs": [],
   "source": [
    "from sklearn.model_selection import train_test_split\n",
    "# Data split\n",
    "x = data_df.drop('price_m2',axis=1)\n",
    "y = data_df['price_m2']\n",
    "x_train, x_test, y_train, y_test = train_test_split(x, y, test_size = 0.2, random_state = 42)"
   ]
  },
  {
   "cell_type": "code",
   "execution_count": null,
   "id": "084a3531-d185-450e-9254-e9b3c8f2d57d",
   "metadata": {
    "tags": []
   },
   "outputs": [],
   "source": [
    "def execute_analysis(results):\n",
    "    results = pd.concat([results,linear_regression(x_train, y_train, x_test, y_test)], ignore_index=True)\n",
    "    # results = pd.concat([results,ransac(x_train, y_train, x_test, y_test)], ignore_index=True)\n",
    "    results = pd.concat([results,ridge(x_train, y_train, x_test, y_test)], ignore_index=True)\n",
    "    # results = pd.concat([results,elasticnet(x_train, y_train, x_test, y_test)], ignore_index=True)\n",
    "    # results = pd.concat([results,linearsvr(x_train, y_train, x_test, y_test)], ignore_index=True)\n",
    "    # results = pd.concat([results,bayesianridge(x_train, y_train, x_test, y_test)], ignore_index=True)\n",
    "    results = pd.concat([results,lasso(x_train, y_train, x_test, y_test)], ignore_index=True)\n",
    "    results = pd.concat([results,decisiontree_regressor(x_train, y_train, x_test, y_test)], ignore_index=True)\n",
    "    results = pd.concat([results,randomforest_regressor(x_train, y_train, x_test, y_test)], ignore_index=True)\n",
    "    results = pd.concat([results,gradientboost_regressor(x_train, y_train, x_test, y_test)], ignore_index=True)\n",
    "    # results = pd.concat([results,sgd_regressor(x_train, y_train, x_test, y_test)], ignore_index=True)\n",
    "    # results = pd.concat([results,huber_regressor(x_train, y_train, x_test, y_test)], ignore_index=True)\n",
    "    # results = pd.concat([results,theilsen_regressor(x_train, y_train, x_test, y_test)], ignore_index=True)\n",
    "    results = pd.concat([results,xgboost(x_train, y_train, x_test, y_test)], ignore_index=True)\n",
    "    print(\"--------------- RESULTADOS FINALES ---------------\")\n",
    "    display(results)\n",
    "    print(\"--------------- ANALISIS CULMINADO ---------------\")"
   ]
  },
  {
   "cell_type": "code",
   "execution_count": null,
   "id": "7589a805-0079-419e-86ba-42a235fc6b10",
   "metadata": {
    "tags": []
   },
   "outputs": [],
   "source": [
    "# Results DF definition\n",
    "results = pd.DataFrame()\n",
    "# Evaluate all models available\n",
    "results = results.append(linear_regression(x_train, y_train, x_test, y_test), ignore_index=True)\n",
    "results = results.append(ransac(x_train, y_train, x_test, y_test), ignore_index=True)\n",
    "results = results.append(ridge(x_train, y_train, x_test, y_test), ignore_index=True)\n",
    "results = results.append(elasticnet(x_train, y_train, x_test, y_test), ignore_index=True)\n",
    "results = results.append(linearsvr(x_train, y_train, x_test, y_test), ignore_index=True)\n",
    "results = results.append(bayesianridge(x_train, y_train, x_test, y_test), ignore_index=True)\n",
    "results = results.append(lasso(x_train, y_train, x_test, y_test), ignore_index=True)\n",
    "results = results.append(decisiontree_regressor(x_train, y_train, x_test, y_test), ignore_index=True)\n",
    "results = results.append(randomforest_regressor(x_train, y_train, x_test, y_test), ignore_index=True)\n",
    "results = results.append(gradientboost_regressor(x_train, y_train, x_test, y_test), ignore_index=True)\n",
    "results = results.append(sgd_regressor(x_train, y_train, x_test, y_test), ignore_index=True)\n",
    "results = results.append(huber_regressor(x_train, y_train, x_test, y_test), ignore_index=True)\n",
    "results = results.append(theilsen_regressor(x_train, y_train, x_test, y_test), ignore_index=True)\n",
    "results = results.append(xgboost(x_train, y_train, x_test, y_test), ignore_index=True)\n",
    "print(\"--------------- RESULTADOS FINALES ---------------\")\n",
    "display(results)\n",
    "print(\"--------------- ANALISIS CULMINADO ---------------\")"
   ]
  },
  {
   "cell_type": "code",
   "execution_count": 43,
   "id": "2243571c-6109-47f6-a28a-c229110818d0",
   "metadata": {
    "tags": []
   },
   "outputs": [
    {
     "data": {
      "text/html": [
       "<div>\n",
       "<style scoped>\n",
       "    .dataframe tbody tr th:only-of-type {\n",
       "        vertical-align: middle;\n",
       "    }\n",
       "\n",
       "    .dataframe tbody tr th {\n",
       "        vertical-align: top;\n",
       "    }\n",
       "\n",
       "    .dataframe thead th {\n",
       "        text-align: right;\n",
       "    }\n",
       "</style>\n",
       "<table border=\"1\" class=\"dataframe\">\n",
       "  <thead>\n",
       "    <tr style=\"text-align: center;\">\n",
       "      <th></th>\n",
       "      <th>Model</th>\n",
       "      <th>Parameters</th>\n",
       "      <th>RMSE</th>\n",
       "      <th>R2 Score</th>\n",
       "      <th>MAE</th>\n",
       "    </tr>\n",
       "  </thead>\n",
       "  <tbody>\n",
       "    <tr>\n",
       "      <th>0</th>\n",
       "      <td>Lineal Regression</td>\n",
       "      <td>NA</td>\n",
       "      <td>971323.2143554133</td>\n",
       "      <td>0.5151161418030812</td>\n",
       "      <td>720827.8563465464</td>\n",
       "    </tr>\n",
       "    <tr>\n",
       "      <th>1</th>\n",
       "      <td>RANSAC</td>\n",
       "      <td>NA</td>\n",
       "      <td>1381668.6657211366</td>\n",
       "      <td>0.01888931173144237</td>\n",
       "      <td>886134.1739026271</td>\n",
       "    </tr>\n",
       "    <tr>\n",
       "      <th>2</th>\n",
       "      <td>Ridge</td>\n",
       "      <td>NA</td>\n",
       "      <td>972036.1932582464</td>\n",
       "      <td>0.5144040434256921</td>\n",
       "      <td>721470.9114683579</td>\n",
       "    </tr>\n",
       "    <tr>\n",
       "      <th>3</th>\n",
       "      <td>ElasticNet</td>\n",
       "      <td>NA</td>\n",
       "      <td>1157930.0163114488</td>\n",
       "      <td>0.3109117985906098</td>\n",
       "      <td>872411.6662853579</td>\n",
       "    </tr>\n",
       "    <tr>\n",
       "      <th>4</th>\n",
       "      <td>Linear SVR</td>\n",
       "      <td>{'C': 1, 'epsilon': 0, 'loss': 'squared_epsilo...</td>\n",
       "      <td>1374209.334480407</td>\n",
       "      <td>0.02945432558301031</td>\n",
       "      <td>1001838.7658780284</td>\n",
       "    </tr>\n",
       "    <tr>\n",
       "      <th>5</th>\n",
       "      <td>Bayesian Ridge</td>\n",
       "      <td>NA</td>\n",
       "      <td>1376130.9315928982</td>\n",
       "      <td>0.026738143034777617</td>\n",
       "      <td>1052849.4913070505</td>\n",
       "    </tr>\n",
       "    <tr>\n",
       "      <th>6</th>\n",
       "      <td>Lasso</td>\n",
       "      <td>NA</td>\n",
       "      <td>971324.3790079753</td>\n",
       "      <td>0.5151149790149219</td>\n",
       "      <td>720829.1329803128</td>\n",
       "    </tr>\n",
       "    <tr>\n",
       "      <th>7</th>\n",
       "      <td>DecissionTree Regressor</td>\n",
       "      <td>{'max_features': 'sqrt', 'min_samples_leaf': 5...</td>\n",
       "      <td>882845.6583080482</td>\n",
       "      <td>0.5994287634869679</td>\n",
       "      <td>608447.152279502</td>\n",
       "    </tr>\n",
       "    <tr>\n",
       "      <th>8</th>\n",
       "      <td>RandomForest Regressor</td>\n",
       "      <td>{'max_features': 0.6, 'min_samples_leaf': 1, '...</td>\n",
       "      <td>648631.5577891436</td>\n",
       "      <td>0.783774784324029</td>\n",
       "      <td>405019.1518584501</td>\n",
       "    </tr>\n",
       "    <tr>\n",
       "      <th>9</th>\n",
       "      <td>Gradient Boost</td>\n",
       "      <td>{'learning_rate': 0.1, 'min_samples_split': 2,...</td>\n",
       "      <td>747835.0520407935</td>\n",
       "      <td>0.7125767972221774</td>\n",
       "      <td>532034.9705325855</td>\n",
       "    </tr>\n",
       "    <tr>\n",
       "      <th>10</th>\n",
       "      <td>SGD</td>\n",
       "      <td>{'alpha': 0.1, 'epsilon': 0.1, 'eta0': 0.1, 'l...</td>\n",
       "      <td>6747900987854390.0</td>\n",
       "      <td>-2.340170999257635e+19</td>\n",
       "      <td>6066821383323993.0</td>\n",
       "    </tr>\n",
       "    <tr>\n",
       "      <th>11</th>\n",
       "      <td>Huber</td>\n",
       "      <td>{'alpha': 0.1, 'epsilon': 3, 'max_iter': 100}</td>\n",
       "      <td>1313542.1683745498</td>\n",
       "      <td>0.11325606090692153</td>\n",
       "      <td>969636.6582413218</td>\n",
       "    </tr>\n",
       "    <tr>\n",
       "      <th>12</th>\n",
       "      <td>TheilSen</td>\n",
       "      <td>{'max_iter': 400}</td>\n",
       "      <td>9828820.492042342</td>\n",
       "      <td>-48.649284793390514</td>\n",
       "      <td>4511642.9987018285</td>\n",
       "    </tr>\n",
       "    <tr>\n",
       "      <th>13</th>\n",
       "      <td>XGBoost</td>\n",
       "      <td>{'learning_rate': 0.01, 'max_depth': 100, 'min...</td>\n",
       "      <td>619975.4068913733</td>\n",
       "      <td>0.8024581509757344</td>\n",
       "      <td>374743.0888041896</td>\n",
       "    </tr>\n",
       "  </tbody>\n",
       "</table>\n",
       "</div>"
      ],
      "text/plain": [
       "            Model                               Parameters                             RMSE                R2 Score                MAE        \n",
       "0         Lineal Regression                                                 NA   971323.2143554133      0.5151161418030812   720827.8563465464\n",
       "1                    RANSAC                                                 NA  1381668.6657211366     0.01888931173144237   886134.1739026271\n",
       "2                     Ridge                                                 NA   972036.1932582464      0.5144040434256921   721470.9114683579\n",
       "3                ElasticNet                                                 NA  1157930.0163114488      0.3109117985906098   872411.6662853579\n",
       "4                Linear SVR  {'C': 1, 'epsilon': 0, 'loss': 'squared_epsilo...   1374209.334480407     0.02945432558301031  1001838.7658780284\n",
       "5            Bayesian Ridge                                                 NA  1376130.9315928982    0.026738143034777617  1052849.4913070505\n",
       "6                     Lasso                                                 NA   971324.3790079753      0.5151149790149219   720829.1329803128\n",
       "7   DecissionTree Regressor  {'max_features': 'sqrt', 'min_samples_leaf': 5...   882845.6583080482      0.5994287634869679    608447.152279502\n",
       "8    RandomForest Regressor  {'max_features': 0.6, 'min_samples_leaf': 1, '...   648631.5577891436       0.783774784324029   405019.1518584501\n",
       "9            Gradient Boost  {'learning_rate': 0.1, 'min_samples_split': 2,...   747835.0520407935      0.7125767972221774   532034.9705325855\n",
       "10                      SGD  {'alpha': 0.1, 'epsilon': 0.1, 'eta0': 0.1, 'l...  6747900987854390.0  -2.340170999257635e+19  6066821383323993.0\n",
       "11                    Huber      {'alpha': 0.1, 'epsilon': 3, 'max_iter': 100}  1313542.1683745498     0.11325606090692153   969636.6582413218\n",
       "12                 TheilSen                                  {'max_iter': 400}   9828820.492042342     -48.649284793390514  4511642.9987018285\n",
       "13                  XGBoost  {'learning_rate': 0.01, 'max_depth': 100, 'min...   619975.4068913733      0.8024581509757344   374743.0888041896"
      ]
     },
     "metadata": {},
     "output_type": "display_data"
    }
   ],
   "source": [
    "display(results)"
   ]
  },
  {
   "cell_type": "code",
   "execution_count": 44,
   "id": "dd671721-0009-4038-b4f8-c5a539195950",
   "metadata": {
    "tags": []
   },
   "outputs": [],
   "source": [
    "# Import Dataframe and perform any filter before starting analysis\n",
    "data_df = pd.read_csv('Data/20230409_Sales_HousesApartments_Bogota_Stratum4_price_and_pricem2.csv')\n",
    "data_df.drop('price', axis=1, inplace=True)\n",
    "data_df = data_df[data_df['price_m2'] <= 15000000]\n",
    "data_df = data_df[data_df['total_area_m2'] <= 400]\n",
    "data_df = data_df[data_df['administration_price'] <= 1500000]\n",
    "data_df.dropna(inplace=True)"
   ]
  },
  {
   "cell_type": "code",
   "execution_count": null,
   "id": "e197fdd9-1dc5-404b-b212-f01d3218084a",
   "metadata": {
    "tags": []
   },
   "outputs": [
    {
     "data": {
      "text/html": [
       "<div>\n",
       "<style scoped>\n",
       "    .dataframe tbody tr th:only-of-type {\n",
       "        vertical-align: middle;\n",
       "    }\n",
       "\n",
       "    .dataframe tbody tr th {\n",
       "        vertical-align: top;\n",
       "    }\n",
       "\n",
       "    .dataframe thead th {\n",
       "        text-align: right;\n",
       "    }\n",
       "</style>\n",
       "<table border=\"1\" class=\"dataframe\">\n",
       "  <thead>\n",
       "    <tr style=\"text-align: center;\">\n",
       "      <th></th>\n",
       "      <th>Model</th>\n",
       "      <th>Parameters</th>\n",
       "      <th>RMSE</th>\n",
       "      <th>R2 Score</th>\n",
       "      <th>MAE</th>\n",
       "    </tr>\n",
       "  </thead>\n",
       "  <tbody>\n",
       "    <tr>\n",
       "      <th>0</th>\n",
       "      <td>Lineal Regression</td>\n",
       "      <td>NA</td>\n",
       "      <td>971323.21</td>\n",
       "      <td>0.52</td>\n",
       "      <td>720827.86</td>\n",
       "    </tr>\n",
       "  </tbody>\n",
       "</table>\n",
       "</div>"
      ],
      "text/plain": [
       "        Model        Parameters    RMSE    R2 Score    MAE    \n",
       "0  Lineal Regression     NA      971323.21   0.52    720827.86"
      ]
     },
     "metadata": {},
     "output_type": "display_data"
    },
    {
     "name": "stderr",
     "output_type": "stream",
     "text": [
      "/tmp/ipykernel_10927/383821282.py:2: FutureWarning: The frame.append method is deprecated and will be removed from pandas in a future version. Use pandas.concat instead.\n",
      "  results = results.append(linear_regression(x_train, y_train, x_test, y_test), ignore_index=True)\n"
     ]
    },
    {
     "data": {
      "text/html": [
       "<div>\n",
       "<style scoped>\n",
       "    .dataframe tbody tr th:only-of-type {\n",
       "        vertical-align: middle;\n",
       "    }\n",
       "\n",
       "    .dataframe tbody tr th {\n",
       "        vertical-align: top;\n",
       "    }\n",
       "\n",
       "    .dataframe thead th {\n",
       "        text-align: right;\n",
       "    }\n",
       "</style>\n",
       "<table border=\"1\" class=\"dataframe\">\n",
       "  <thead>\n",
       "    <tr style=\"text-align: center;\">\n",
       "      <th></th>\n",
       "      <th>Model</th>\n",
       "      <th>Parameters</th>\n",
       "      <th>RMSE</th>\n",
       "      <th>R2 Score</th>\n",
       "      <th>MAE</th>\n",
       "    </tr>\n",
       "  </thead>\n",
       "  <tbody>\n",
       "    <tr>\n",
       "      <th>0</th>\n",
       "      <td>RANSAC</td>\n",
       "      <td>NA</td>\n",
       "      <td>1149162.95</td>\n",
       "      <td>0.32</td>\n",
       "      <td>809762.03</td>\n",
       "    </tr>\n",
       "  </tbody>\n",
       "</table>\n",
       "</div>"
      ],
      "text/plain": [
       "   Model  Parameters     RMSE    R2 Score    MAE    \n",
       "0  RANSAC     NA      1149162.95   0.32    809762.03"
      ]
     },
     "metadata": {},
     "output_type": "display_data"
    },
    {
     "name": "stderr",
     "output_type": "stream",
     "text": [
      "/tmp/ipykernel_10927/383821282.py:3: FutureWarning: The frame.append method is deprecated and will be removed from pandas in a future version. Use pandas.concat instead.\n",
      "  results = results.append(ransac(x_train, y_train, x_test, y_test), ignore_index=True)\n"
     ]
    },
    {
     "data": {
      "text/html": [
       "<div>\n",
       "<style scoped>\n",
       "    .dataframe tbody tr th:only-of-type {\n",
       "        vertical-align: middle;\n",
       "    }\n",
       "\n",
       "    .dataframe tbody tr th {\n",
       "        vertical-align: top;\n",
       "    }\n",
       "\n",
       "    .dataframe thead th {\n",
       "        text-align: right;\n",
       "    }\n",
       "</style>\n",
       "<table border=\"1\" class=\"dataframe\">\n",
       "  <thead>\n",
       "    <tr style=\"text-align: center;\">\n",
       "      <th></th>\n",
       "      <th>Model</th>\n",
       "      <th>Parameters</th>\n",
       "      <th>RMSE</th>\n",
       "      <th>R2 Score</th>\n",
       "      <th>MAE</th>\n",
       "    </tr>\n",
       "  </thead>\n",
       "  <tbody>\n",
       "    <tr>\n",
       "      <th>0</th>\n",
       "      <td>Ridge</td>\n",
       "      <td>NA</td>\n",
       "      <td>972036.1900000001</td>\n",
       "      <td>0.51</td>\n",
       "      <td>721470.91</td>\n",
       "    </tr>\n",
       "  </tbody>\n",
       "</table>\n",
       "</div>"
      ],
      "text/plain": [
       "  Model  Parameters        RMSE        R2 Score    MAE    \n",
       "0  Ridge     NA      972036.1900000001   0.51    721470.91"
      ]
     },
     "metadata": {},
     "output_type": "display_data"
    },
    {
     "name": "stderr",
     "output_type": "stream",
     "text": [
      "/tmp/ipykernel_10927/383821282.py:4: FutureWarning: The frame.append method is deprecated and will be removed from pandas in a future version. Use pandas.concat instead.\n",
      "  results = results.append(ridge(x_train, y_train, x_test, y_test), ignore_index=True)\n"
     ]
    },
    {
     "data": {
      "text/html": [
       "<div>\n",
       "<style scoped>\n",
       "    .dataframe tbody tr th:only-of-type {\n",
       "        vertical-align: middle;\n",
       "    }\n",
       "\n",
       "    .dataframe tbody tr th {\n",
       "        vertical-align: top;\n",
       "    }\n",
       "\n",
       "    .dataframe thead th {\n",
       "        text-align: right;\n",
       "    }\n",
       "</style>\n",
       "<table border=\"1\" class=\"dataframe\">\n",
       "  <thead>\n",
       "    <tr style=\"text-align: center;\">\n",
       "      <th></th>\n",
       "      <th>Model</th>\n",
       "      <th>Parameters</th>\n",
       "      <th>RMSE</th>\n",
       "      <th>R2 Score</th>\n",
       "      <th>MAE</th>\n",
       "    </tr>\n",
       "  </thead>\n",
       "  <tbody>\n",
       "    <tr>\n",
       "      <th>0</th>\n",
       "      <td>ElasticNet</td>\n",
       "      <td>NA</td>\n",
       "      <td>1157930.02</td>\n",
       "      <td>0.31</td>\n",
       "      <td>872411.67</td>\n",
       "    </tr>\n",
       "  </tbody>\n",
       "</table>\n",
       "</div>"
      ],
      "text/plain": [
       "     Model    Parameters     RMSE    R2 Score    MAE    \n",
       "0  ElasticNet     NA      1157930.02   0.31    872411.67"
      ]
     },
     "metadata": {},
     "output_type": "display_data"
    },
    {
     "name": "stderr",
     "output_type": "stream",
     "text": [
      "/tmp/ipykernel_10927/383821282.py:5: FutureWarning: The frame.append method is deprecated and will be removed from pandas in a future version. Use pandas.concat instead.\n",
      "  results = results.append(elasticnet(x_train, y_train, x_test, y_test), ignore_index=True)\n"
     ]
    },
    {
     "name": "stdout",
     "output_type": "stream",
     "text": [
      "Fitting 2 folds for each of 32 candidates, totalling 64 fits\n"
     ]
    },
    {
     "name": "stderr",
     "output_type": "stream",
     "text": [
      "/home/ec2-user/anaconda3/envs/python3/lib/python3.10/site-packages/sklearn/svm/_base.py:1244: ConvergenceWarning: Liblinear failed to converge, increase the number of iterations.\n",
      "  warnings.warn(\n"
     ]
    },
    {
     "name": "stdout",
     "output_type": "stream",
     "text": [
      "[CV] END C=1, epsilon=0, loss=epsilon_insensitive, max_iter=10000; total time=   6.1s\n"
     ]
    },
    {
     "name": "stderr",
     "output_type": "stream",
     "text": [
      "/home/ec2-user/anaconda3/envs/python3/lib/python3.10/site-packages/sklearn/svm/_base.py:1244: ConvergenceWarning: Liblinear failed to converge, increase the number of iterations.\n",
      "  warnings.warn(\n"
     ]
    },
    {
     "name": "stdout",
     "output_type": "stream",
     "text": [
      "[CV] END C=1, epsilon=0, loss=epsilon_insensitive, max_iter=10000; total time=   6.1s\n"
     ]
    },
    {
     "name": "stderr",
     "output_type": "stream",
     "text": [
      "/home/ec2-user/anaconda3/envs/python3/lib/python3.10/site-packages/sklearn/svm/_base.py:1244: ConvergenceWarning: Liblinear failed to converge, increase the number of iterations.\n",
      "  warnings.warn(\n"
     ]
    },
    {
     "name": "stdout",
     "output_type": "stream",
     "text": [
      "[CV] END C=1, epsilon=0, loss=epsilon_insensitive, max_iter=20000; total time=  12.2s\n"
     ]
    },
    {
     "name": "stderr",
     "output_type": "stream",
     "text": [
      "/home/ec2-user/anaconda3/envs/python3/lib/python3.10/site-packages/sklearn/svm/_base.py:1244: ConvergenceWarning: Liblinear failed to converge, increase the number of iterations.\n",
      "  warnings.warn(\n"
     ]
    },
    {
     "name": "stdout",
     "output_type": "stream",
     "text": [
      "[CV] END C=1, epsilon=0, loss=epsilon_insensitive, max_iter=20000; total time=  12.2s\n"
     ]
    },
    {
     "name": "stderr",
     "output_type": "stream",
     "text": [
      "/home/ec2-user/anaconda3/envs/python3/lib/python3.10/site-packages/sklearn/svm/_base.py:1244: ConvergenceWarning: Liblinear failed to converge, increase the number of iterations.\n",
      "  warnings.warn(\n"
     ]
    },
    {
     "name": "stdout",
     "output_type": "stream",
     "text": [
      "[CV] END C=1, epsilon=0, loss=squared_epsilon_insensitive, max_iter=10000; total time=   6.1s\n"
     ]
    },
    {
     "name": "stderr",
     "output_type": "stream",
     "text": [
      "/home/ec2-user/anaconda3/envs/python3/lib/python3.10/site-packages/sklearn/svm/_base.py:1244: ConvergenceWarning: Liblinear failed to converge, increase the number of iterations.\n",
      "  warnings.warn(\n"
     ]
    },
    {
     "name": "stdout",
     "output_type": "stream",
     "text": [
      "[CV] END C=1, epsilon=0, loss=squared_epsilon_insensitive, max_iter=10000; total time=   6.3s\n"
     ]
    },
    {
     "name": "stderr",
     "output_type": "stream",
     "text": [
      "/home/ec2-user/anaconda3/envs/python3/lib/python3.10/site-packages/sklearn/svm/_base.py:1244: ConvergenceWarning: Liblinear failed to converge, increase the number of iterations.\n",
      "  warnings.warn(\n"
     ]
    },
    {
     "name": "stdout",
     "output_type": "stream",
     "text": [
      "[CV] END C=1, epsilon=0, loss=squared_epsilon_insensitive, max_iter=20000; total time=  11.7s\n"
     ]
    },
    {
     "name": "stderr",
     "output_type": "stream",
     "text": [
      "/home/ec2-user/anaconda3/envs/python3/lib/python3.10/site-packages/sklearn/svm/_base.py:1244: ConvergenceWarning: Liblinear failed to converge, increase the number of iterations.\n",
      "  warnings.warn(\n"
     ]
    },
    {
     "name": "stdout",
     "output_type": "stream",
     "text": [
      "[CV] END C=1, epsilon=0, loss=squared_epsilon_insensitive, max_iter=20000; total time=  12.4s\n"
     ]
    },
    {
     "name": "stderr",
     "output_type": "stream",
     "text": [
      "/home/ec2-user/anaconda3/envs/python3/lib/python3.10/site-packages/sklearn/svm/_base.py:1244: ConvergenceWarning: Liblinear failed to converge, increase the number of iterations.\n",
      "  warnings.warn(\n"
     ]
    },
    {
     "name": "stdout",
     "output_type": "stream",
     "text": [
      "[CV] END C=1, epsilon=0.01, loss=epsilon_insensitive, max_iter=10000; total time=   6.0s\n"
     ]
    },
    {
     "name": "stderr",
     "output_type": "stream",
     "text": [
      "/home/ec2-user/anaconda3/envs/python3/lib/python3.10/site-packages/sklearn/svm/_base.py:1244: ConvergenceWarning: Liblinear failed to converge, increase the number of iterations.\n",
      "  warnings.warn(\n"
     ]
    },
    {
     "name": "stdout",
     "output_type": "stream",
     "text": [
      "[CV] END C=1, epsilon=0.01, loss=epsilon_insensitive, max_iter=10000; total time=   6.0s\n"
     ]
    },
    {
     "name": "stderr",
     "output_type": "stream",
     "text": [
      "/home/ec2-user/anaconda3/envs/python3/lib/python3.10/site-packages/sklearn/svm/_base.py:1244: ConvergenceWarning: Liblinear failed to converge, increase the number of iterations.\n",
      "  warnings.warn(\n"
     ]
    },
    {
     "name": "stdout",
     "output_type": "stream",
     "text": [
      "[CV] END C=1, epsilon=0.01, loss=epsilon_insensitive, max_iter=20000; total time=  12.3s\n"
     ]
    },
    {
     "name": "stderr",
     "output_type": "stream",
     "text": [
      "/home/ec2-user/anaconda3/envs/python3/lib/python3.10/site-packages/sklearn/svm/_base.py:1244: ConvergenceWarning: Liblinear failed to converge, increase the number of iterations.\n",
      "  warnings.warn(\n"
     ]
    },
    {
     "name": "stdout",
     "output_type": "stream",
     "text": [
      "[CV] END C=1, epsilon=0.01, loss=epsilon_insensitive, max_iter=20000; total time=  12.2s\n"
     ]
    },
    {
     "name": "stderr",
     "output_type": "stream",
     "text": [
      "/home/ec2-user/anaconda3/envs/python3/lib/python3.10/site-packages/sklearn/svm/_base.py:1244: ConvergenceWarning: Liblinear failed to converge, increase the number of iterations.\n",
      "  warnings.warn(\n"
     ]
    },
    {
     "name": "stdout",
     "output_type": "stream",
     "text": [
      "[CV] END C=1, epsilon=0.01, loss=squared_epsilon_insensitive, max_iter=10000; total time=   6.1s\n"
     ]
    },
    {
     "name": "stderr",
     "output_type": "stream",
     "text": [
      "/home/ec2-user/anaconda3/envs/python3/lib/python3.10/site-packages/sklearn/svm/_base.py:1244: ConvergenceWarning: Liblinear failed to converge, increase the number of iterations.\n",
      "  warnings.warn(\n"
     ]
    },
    {
     "name": "stdout",
     "output_type": "stream",
     "text": [
      "[CV] END C=1, epsilon=0.01, loss=squared_epsilon_insensitive, max_iter=10000; total time=   6.2s\n"
     ]
    },
    {
     "name": "stderr",
     "output_type": "stream",
     "text": [
      "/home/ec2-user/anaconda3/envs/python3/lib/python3.10/site-packages/sklearn/svm/_base.py:1244: ConvergenceWarning: Liblinear failed to converge, increase the number of iterations.\n",
      "  warnings.warn(\n"
     ]
    },
    {
     "name": "stdout",
     "output_type": "stream",
     "text": [
      "[CV] END C=1, epsilon=0.01, loss=squared_epsilon_insensitive, max_iter=20000; total time=  12.3s\n"
     ]
    },
    {
     "name": "stderr",
     "output_type": "stream",
     "text": [
      "/home/ec2-user/anaconda3/envs/python3/lib/python3.10/site-packages/sklearn/svm/_base.py:1244: ConvergenceWarning: Liblinear failed to converge, increase the number of iterations.\n",
      "  warnings.warn(\n"
     ]
    },
    {
     "name": "stdout",
     "output_type": "stream",
     "text": [
      "[CV] END C=1, epsilon=0.01, loss=squared_epsilon_insensitive, max_iter=20000; total time=  12.3s\n"
     ]
    },
    {
     "name": "stderr",
     "output_type": "stream",
     "text": [
      "/home/ec2-user/anaconda3/envs/python3/lib/python3.10/site-packages/sklearn/svm/_base.py:1244: ConvergenceWarning: Liblinear failed to converge, increase the number of iterations.\n",
      "  warnings.warn(\n"
     ]
    },
    {
     "name": "stdout",
     "output_type": "stream",
     "text": [
      "[CV] END C=1, epsilon=0.1, loss=epsilon_insensitive, max_iter=10000; total time=   6.1s\n"
     ]
    },
    {
     "name": "stderr",
     "output_type": "stream",
     "text": [
      "/home/ec2-user/anaconda3/envs/python3/lib/python3.10/site-packages/sklearn/svm/_base.py:1244: ConvergenceWarning: Liblinear failed to converge, increase the number of iterations.\n",
      "  warnings.warn(\n"
     ]
    },
    {
     "name": "stdout",
     "output_type": "stream",
     "text": [
      "[CV] END C=1, epsilon=0.1, loss=epsilon_insensitive, max_iter=10000; total time=   6.0s\n"
     ]
    },
    {
     "name": "stderr",
     "output_type": "stream",
     "text": [
      "/home/ec2-user/anaconda3/envs/python3/lib/python3.10/site-packages/sklearn/svm/_base.py:1244: ConvergenceWarning: Liblinear failed to converge, increase the number of iterations.\n",
      "  warnings.warn(\n"
     ]
    },
    {
     "name": "stdout",
     "output_type": "stream",
     "text": [
      "[CV] END C=1, epsilon=0.1, loss=epsilon_insensitive, max_iter=20000; total time=  11.8s\n"
     ]
    },
    {
     "name": "stderr",
     "output_type": "stream",
     "text": [
      "/home/ec2-user/anaconda3/envs/python3/lib/python3.10/site-packages/sklearn/svm/_base.py:1244: ConvergenceWarning: Liblinear failed to converge, increase the number of iterations.\n",
      "  warnings.warn(\n"
     ]
    },
    {
     "name": "stdout",
     "output_type": "stream",
     "text": [
      "[CV] END C=1, epsilon=0.1, loss=epsilon_insensitive, max_iter=20000; total time=  12.5s\n"
     ]
    },
    {
     "name": "stderr",
     "output_type": "stream",
     "text": [
      "/home/ec2-user/anaconda3/envs/python3/lib/python3.10/site-packages/sklearn/svm/_base.py:1244: ConvergenceWarning: Liblinear failed to converge, increase the number of iterations.\n",
      "  warnings.warn(\n"
     ]
    },
    {
     "name": "stdout",
     "output_type": "stream",
     "text": [
      "[CV] END C=1, epsilon=0.1, loss=squared_epsilon_insensitive, max_iter=10000; total time=   6.1s\n"
     ]
    },
    {
     "name": "stderr",
     "output_type": "stream",
     "text": [
      "/home/ec2-user/anaconda3/envs/python3/lib/python3.10/site-packages/sklearn/svm/_base.py:1244: ConvergenceWarning: Liblinear failed to converge, increase the number of iterations.\n",
      "  warnings.warn(\n"
     ]
    },
    {
     "name": "stdout",
     "output_type": "stream",
     "text": [
      "[CV] END C=1, epsilon=0.1, loss=squared_epsilon_insensitive, max_iter=10000; total time=   6.2s\n"
     ]
    },
    {
     "name": "stderr",
     "output_type": "stream",
     "text": [
      "/home/ec2-user/anaconda3/envs/python3/lib/python3.10/site-packages/sklearn/svm/_base.py:1244: ConvergenceWarning: Liblinear failed to converge, increase the number of iterations.\n",
      "  warnings.warn(\n"
     ]
    },
    {
     "name": "stdout",
     "output_type": "stream",
     "text": [
      "[CV] END C=1, epsilon=0.1, loss=squared_epsilon_insensitive, max_iter=20000; total time=  12.1s\n"
     ]
    },
    {
     "name": "stderr",
     "output_type": "stream",
     "text": [
      "/home/ec2-user/anaconda3/envs/python3/lib/python3.10/site-packages/sklearn/svm/_base.py:1244: ConvergenceWarning: Liblinear failed to converge, increase the number of iterations.\n",
      "  warnings.warn(\n"
     ]
    },
    {
     "name": "stdout",
     "output_type": "stream",
     "text": [
      "[CV] END C=1, epsilon=0.1, loss=squared_epsilon_insensitive, max_iter=20000; total time=  12.5s\n"
     ]
    },
    {
     "name": "stderr",
     "output_type": "stream",
     "text": [
      "/home/ec2-user/anaconda3/envs/python3/lib/python3.10/site-packages/sklearn/svm/_base.py:1244: ConvergenceWarning: Liblinear failed to converge, increase the number of iterations.\n",
      "  warnings.warn(\n"
     ]
    },
    {
     "name": "stdout",
     "output_type": "stream",
     "text": [
      "[CV] END C=1, epsilon=0.3, loss=epsilon_insensitive, max_iter=10000; total time=   6.3s\n"
     ]
    },
    {
     "name": "stderr",
     "output_type": "stream",
     "text": [
      "/home/ec2-user/anaconda3/envs/python3/lib/python3.10/site-packages/sklearn/svm/_base.py:1244: ConvergenceWarning: Liblinear failed to converge, increase the number of iterations.\n",
      "  warnings.warn(\n"
     ]
    },
    {
     "name": "stdout",
     "output_type": "stream",
     "text": [
      "[CV] END C=1, epsilon=0.3, loss=epsilon_insensitive, max_iter=10000; total time=   6.2s\n"
     ]
    },
    {
     "name": "stderr",
     "output_type": "stream",
     "text": [
      "/home/ec2-user/anaconda3/envs/python3/lib/python3.10/site-packages/sklearn/svm/_base.py:1244: ConvergenceWarning: Liblinear failed to converge, increase the number of iterations.\n",
      "  warnings.warn(\n"
     ]
    },
    {
     "name": "stdout",
     "output_type": "stream",
     "text": [
      "[CV] END C=1, epsilon=0.3, loss=epsilon_insensitive, max_iter=20000; total time=  12.2s\n"
     ]
    },
    {
     "name": "stderr",
     "output_type": "stream",
     "text": [
      "/home/ec2-user/anaconda3/envs/python3/lib/python3.10/site-packages/sklearn/svm/_base.py:1244: ConvergenceWarning: Liblinear failed to converge, increase the number of iterations.\n",
      "  warnings.warn(\n"
     ]
    },
    {
     "name": "stdout",
     "output_type": "stream",
     "text": [
      "[CV] END C=1, epsilon=0.3, loss=epsilon_insensitive, max_iter=20000; total time=  12.3s\n"
     ]
    },
    {
     "name": "stderr",
     "output_type": "stream",
     "text": [
      "/home/ec2-user/anaconda3/envs/python3/lib/python3.10/site-packages/sklearn/svm/_base.py:1244: ConvergenceWarning: Liblinear failed to converge, increase the number of iterations.\n",
      "  warnings.warn(\n"
     ]
    },
    {
     "name": "stdout",
     "output_type": "stream",
     "text": [
      "[CV] END C=1, epsilon=0.3, loss=squared_epsilon_insensitive, max_iter=10000; total time=   6.1s\n"
     ]
    },
    {
     "name": "stderr",
     "output_type": "stream",
     "text": [
      "/home/ec2-user/anaconda3/envs/python3/lib/python3.10/site-packages/sklearn/svm/_base.py:1244: ConvergenceWarning: Liblinear failed to converge, increase the number of iterations.\n",
      "  warnings.warn(\n"
     ]
    },
    {
     "name": "stdout",
     "output_type": "stream",
     "text": [
      "[CV] END C=1, epsilon=0.3, loss=squared_epsilon_insensitive, max_iter=10000; total time=   6.1s\n"
     ]
    },
    {
     "name": "stderr",
     "output_type": "stream",
     "text": [
      "/home/ec2-user/anaconda3/envs/python3/lib/python3.10/site-packages/sklearn/svm/_base.py:1244: ConvergenceWarning: Liblinear failed to converge, increase the number of iterations.\n",
      "  warnings.warn(\n"
     ]
    },
    {
     "name": "stdout",
     "output_type": "stream",
     "text": [
      "[CV] END C=1, epsilon=0.3, loss=squared_epsilon_insensitive, max_iter=20000; total time=  12.5s\n"
     ]
    },
    {
     "name": "stderr",
     "output_type": "stream",
     "text": [
      "/home/ec2-user/anaconda3/envs/python3/lib/python3.10/site-packages/sklearn/svm/_base.py:1244: ConvergenceWarning: Liblinear failed to converge, increase the number of iterations.\n",
      "  warnings.warn(\n"
     ]
    },
    {
     "name": "stdout",
     "output_type": "stream",
     "text": [
      "[CV] END C=1, epsilon=0.3, loss=squared_epsilon_insensitive, max_iter=20000; total time=  12.4s\n"
     ]
    },
    {
     "name": "stderr",
     "output_type": "stream",
     "text": [
      "/home/ec2-user/anaconda3/envs/python3/lib/python3.10/site-packages/sklearn/svm/_base.py:1244: ConvergenceWarning: Liblinear failed to converge, increase the number of iterations.\n",
      "  warnings.warn(\n"
     ]
    },
    {
     "name": "stdout",
     "output_type": "stream",
     "text": [
      "[CV] END C=10, epsilon=0, loss=epsilon_insensitive, max_iter=10000; total time=   6.8s\n"
     ]
    },
    {
     "name": "stderr",
     "output_type": "stream",
     "text": [
      "/home/ec2-user/anaconda3/envs/python3/lib/python3.10/site-packages/sklearn/svm/_base.py:1244: ConvergenceWarning: Liblinear failed to converge, increase the number of iterations.\n",
      "  warnings.warn(\n"
     ]
    },
    {
     "name": "stdout",
     "output_type": "stream",
     "text": [
      "[CV] END C=10, epsilon=0, loss=epsilon_insensitive, max_iter=10000; total time=   6.2s\n"
     ]
    },
    {
     "name": "stderr",
     "output_type": "stream",
     "text": [
      "/home/ec2-user/anaconda3/envs/python3/lib/python3.10/site-packages/sklearn/svm/_base.py:1244: ConvergenceWarning: Liblinear failed to converge, increase the number of iterations.\n",
      "  warnings.warn(\n"
     ]
    },
    {
     "name": "stdout",
     "output_type": "stream",
     "text": [
      "[CV] END C=10, epsilon=0, loss=epsilon_insensitive, max_iter=20000; total time=  12.4s\n"
     ]
    },
    {
     "name": "stderr",
     "output_type": "stream",
     "text": [
      "/home/ec2-user/anaconda3/envs/python3/lib/python3.10/site-packages/sklearn/svm/_base.py:1244: ConvergenceWarning: Liblinear failed to converge, increase the number of iterations.\n",
      "  warnings.warn(\n"
     ]
    },
    {
     "name": "stdout",
     "output_type": "stream",
     "text": [
      "[CV] END C=10, epsilon=0, loss=epsilon_insensitive, max_iter=20000; total time=  12.6s\n"
     ]
    },
    {
     "name": "stderr",
     "output_type": "stream",
     "text": [
      "/home/ec2-user/anaconda3/envs/python3/lib/python3.10/site-packages/sklearn/svm/_base.py:1244: ConvergenceWarning: Liblinear failed to converge, increase the number of iterations.\n",
      "  warnings.warn(\n"
     ]
    },
    {
     "name": "stdout",
     "output_type": "stream",
     "text": [
      "[CV] END C=10, epsilon=0, loss=squared_epsilon_insensitive, max_iter=10000; total time=   6.2s\n"
     ]
    },
    {
     "name": "stderr",
     "output_type": "stream",
     "text": [
      "/home/ec2-user/anaconda3/envs/python3/lib/python3.10/site-packages/sklearn/svm/_base.py:1244: ConvergenceWarning: Liblinear failed to converge, increase the number of iterations.\n",
      "  warnings.warn(\n"
     ]
    },
    {
     "name": "stdout",
     "output_type": "stream",
     "text": [
      "[CV] END C=10, epsilon=0, loss=squared_epsilon_insensitive, max_iter=10000; total time=   6.2s\n"
     ]
    },
    {
     "name": "stderr",
     "output_type": "stream",
     "text": [
      "/home/ec2-user/anaconda3/envs/python3/lib/python3.10/site-packages/sklearn/svm/_base.py:1244: ConvergenceWarning: Liblinear failed to converge, increase the number of iterations.\n",
      "  warnings.warn(\n"
     ]
    },
    {
     "name": "stdout",
     "output_type": "stream",
     "text": [
      "[CV] END C=10, epsilon=0, loss=squared_epsilon_insensitive, max_iter=20000; total time=  12.6s\n"
     ]
    },
    {
     "name": "stderr",
     "output_type": "stream",
     "text": [
      "/home/ec2-user/anaconda3/envs/python3/lib/python3.10/site-packages/sklearn/svm/_base.py:1244: ConvergenceWarning: Liblinear failed to converge, increase the number of iterations.\n",
      "  warnings.warn(\n"
     ]
    },
    {
     "name": "stdout",
     "output_type": "stream",
     "text": [
      "[CV] END C=10, epsilon=0, loss=squared_epsilon_insensitive, max_iter=20000; total time=  12.7s\n"
     ]
    },
    {
     "name": "stderr",
     "output_type": "stream",
     "text": [
      "/home/ec2-user/anaconda3/envs/python3/lib/python3.10/site-packages/sklearn/svm/_base.py:1244: ConvergenceWarning: Liblinear failed to converge, increase the number of iterations.\n",
      "  warnings.warn(\n"
     ]
    },
    {
     "name": "stdout",
     "output_type": "stream",
     "text": [
      "[CV] END C=10, epsilon=0.01, loss=epsilon_insensitive, max_iter=10000; total time=   6.4s\n"
     ]
    },
    {
     "name": "stderr",
     "output_type": "stream",
     "text": [
      "/home/ec2-user/anaconda3/envs/python3/lib/python3.10/site-packages/sklearn/svm/_base.py:1244: ConvergenceWarning: Liblinear failed to converge, increase the number of iterations.\n",
      "  warnings.warn(\n"
     ]
    },
    {
     "name": "stdout",
     "output_type": "stream",
     "text": [
      "[CV] END C=10, epsilon=0.01, loss=epsilon_insensitive, max_iter=10000; total time=   6.2s\n"
     ]
    },
    {
     "name": "stderr",
     "output_type": "stream",
     "text": [
      "/home/ec2-user/anaconda3/envs/python3/lib/python3.10/site-packages/sklearn/svm/_base.py:1244: ConvergenceWarning: Liblinear failed to converge, increase the number of iterations.\n",
      "  warnings.warn(\n"
     ]
    },
    {
     "name": "stdout",
     "output_type": "stream",
     "text": [
      "[CV] END C=10, epsilon=0.01, loss=epsilon_insensitive, max_iter=20000; total time=  12.4s\n"
     ]
    },
    {
     "name": "stderr",
     "output_type": "stream",
     "text": [
      "/home/ec2-user/anaconda3/envs/python3/lib/python3.10/site-packages/sklearn/svm/_base.py:1244: ConvergenceWarning: Liblinear failed to converge, increase the number of iterations.\n",
      "  warnings.warn(\n"
     ]
    },
    {
     "name": "stdout",
     "output_type": "stream",
     "text": [
      "[CV] END C=10, epsilon=0.01, loss=epsilon_insensitive, max_iter=20000; total time=  12.3s\n"
     ]
    },
    {
     "name": "stderr",
     "output_type": "stream",
     "text": [
      "/home/ec2-user/anaconda3/envs/python3/lib/python3.10/site-packages/sklearn/svm/_base.py:1244: ConvergenceWarning: Liblinear failed to converge, increase the number of iterations.\n",
      "  warnings.warn(\n"
     ]
    },
    {
     "name": "stdout",
     "output_type": "stream",
     "text": [
      "[CV] END C=10, epsilon=0.01, loss=squared_epsilon_insensitive, max_iter=10000; total time=   6.2s\n"
     ]
    },
    {
     "name": "stderr",
     "output_type": "stream",
     "text": [
      "/home/ec2-user/anaconda3/envs/python3/lib/python3.10/site-packages/sklearn/svm/_base.py:1244: ConvergenceWarning: Liblinear failed to converge, increase the number of iterations.\n",
      "  warnings.warn(\n"
     ]
    },
    {
     "name": "stdout",
     "output_type": "stream",
     "text": [
      "[CV] END C=10, epsilon=0.01, loss=squared_epsilon_insensitive, max_iter=10000; total time=   6.2s\n"
     ]
    },
    {
     "name": "stderr",
     "output_type": "stream",
     "text": [
      "/home/ec2-user/anaconda3/envs/python3/lib/python3.10/site-packages/sklearn/svm/_base.py:1244: ConvergenceWarning: Liblinear failed to converge, increase the number of iterations.\n",
      "  warnings.warn(\n"
     ]
    },
    {
     "name": "stdout",
     "output_type": "stream",
     "text": [
      "[CV] END C=10, epsilon=0.01, loss=squared_epsilon_insensitive, max_iter=20000; total time=  12.5s\n"
     ]
    },
    {
     "name": "stderr",
     "output_type": "stream",
     "text": [
      "/home/ec2-user/anaconda3/envs/python3/lib/python3.10/site-packages/sklearn/svm/_base.py:1244: ConvergenceWarning: Liblinear failed to converge, increase the number of iterations.\n",
      "  warnings.warn(\n"
     ]
    },
    {
     "name": "stdout",
     "output_type": "stream",
     "text": [
      "[CV] END C=10, epsilon=0.01, loss=squared_epsilon_insensitive, max_iter=20000; total time=  12.4s\n"
     ]
    },
    {
     "name": "stderr",
     "output_type": "stream",
     "text": [
      "/home/ec2-user/anaconda3/envs/python3/lib/python3.10/site-packages/sklearn/svm/_base.py:1244: ConvergenceWarning: Liblinear failed to converge, increase the number of iterations.\n",
      "  warnings.warn(\n"
     ]
    },
    {
     "name": "stdout",
     "output_type": "stream",
     "text": [
      "[CV] END C=10, epsilon=0.1, loss=epsilon_insensitive, max_iter=10000; total time=   6.2s\n"
     ]
    },
    {
     "name": "stderr",
     "output_type": "stream",
     "text": [
      "/home/ec2-user/anaconda3/envs/python3/lib/python3.10/site-packages/sklearn/svm/_base.py:1244: ConvergenceWarning: Liblinear failed to converge, increase the number of iterations.\n",
      "  warnings.warn(\n"
     ]
    },
    {
     "name": "stdout",
     "output_type": "stream",
     "text": [
      "[CV] END C=10, epsilon=0.1, loss=epsilon_insensitive, max_iter=10000; total time=   6.2s\n"
     ]
    },
    {
     "name": "stderr",
     "output_type": "stream",
     "text": [
      "/home/ec2-user/anaconda3/envs/python3/lib/python3.10/site-packages/sklearn/svm/_base.py:1244: ConvergenceWarning: Liblinear failed to converge, increase the number of iterations.\n",
      "  warnings.warn(\n"
     ]
    },
    {
     "name": "stdout",
     "output_type": "stream",
     "text": [
      "[CV] END C=10, epsilon=0.1, loss=epsilon_insensitive, max_iter=20000; total time=  12.4s\n"
     ]
    },
    {
     "name": "stderr",
     "output_type": "stream",
     "text": [
      "/home/ec2-user/anaconda3/envs/python3/lib/python3.10/site-packages/sklearn/svm/_base.py:1244: ConvergenceWarning: Liblinear failed to converge, increase the number of iterations.\n",
      "  warnings.warn(\n"
     ]
    },
    {
     "name": "stdout",
     "output_type": "stream",
     "text": [
      "[CV] END C=10, epsilon=0.1, loss=epsilon_insensitive, max_iter=20000; total time=  12.3s\n"
     ]
    },
    {
     "name": "stderr",
     "output_type": "stream",
     "text": [
      "/home/ec2-user/anaconda3/envs/python3/lib/python3.10/site-packages/sklearn/svm/_base.py:1244: ConvergenceWarning: Liblinear failed to converge, increase the number of iterations.\n",
      "  warnings.warn(\n"
     ]
    },
    {
     "name": "stdout",
     "output_type": "stream",
     "text": [
      "[CV] END C=10, epsilon=0.1, loss=squared_epsilon_insensitive, max_iter=10000; total time=   6.1s\n"
     ]
    },
    {
     "name": "stderr",
     "output_type": "stream",
     "text": [
      "/home/ec2-user/anaconda3/envs/python3/lib/python3.10/site-packages/sklearn/svm/_base.py:1244: ConvergenceWarning: Liblinear failed to converge, increase the number of iterations.\n",
      "  warnings.warn(\n"
     ]
    },
    {
     "name": "stdout",
     "output_type": "stream",
     "text": [
      "[CV] END C=10, epsilon=0.1, loss=squared_epsilon_insensitive, max_iter=10000; total time=   6.2s\n"
     ]
    },
    {
     "name": "stderr",
     "output_type": "stream",
     "text": [
      "/home/ec2-user/anaconda3/envs/python3/lib/python3.10/site-packages/sklearn/svm/_base.py:1244: ConvergenceWarning: Liblinear failed to converge, increase the number of iterations.\n",
      "  warnings.warn(\n"
     ]
    },
    {
     "name": "stdout",
     "output_type": "stream",
     "text": [
      "[CV] END C=10, epsilon=0.1, loss=squared_epsilon_insensitive, max_iter=20000; total time=  12.2s\n"
     ]
    },
    {
     "name": "stderr",
     "output_type": "stream",
     "text": [
      "/home/ec2-user/anaconda3/envs/python3/lib/python3.10/site-packages/sklearn/svm/_base.py:1244: ConvergenceWarning: Liblinear failed to converge, increase the number of iterations.\n",
      "  warnings.warn(\n"
     ]
    },
    {
     "name": "stdout",
     "output_type": "stream",
     "text": [
      "[CV] END C=10, epsilon=0.1, loss=squared_epsilon_insensitive, max_iter=20000; total time=  12.2s\n"
     ]
    },
    {
     "name": "stderr",
     "output_type": "stream",
     "text": [
      "/home/ec2-user/anaconda3/envs/python3/lib/python3.10/site-packages/sklearn/svm/_base.py:1244: ConvergenceWarning: Liblinear failed to converge, increase the number of iterations.\n",
      "  warnings.warn(\n"
     ]
    },
    {
     "name": "stdout",
     "output_type": "stream",
     "text": [
      "[CV] END C=10, epsilon=0.3, loss=epsilon_insensitive, max_iter=10000; total time=   6.1s\n"
     ]
    },
    {
     "name": "stderr",
     "output_type": "stream",
     "text": [
      "/home/ec2-user/anaconda3/envs/python3/lib/python3.10/site-packages/sklearn/svm/_base.py:1244: ConvergenceWarning: Liblinear failed to converge, increase the number of iterations.\n",
      "  warnings.warn(\n"
     ]
    },
    {
     "name": "stdout",
     "output_type": "stream",
     "text": [
      "[CV] END C=10, epsilon=0.3, loss=epsilon_insensitive, max_iter=10000; total time=   6.1s\n"
     ]
    },
    {
     "name": "stderr",
     "output_type": "stream",
     "text": [
      "/home/ec2-user/anaconda3/envs/python3/lib/python3.10/site-packages/sklearn/svm/_base.py:1244: ConvergenceWarning: Liblinear failed to converge, increase the number of iterations.\n",
      "  warnings.warn(\n"
     ]
    },
    {
     "name": "stdout",
     "output_type": "stream",
     "text": [
      "[CV] END C=10, epsilon=0.3, loss=epsilon_insensitive, max_iter=20000; total time=  12.2s\n"
     ]
    },
    {
     "name": "stderr",
     "output_type": "stream",
     "text": [
      "/home/ec2-user/anaconda3/envs/python3/lib/python3.10/site-packages/sklearn/svm/_base.py:1244: ConvergenceWarning: Liblinear failed to converge, increase the number of iterations.\n",
      "  warnings.warn(\n"
     ]
    },
    {
     "name": "stdout",
     "output_type": "stream",
     "text": [
      "[CV] END C=10, epsilon=0.3, loss=epsilon_insensitive, max_iter=20000; total time=  12.7s\n"
     ]
    },
    {
     "name": "stderr",
     "output_type": "stream",
     "text": [
      "/home/ec2-user/anaconda3/envs/python3/lib/python3.10/site-packages/sklearn/svm/_base.py:1244: ConvergenceWarning: Liblinear failed to converge, increase the number of iterations.\n",
      "  warnings.warn(\n"
     ]
    },
    {
     "name": "stdout",
     "output_type": "stream",
     "text": [
      "[CV] END C=10, epsilon=0.3, loss=squared_epsilon_insensitive, max_iter=10000; total time=   6.3s\n"
     ]
    },
    {
     "name": "stderr",
     "output_type": "stream",
     "text": [
      "/home/ec2-user/anaconda3/envs/python3/lib/python3.10/site-packages/sklearn/svm/_base.py:1244: ConvergenceWarning: Liblinear failed to converge, increase the number of iterations.\n",
      "  warnings.warn(\n"
     ]
    },
    {
     "name": "stdout",
     "output_type": "stream",
     "text": [
      "[CV] END C=10, epsilon=0.3, loss=squared_epsilon_insensitive, max_iter=10000; total time=   6.3s\n"
     ]
    },
    {
     "name": "stderr",
     "output_type": "stream",
     "text": [
      "/home/ec2-user/anaconda3/envs/python3/lib/python3.10/site-packages/sklearn/svm/_base.py:1244: ConvergenceWarning: Liblinear failed to converge, increase the number of iterations.\n",
      "  warnings.warn(\n"
     ]
    },
    {
     "name": "stdout",
     "output_type": "stream",
     "text": [
      "[CV] END C=10, epsilon=0.3, loss=squared_epsilon_insensitive, max_iter=20000; total time=  12.1s\n"
     ]
    },
    {
     "name": "stderr",
     "output_type": "stream",
     "text": [
      "/home/ec2-user/anaconda3/envs/python3/lib/python3.10/site-packages/sklearn/svm/_base.py:1244: ConvergenceWarning: Liblinear failed to converge, increase the number of iterations.\n",
      "  warnings.warn(\n"
     ]
    },
    {
     "name": "stdout",
     "output_type": "stream",
     "text": [
      "[CV] END C=10, epsilon=0.3, loss=squared_epsilon_insensitive, max_iter=20000; total time=  12.0s\n"
     ]
    },
    {
     "name": "stderr",
     "output_type": "stream",
     "text": [
      "/home/ec2-user/anaconda3/envs/python3/lib/python3.10/site-packages/sklearn/svm/_base.py:1244: ConvergenceWarning: Liblinear failed to converge, increase the number of iterations.\n",
      "  warnings.warn(\n",
      "/home/ec2-user/anaconda3/envs/python3/lib/python3.10/site-packages/sklearn/svm/_base.py:1244: ConvergenceWarning: Liblinear failed to converge, increase the number of iterations.\n",
      "  warnings.warn(\n"
     ]
    },
    {
     "data": {
      "text/html": [
       "<div>\n",
       "<style scoped>\n",
       "    .dataframe tbody tr th:only-of-type {\n",
       "        vertical-align: middle;\n",
       "    }\n",
       "\n",
       "    .dataframe tbody tr th {\n",
       "        vertical-align: top;\n",
       "    }\n",
       "\n",
       "    .dataframe thead th {\n",
       "        text-align: right;\n",
       "    }\n",
       "</style>\n",
       "<table border=\"1\" class=\"dataframe\">\n",
       "  <thead>\n",
       "    <tr style=\"text-align: center;\">\n",
       "      <th></th>\n",
       "      <th>Model</th>\n",
       "      <th>Parameters</th>\n",
       "      <th>RMSE</th>\n",
       "      <th>R2 Score</th>\n",
       "      <th>MAE</th>\n",
       "    </tr>\n",
       "  </thead>\n",
       "  <tbody>\n",
       "    <tr>\n",
       "      <th>0</th>\n",
       "      <td>Linear SVR</td>\n",
       "      <td>{'C': 10, 'epsilon': 0.3, 'loss': 'epsilon_ins...</td>\n",
       "      <td>1460070.17</td>\n",
       "      <td>-0.1</td>\n",
       "      <td>1046507.51</td>\n",
       "    </tr>\n",
       "  </tbody>\n",
       "</table>\n",
       "</div>"
      ],
      "text/plain": [
       "     Model                        Parameters                         RMSE    R2 Score     MAE    \n",
       "0  Linear SVR  {'C': 10, 'epsilon': 0.3, 'loss': 'epsilon_ins...  1460070.17   -0.1    1046507.51"
      ]
     },
     "metadata": {},
     "output_type": "display_data"
    },
    {
     "name": "stderr",
     "output_type": "stream",
     "text": [
      "/tmp/ipykernel_10927/383821282.py:6: FutureWarning: The frame.append method is deprecated and will be removed from pandas in a future version. Use pandas.concat instead.\n",
      "  results = results.append(linearsvr(x_train, y_train, x_test, y_test), ignore_index=True)\n"
     ]
    },
    {
     "data": {
      "text/html": [
       "<div>\n",
       "<style scoped>\n",
       "    .dataframe tbody tr th:only-of-type {\n",
       "        vertical-align: middle;\n",
       "    }\n",
       "\n",
       "    .dataframe tbody tr th {\n",
       "        vertical-align: top;\n",
       "    }\n",
       "\n",
       "    .dataframe thead th {\n",
       "        text-align: right;\n",
       "    }\n",
       "</style>\n",
       "<table border=\"1\" class=\"dataframe\">\n",
       "  <thead>\n",
       "    <tr style=\"text-align: center;\">\n",
       "      <th></th>\n",
       "      <th>Model</th>\n",
       "      <th>Parameters</th>\n",
       "      <th>RMSE</th>\n",
       "      <th>R2 Score</th>\n",
       "      <th>MAE</th>\n",
       "    </tr>\n",
       "  </thead>\n",
       "  <tbody>\n",
       "    <tr>\n",
       "      <th>0</th>\n",
       "      <td>Bayesian Ridge</td>\n",
       "      <td>NA</td>\n",
       "      <td>1376130.93</td>\n",
       "      <td>0.03</td>\n",
       "      <td>1052849.49</td>\n",
       "    </tr>\n",
       "  </tbody>\n",
       "</table>\n",
       "</div>"
      ],
      "text/plain": [
       "       Model      Parameters     RMSE    R2 Score     MAE    \n",
       "0  Bayesian Ridge     NA      1376130.93   0.03    1052849.49"
      ]
     },
     "metadata": {},
     "output_type": "display_data"
    },
    {
     "name": "stderr",
     "output_type": "stream",
     "text": [
      "/tmp/ipykernel_10927/383821282.py:7: FutureWarning: The frame.append method is deprecated and will be removed from pandas in a future version. Use pandas.concat instead.\n",
      "  results = results.append(bayesianridge(x_train, y_train, x_test, y_test), ignore_index=True)\n",
      "/home/ec2-user/anaconda3/envs/python3/lib/python3.10/site-packages/sklearn/linear_model/_coordinate_descent.py:634: ConvergenceWarning: Objective did not converge. You might want to increase the number of iterations, check the scale of the features or consider increasing regularisation. Duality gap: 6.514e+14, tolerance: 3.941e+12\n",
      "  model = cd_fast.enet_coordinate_descent(\n"
     ]
    },
    {
     "data": {
      "text/html": [
       "<div>\n",
       "<style scoped>\n",
       "    .dataframe tbody tr th:only-of-type {\n",
       "        vertical-align: middle;\n",
       "    }\n",
       "\n",
       "    .dataframe tbody tr th {\n",
       "        vertical-align: top;\n",
       "    }\n",
       "\n",
       "    .dataframe thead th {\n",
       "        text-align: right;\n",
       "    }\n",
       "</style>\n",
       "<table border=\"1\" class=\"dataframe\">\n",
       "  <thead>\n",
       "    <tr style=\"text-align: center;\">\n",
       "      <th></th>\n",
       "      <th>Model</th>\n",
       "      <th>Parameters</th>\n",
       "      <th>RMSE</th>\n",
       "      <th>R2 Score</th>\n",
       "      <th>MAE</th>\n",
       "    </tr>\n",
       "  </thead>\n",
       "  <tbody>\n",
       "    <tr>\n",
       "      <th>0</th>\n",
       "      <td>Lasso</td>\n",
       "      <td>NA</td>\n",
       "      <td>971324.38</td>\n",
       "      <td>0.52</td>\n",
       "      <td>720829.13</td>\n",
       "    </tr>\n",
       "  </tbody>\n",
       "</table>\n",
       "</div>"
      ],
      "text/plain": [
       "  Model  Parameters    RMSE    R2 Score    MAE    \n",
       "0  Lasso     NA      971324.38   0.52    720829.13"
      ]
     },
     "metadata": {},
     "output_type": "display_data"
    },
    {
     "name": "stderr",
     "output_type": "stream",
     "text": [
      "/tmp/ipykernel_10927/383821282.py:8: FutureWarning: The frame.append method is deprecated and will be removed from pandas in a future version. Use pandas.concat instead.\n",
      "  results = results.append(lasso(x_train, y_train, x_test, y_test), ignore_index=True)\n"
     ]
    },
    {
     "name": "stdout",
     "output_type": "stream",
     "text": [
      "Fitting 2 folds for each of 12 candidates, totalling 24 fits\n",
      "[CV] END max_features=1, min_samples_leaf=5, min_samples_split=2, splitter=best; total time=   0.0s\n",
      "[CV] END max_features=1, min_samples_leaf=5, min_samples_split=2, splitter=best; total time=   0.0s\n",
      "[CV] END max_features=1, min_samples_leaf=5, min_samples_split=2, splitter=random; total time=   0.0s\n",
      "[CV] END max_features=1, min_samples_leaf=5, min_samples_split=2, splitter=random; total time=   0.0s\n",
      "[CV] END max_features=1, min_samples_leaf=5, min_samples_split=5, splitter=best; total time=   0.0s\n",
      "[CV] END max_features=1, min_samples_leaf=5, min_samples_split=5, splitter=best; total time=   0.0s\n",
      "[CV] END max_features=1, min_samples_leaf=5, min_samples_split=5, splitter=random; total time=   0.0s\n",
      "[CV] END max_features=1, min_samples_leaf=5, min_samples_split=5, splitter=random; total time=   0.0s\n",
      "[CV] END max_features=1, min_samples_leaf=5, min_samples_split=10, splitter=best; total time=   0.0s\n",
      "[CV] END max_features=1, min_samples_leaf=5, min_samples_split=10, splitter=best; total time=   0.0s\n",
      "[CV] END max_features=1, min_samples_leaf=5, min_samples_split=10, splitter=random; total time=   0.0s\n",
      "[CV] END max_features=1, min_samples_leaf=5, min_samples_split=10, splitter=random; total time=   0.0s\n",
      "[CV] END max_features=sqrt, min_samples_leaf=5, min_samples_split=2, splitter=best; total time=   0.0s\n",
      "[CV] END max_features=sqrt, min_samples_leaf=5, min_samples_split=2, splitter=best; total time=   0.0s\n",
      "[CV] END max_features=sqrt, min_samples_leaf=5, min_samples_split=2, splitter=random; total time=   0.0s\n",
      "[CV] END max_features=sqrt, min_samples_leaf=5, min_samples_split=2, splitter=random; total time=   0.0s\n",
      "[CV] END max_features=sqrt, min_samples_leaf=5, min_samples_split=5, splitter=best; total time=   0.0s\n",
      "[CV] END max_features=sqrt, min_samples_leaf=5, min_samples_split=5, splitter=best; total time=   0.0s\n",
      "[CV] END max_features=sqrt, min_samples_leaf=5, min_samples_split=5, splitter=random; total time=   0.0s\n",
      "[CV] END max_features=sqrt, min_samples_leaf=5, min_samples_split=5, splitter=random; total time=   0.0s\n",
      "[CV] END max_features=sqrt, min_samples_leaf=5, min_samples_split=10, splitter=best; total time=   0.0s\n",
      "[CV] END max_features=sqrt, min_samples_leaf=5, min_samples_split=10, splitter=best; total time=   0.0s\n",
      "[CV] END max_features=sqrt, min_samples_leaf=5, min_samples_split=10, splitter=random; total time=   0.0s\n",
      "[CV] END max_features=sqrt, min_samples_leaf=5, min_samples_split=10, splitter=random; total time=   0.0s\n"
     ]
    },
    {
     "data": {
      "text/html": [
       "<div>\n",
       "<style scoped>\n",
       "    .dataframe tbody tr th:only-of-type {\n",
       "        vertical-align: middle;\n",
       "    }\n",
       "\n",
       "    .dataframe tbody tr th {\n",
       "        vertical-align: top;\n",
       "    }\n",
       "\n",
       "    .dataframe thead th {\n",
       "        text-align: right;\n",
       "    }\n",
       "</style>\n",
       "<table border=\"1\" class=\"dataframe\">\n",
       "  <thead>\n",
       "    <tr style=\"text-align: center;\">\n",
       "      <th></th>\n",
       "      <th>Model</th>\n",
       "      <th>Parameters</th>\n",
       "      <th>RMSE</th>\n",
       "      <th>R2 Score</th>\n",
       "      <th>MAE</th>\n",
       "    </tr>\n",
       "  </thead>\n",
       "  <tbody>\n",
       "    <tr>\n",
       "      <th>0</th>\n",
       "      <td>DecissionTree Regressor</td>\n",
       "      <td>{'max_features': 'sqrt', 'min_samples_leaf': 5...</td>\n",
       "      <td>868397.3200000001</td>\n",
       "      <td>0.61</td>\n",
       "      <td>580597.36</td>\n",
       "    </tr>\n",
       "  </tbody>\n",
       "</table>\n",
       "</div>"
      ],
      "text/plain": [
       "           Model                               Parameters                            RMSE        R2 Score    MAE    \n",
       "0  DecissionTree Regressor  {'max_features': 'sqrt', 'min_samples_leaf': 5...  868397.3200000001   0.61    580597.36"
      ]
     },
     "metadata": {},
     "output_type": "display_data"
    },
    {
     "name": "stdout",
     "output_type": "stream",
     "text": [
      "Fitting 2 folds for each of 24 candidates, totalling 48 fits\n"
     ]
    },
    {
     "name": "stderr",
     "output_type": "stream",
     "text": [
      "/tmp/ipykernel_10927/383821282.py:9: FutureWarning: The frame.append method is deprecated and will be removed from pandas in a future version. Use pandas.concat instead.\n",
      "  results = results.append(decisiontree_regressor(x_train, y_train, x_test, y_test), ignore_index=True)\n"
     ]
    },
    {
     "name": "stdout",
     "output_type": "stream",
     "text": [
      "[CV] END max_features=0.3, min_samples_leaf=1, min_samples_split=3, n_estimators=300; total time=   4.0s\n",
      "[CV] END max_features=0.3, min_samples_leaf=1, min_samples_split=3, n_estimators=300; total time=   4.0s\n",
      "[CV] END max_features=0.3, min_samples_leaf=1, min_samples_split=3, n_estimators=600; total time=   8.0s\n",
      "[CV] END max_features=0.3, min_samples_leaf=1, min_samples_split=3, n_estimators=600; total time=   8.0s\n",
      "[CV] END max_features=0.3, min_samples_leaf=1, min_samples_split=3, n_estimators=900; total time=  11.9s\n",
      "[CV] END max_features=0.3, min_samples_leaf=1, min_samples_split=3, n_estimators=900; total time=  12.0s\n",
      "[CV] END max_features=0.3, min_samples_leaf=1, min_samples_split=5, n_estimators=300; total time=   3.6s\n",
      "[CV] END max_features=0.3, min_samples_leaf=1, min_samples_split=5, n_estimators=300; total time=   3.6s\n",
      "[CV] END max_features=0.3, min_samples_leaf=1, min_samples_split=5, n_estimators=600; total time=   7.2s\n",
      "[CV] END max_features=0.3, min_samples_leaf=1, min_samples_split=5, n_estimators=600; total time=   7.3s\n",
      "[CV] END max_features=0.3, min_samples_leaf=1, min_samples_split=5, n_estimators=900; total time=  10.8s\n",
      "[CV] END max_features=0.3, min_samples_leaf=1, min_samples_split=5, n_estimators=900; total time=  10.9s\n",
      "[CV] END max_features=0.3, min_samples_leaf=2, min_samples_split=3, n_estimators=300; total time=   3.3s\n",
      "[CV] END max_features=0.3, min_samples_leaf=2, min_samples_split=3, n_estimators=300; total time=   3.3s\n",
      "[CV] END max_features=0.3, min_samples_leaf=2, min_samples_split=3, n_estimators=600; total time=   6.6s\n",
      "[CV] END max_features=0.3, min_samples_leaf=2, min_samples_split=3, n_estimators=600; total time=   6.7s\n",
      "[CV] END max_features=0.3, min_samples_leaf=2, min_samples_split=3, n_estimators=900; total time=  10.0s\n",
      "[CV] END max_features=0.3, min_samples_leaf=2, min_samples_split=3, n_estimators=900; total time=  10.1s\n",
      "[CV] END max_features=0.3, min_samples_leaf=2, min_samples_split=5, n_estimators=300; total time=   3.4s\n",
      "[CV] END max_features=0.3, min_samples_leaf=2, min_samples_split=5, n_estimators=300; total time=   3.3s\n",
      "[CV] END max_features=0.3, min_samples_leaf=2, min_samples_split=5, n_estimators=600; total time=   6.6s\n",
      "[CV] END max_features=0.3, min_samples_leaf=2, min_samples_split=5, n_estimators=600; total time=   6.6s\n",
      "[CV] END max_features=0.3, min_samples_leaf=2, min_samples_split=5, n_estimators=900; total time=   9.8s\n",
      "[CV] END max_features=0.3, min_samples_leaf=2, min_samples_split=5, n_estimators=900; total time=   9.9s\n",
      "[CV] END max_features=0.6, min_samples_leaf=1, min_samples_split=3, n_estimators=300; total time=   6.9s\n",
      "[CV] END max_features=0.6, min_samples_leaf=1, min_samples_split=3, n_estimators=300; total time=   7.1s\n",
      "[CV] END max_features=0.6, min_samples_leaf=1, min_samples_split=3, n_estimators=600; total time=  13.9s\n",
      "[CV] END max_features=0.6, min_samples_leaf=1, min_samples_split=3, n_estimators=600; total time=  14.2s\n",
      "[CV] END max_features=0.6, min_samples_leaf=1, min_samples_split=3, n_estimators=900; total time=  20.7s\n",
      "[CV] END max_features=0.6, min_samples_leaf=1, min_samples_split=3, n_estimators=900; total time=  21.2s\n",
      "[CV] END max_features=0.6, min_samples_leaf=1, min_samples_split=5, n_estimators=300; total time=   6.4s\n",
      "[CV] END max_features=0.6, min_samples_leaf=1, min_samples_split=5, n_estimators=300; total time=   6.6s\n",
      "[CV] END max_features=0.6, min_samples_leaf=1, min_samples_split=5, n_estimators=600; total time=  12.9s\n",
      "[CV] END max_features=0.6, min_samples_leaf=1, min_samples_split=5, n_estimators=600; total time=  13.3s\n",
      "[CV] END max_features=0.6, min_samples_leaf=1, min_samples_split=5, n_estimators=900; total time=  19.2s\n",
      "[CV] END max_features=0.6, min_samples_leaf=1, min_samples_split=5, n_estimators=900; total time=  19.9s\n",
      "[CV] END max_features=0.6, min_samples_leaf=2, min_samples_split=3, n_estimators=300; total time=   6.1s\n",
      "[CV] END max_features=0.6, min_samples_leaf=2, min_samples_split=3, n_estimators=300; total time=   6.4s\n",
      "[CV] END max_features=0.6, min_samples_leaf=2, min_samples_split=3, n_estimators=600; total time=  12.2s\n",
      "[CV] END max_features=0.6, min_samples_leaf=2, min_samples_split=3, n_estimators=600; total time=  12.6s\n",
      "[CV] END max_features=0.6, min_samples_leaf=2, min_samples_split=3, n_estimators=900; total time=  18.3s\n",
      "[CV] END max_features=0.6, min_samples_leaf=2, min_samples_split=3, n_estimators=900; total time=  19.0s\n",
      "[CV] END max_features=0.6, min_samples_leaf=2, min_samples_split=5, n_estimators=300; total time=   6.0s\n",
      "[CV] END max_features=0.6, min_samples_leaf=2, min_samples_split=5, n_estimators=300; total time=   6.2s\n",
      "[CV] END max_features=0.6, min_samples_leaf=2, min_samples_split=5, n_estimators=600; total time=  12.0s\n",
      "[CV] END max_features=0.6, min_samples_leaf=2, min_samples_split=5, n_estimators=600; total time=  12.4s\n",
      "[CV] END max_features=0.6, min_samples_leaf=2, min_samples_split=5, n_estimators=900; total time=  18.0s\n",
      "[CV] END max_features=0.6, min_samples_leaf=2, min_samples_split=5, n_estimators=900; total time=  18.4s\n"
     ]
    },
    {
     "data": {
      "text/html": [
       "<div>\n",
       "<style scoped>\n",
       "    .dataframe tbody tr th:only-of-type {\n",
       "        vertical-align: middle;\n",
       "    }\n",
       "\n",
       "    .dataframe tbody tr th {\n",
       "        vertical-align: top;\n",
       "    }\n",
       "\n",
       "    .dataframe thead th {\n",
       "        text-align: right;\n",
       "    }\n",
       "</style>\n",
       "<table border=\"1\" class=\"dataframe\">\n",
       "  <thead>\n",
       "    <tr style=\"text-align: center;\">\n",
       "      <th></th>\n",
       "      <th>Model</th>\n",
       "      <th>Parameters</th>\n",
       "      <th>RMSE</th>\n",
       "      <th>R2 Score</th>\n",
       "      <th>MAE</th>\n",
       "    </tr>\n",
       "  </thead>\n",
       "  <tbody>\n",
       "    <tr>\n",
       "      <th>0</th>\n",
       "      <td>RandomForest Regressor</td>\n",
       "      <td>{'max_features': 0.6, 'min_samples_leaf': 1, '...</td>\n",
       "      <td>649603.29</td>\n",
       "      <td>0.78</td>\n",
       "      <td>405483.67</td>\n",
       "    </tr>\n",
       "  </tbody>\n",
       "</table>\n",
       "</div>"
      ],
      "text/plain": [
       "           Model                              Parameters                        RMSE    R2 Score    MAE    \n",
       "0  RandomForest Regressor  {'max_features': 0.6, 'min_samples_leaf': 1, '...  649603.29   0.78    405483.67"
      ]
     },
     "metadata": {},
     "output_type": "display_data"
    },
    {
     "name": "stderr",
     "output_type": "stream",
     "text": [
      "/tmp/ipykernel_10927/383821282.py:10: FutureWarning: The frame.append method is deprecated and will be removed from pandas in a future version. Use pandas.concat instead.\n",
      "  results = results.append(randomforest_regressor(x_train, y_train, x_test, y_test), ignore_index=True)\n"
     ]
    },
    {
     "name": "stdout",
     "output_type": "stream",
     "text": [
      "Fitting 2 folds for each of 9 candidates, totalling 18 fits\n",
      "[CV] END learning_rate=0.1, min_samples_split=2, n_estimators=400; total time=   4.2s\n",
      "[CV] END learning_rate=0.1, min_samples_split=2, n_estimators=400; total time=   4.2s\n",
      "[CV] END learning_rate=0.1, min_samples_split=2, n_estimators=600; total time=   6.3s\n",
      "[CV] END learning_rate=0.1, min_samples_split=2, n_estimators=600; total time=   6.3s\n",
      "[CV] END learning_rate=0.1, min_samples_split=2, n_estimators=800; total time=   8.4s\n",
      "[CV] END learning_rate=0.1, min_samples_split=2, n_estimators=800; total time=   8.4s\n",
      "[CV] END learning_rate=0.1, min_samples_split=5, n_estimators=400; total time=   4.2s\n",
      "[CV] END learning_rate=0.1, min_samples_split=5, n_estimators=400; total time=   4.2s\n",
      "[CV] END learning_rate=0.1, min_samples_split=5, n_estimators=600; total time=   6.3s\n",
      "[CV] END learning_rate=0.1, min_samples_split=5, n_estimators=600; total time=   6.3s\n",
      "[CV] END learning_rate=0.1, min_samples_split=5, n_estimators=800; total time=   8.4s\n",
      "[CV] END learning_rate=0.1, min_samples_split=5, n_estimators=800; total time=   8.4s\n",
      "[CV] END learning_rate=0.1, min_samples_split=10, n_estimators=400; total time=   4.2s\n",
      "[CV] END learning_rate=0.1, min_samples_split=10, n_estimators=400; total time=   4.2s\n",
      "[CV] END learning_rate=0.1, min_samples_split=10, n_estimators=600; total time=   6.3s\n",
      "[CV] END learning_rate=0.1, min_samples_split=10, n_estimators=600; total time=   6.3s\n",
      "[CV] END learning_rate=0.1, min_samples_split=10, n_estimators=800; total time=   8.4s\n",
      "[CV] END learning_rate=0.1, min_samples_split=10, n_estimators=800; total time=   8.4s\n"
     ]
    },
    {
     "data": {
      "text/html": [
       "<div>\n",
       "<style scoped>\n",
       "    .dataframe tbody tr th:only-of-type {\n",
       "        vertical-align: middle;\n",
       "    }\n",
       "\n",
       "    .dataframe tbody tr th {\n",
       "        vertical-align: top;\n",
       "    }\n",
       "\n",
       "    .dataframe thead th {\n",
       "        text-align: right;\n",
       "    }\n",
       "</style>\n",
       "<table border=\"1\" class=\"dataframe\">\n",
       "  <thead>\n",
       "    <tr style=\"text-align: center;\">\n",
       "      <th></th>\n",
       "      <th>Model</th>\n",
       "      <th>Parameters</th>\n",
       "      <th>RMSE</th>\n",
       "      <th>R2 Score</th>\n",
       "      <th>MAE</th>\n",
       "    </tr>\n",
       "  </thead>\n",
       "  <tbody>\n",
       "    <tr>\n",
       "      <th>0</th>\n",
       "      <td>Gradient Boost</td>\n",
       "      <td>{'learning_rate': 0.1, 'min_samples_split': 2,...</td>\n",
       "      <td>747763.16</td>\n",
       "      <td>0.71</td>\n",
       "      <td>532062.72</td>\n",
       "    </tr>\n",
       "  </tbody>\n",
       "</table>\n",
       "</div>"
      ],
      "text/plain": [
       "       Model                          Parameters                        RMSE    R2 Score    MAE    \n",
       "0  Gradient Boost  {'learning_rate': 0.1, 'min_samples_split': 2,...  747763.16   0.71    532062.72"
      ]
     },
     "metadata": {},
     "output_type": "display_data"
    },
    {
     "name": "stderr",
     "output_type": "stream",
     "text": [
      "/tmp/ipykernel_10927/383821282.py:11: FutureWarning: The frame.append method is deprecated and will be removed from pandas in a future version. Use pandas.concat instead.\n",
      "  results = results.append(gradientboost_regressor(x_train, y_train, x_test, y_test), ignore_index=True)\n"
     ]
    },
    {
     "name": "stdout",
     "output_type": "stream",
     "text": [
      "Fitting 2 folds for each of 144 candidates, totalling 288 fits\n",
      "[CV] END alpha=0.001, epsilon=0.1, eta0=0.01, learning_rate=constant, penalty=l2, power_t=0.25; total time=   0.0s\n",
      "[CV] END alpha=0.001, epsilon=0.1, eta0=0.01, learning_rate=constant, penalty=l2, power_t=0.25; total time=   0.0s\n",
      "[CV] END alpha=0.001, epsilon=0.1, eta0=0.01, learning_rate=constant, penalty=l2, power_t=0.1; total time=   0.0s\n",
      "[CV] END alpha=0.001, epsilon=0.1, eta0=0.01, learning_rate=constant, penalty=l2, power_t=0.1; total time=   0.0s\n",
      "[CV] END alpha=0.001, epsilon=0.1, eta0=0.01, learning_rate=constant, penalty=l1, power_t=0.25; total time=   0.0s\n",
      "[CV] END alpha=0.001, epsilon=0.1, eta0=0.01, learning_rate=constant, penalty=l1, power_t=0.25; total time=   0.0s\n",
      "[CV] END alpha=0.001, epsilon=0.1, eta0=0.01, learning_rate=constant, penalty=l1, power_t=0.1; total time=   0.0s\n",
      "[CV] END alpha=0.001, epsilon=0.1, eta0=0.01, learning_rate=constant, penalty=l1, power_t=0.1; total time=   0.0s\n",
      "[CV] END alpha=0.001, epsilon=0.1, eta0=0.01, learning_rate=constant, penalty=elasticnet, power_t=0.25; total time=   0.0s\n",
      "[CV] END alpha=0.001, epsilon=0.1, eta0=0.01, learning_rate=constant, penalty=elasticnet, power_t=0.25; total time=   0.0s\n",
      "[CV] END alpha=0.001, epsilon=0.1, eta0=0.01, learning_rate=constant, penalty=elasticnet, power_t=0.1; total time=   0.0s\n",
      "[CV] END alpha=0.001, epsilon=0.1, eta0=0.01, learning_rate=constant, penalty=elasticnet, power_t=0.1; total time=   0.0s\n",
      "[CV] END alpha=0.001, epsilon=0.1, eta0=0.01, learning_rate=invscaling, penalty=l2, power_t=0.25; total time=   0.1s\n",
      "[CV] END alpha=0.001, epsilon=0.1, eta0=0.01, learning_rate=invscaling, penalty=l2, power_t=0.25; total time=   0.1s\n",
      "[CV] END alpha=0.001, epsilon=0.1, eta0=0.01, learning_rate=invscaling, penalty=l2, power_t=0.1; total time=   0.0s\n",
      "[CV] END alpha=0.001, epsilon=0.1, eta0=0.01, learning_rate=invscaling, penalty=l2, power_t=0.1; total time=   0.1s\n",
      "[CV] END alpha=0.001, epsilon=0.1, eta0=0.01, learning_rate=invscaling, penalty=l1, power_t=0.25; total time=   0.1s\n",
      "[CV] END alpha=0.001, epsilon=0.1, eta0=0.01, learning_rate=invscaling, penalty=l1, power_t=0.25; total time=   0.1s\n",
      "[CV] END alpha=0.001, epsilon=0.1, eta0=0.01, learning_rate=invscaling, penalty=l1, power_t=0.1; total time=   0.1s\n",
      "[CV] END alpha=0.001, epsilon=0.1, eta0=0.01, learning_rate=invscaling, penalty=l1, power_t=0.1; total time=   0.1s\n",
      "[CV] END alpha=0.001, epsilon=0.1, eta0=0.01, learning_rate=invscaling, penalty=elasticnet, power_t=0.25; total time=   0.1s\n",
      "[CV] END alpha=0.001, epsilon=0.1, eta0=0.01, learning_rate=invscaling, penalty=elasticnet, power_t=0.25; total time=   0.1s\n",
      "[CV] END alpha=0.001, epsilon=0.1, eta0=0.01, learning_rate=invscaling, penalty=elasticnet, power_t=0.1; total time=   0.1s\n",
      "[CV] END alpha=0.001, epsilon=0.1, eta0=0.01, learning_rate=invscaling, penalty=elasticnet, power_t=0.1; total time=   0.1s\n",
      "[CV] END alpha=0.001, epsilon=0.1, eta0=0.01, learning_rate=adaptive, penalty=l2, power_t=0.25; total time=   0.0s\n",
      "[CV] END alpha=0.001, epsilon=0.1, eta0=0.01, learning_rate=adaptive, penalty=l2, power_t=0.25; total time=   0.1s\n",
      "[CV] END alpha=0.001, epsilon=0.1, eta0=0.01, learning_rate=adaptive, penalty=l2, power_t=0.1; total time=   0.0s\n",
      "[CV] END alpha=0.001, epsilon=0.1, eta0=0.01, learning_rate=adaptive, penalty=l2, power_t=0.1; total time=   0.1s\n",
      "[CV] END alpha=0.001, epsilon=0.1, eta0=0.01, learning_rate=adaptive, penalty=l1, power_t=0.25; total time=   0.1s\n",
      "[CV] END alpha=0.001, epsilon=0.1, eta0=0.01, learning_rate=adaptive, penalty=l1, power_t=0.25; total time=   0.1s\n",
      "[CV] END alpha=0.001, epsilon=0.1, eta0=0.01, learning_rate=adaptive, penalty=l1, power_t=0.1; total time=   0.1s\n",
      "[CV] END alpha=0.001, epsilon=0.1, eta0=0.01, learning_rate=adaptive, penalty=l1, power_t=0.1; total time=   0.1s\n",
      "[CV] END alpha=0.001, epsilon=0.1, eta0=0.01, learning_rate=adaptive, penalty=elasticnet, power_t=0.25; total time=   0.1s\n",
      "[CV] END alpha=0.001, epsilon=0.1, eta0=0.01, learning_rate=adaptive, penalty=elasticnet, power_t=0.25; total time=   0.1s\n",
      "[CV] END alpha=0.001, epsilon=0.1, eta0=0.01, learning_rate=adaptive, penalty=elasticnet, power_t=0.1; total time=   0.1s\n",
      "[CV] END alpha=0.001, epsilon=0.1, eta0=0.01, learning_rate=adaptive, penalty=elasticnet, power_t=0.1; total time=   0.1s\n",
      "[CV] END alpha=0.001, epsilon=0.1, eta0=0.1, learning_rate=constant, penalty=l2, power_t=0.25; total time=   0.0s\n",
      "[CV] END alpha=0.001, epsilon=0.1, eta0=0.1, learning_rate=constant, penalty=l2, power_t=0.25; total time=   0.0s\n",
      "[CV] END alpha=0.001, epsilon=0.1, eta0=0.1, learning_rate=constant, penalty=l2, power_t=0.1; total time=   0.0s\n",
      "[CV] END alpha=0.001, epsilon=0.1, eta0=0.1, learning_rate=constant, penalty=l2, power_t=0.1; total time=   0.0s\n",
      "[CV] END alpha=0.001, epsilon=0.1, eta0=0.1, learning_rate=constant, penalty=l1, power_t=0.25; total time=   0.0s\n",
      "[CV] END alpha=0.001, epsilon=0.1, eta0=0.1, learning_rate=constant, penalty=l1, power_t=0.25; total time=   0.0s\n",
      "[CV] END alpha=0.001, epsilon=0.1, eta0=0.1, learning_rate=constant, penalty=l1, power_t=0.1; total time=   0.0s\n",
      "[CV] END alpha=0.001, epsilon=0.1, eta0=0.1, learning_rate=constant, penalty=l1, power_t=0.1; total time=   0.0s\n",
      "[CV] END alpha=0.001, epsilon=0.1, eta0=0.1, learning_rate=constant, penalty=elasticnet, power_t=0.25; total time=   0.0s\n",
      "[CV] END alpha=0.001, epsilon=0.1, eta0=0.1, learning_rate=constant, penalty=elasticnet, power_t=0.25; total time=   0.0s\n",
      "[CV] END alpha=0.001, epsilon=0.1, eta0=0.1, learning_rate=constant, penalty=elasticnet, power_t=0.1; total time=   0.0s\n",
      "[CV] END alpha=0.001, epsilon=0.1, eta0=0.1, learning_rate=constant, penalty=elasticnet, power_t=0.1; total time=   0.0s\n",
      "[CV] END alpha=0.001, epsilon=0.1, eta0=0.1, learning_rate=invscaling, penalty=l2, power_t=0.25; total time=   0.1s\n",
      "[CV] END alpha=0.001, epsilon=0.1, eta0=0.1, learning_rate=invscaling, penalty=l2, power_t=0.25; total time=   0.1s\n",
      "[CV] END alpha=0.001, epsilon=0.1, eta0=0.1, learning_rate=invscaling, penalty=l2, power_t=0.1; total time=   0.1s\n",
      "[CV] END alpha=0.001, epsilon=0.1, eta0=0.1, learning_rate=invscaling, penalty=l2, power_t=0.1; total time=   0.1s\n",
      "[CV] END alpha=0.001, epsilon=0.1, eta0=0.1, learning_rate=invscaling, penalty=l1, power_t=0.25; total time=   0.1s\n",
      "[CV] END alpha=0.001, epsilon=0.1, eta0=0.1, learning_rate=invscaling, penalty=l1, power_t=0.25; total time=   0.1s\n",
      "[CV] END alpha=0.001, epsilon=0.1, eta0=0.1, learning_rate=invscaling, penalty=l1, power_t=0.1; total time=   0.0s\n",
      "[CV] END alpha=0.001, epsilon=0.1, eta0=0.1, learning_rate=invscaling, penalty=l1, power_t=0.1; total time=   0.1s\n",
      "[CV] END alpha=0.001, epsilon=0.1, eta0=0.1, learning_rate=invscaling, penalty=elasticnet, power_t=0.25; total time=   0.1s\n",
      "[CV] END alpha=0.001, epsilon=0.1, eta0=0.1, learning_rate=invscaling, penalty=elasticnet, power_t=0.25; total time=   0.1s\n",
      "[CV] END alpha=0.001, epsilon=0.1, eta0=0.1, learning_rate=invscaling, penalty=elasticnet, power_t=0.1; total time=   0.1s\n",
      "[CV] END alpha=0.001, epsilon=0.1, eta0=0.1, learning_rate=invscaling, penalty=elasticnet, power_t=0.1; total time=   0.1s\n",
      "[CV] END alpha=0.001, epsilon=0.1, eta0=0.1, learning_rate=adaptive, penalty=l2, power_t=0.25; total time=   0.1s\n",
      "[CV] END alpha=0.001, epsilon=0.1, eta0=0.1, learning_rate=adaptive, penalty=l2, power_t=0.25; total time=   0.1s\n",
      "[CV] END alpha=0.001, epsilon=0.1, eta0=0.1, learning_rate=adaptive, penalty=l2, power_t=0.1; total time=   0.1s\n",
      "[CV] END alpha=0.001, epsilon=0.1, eta0=0.1, learning_rate=adaptive, penalty=l2, power_t=0.1; total time=   0.1s\n",
      "[CV] END alpha=0.001, epsilon=0.1, eta0=0.1, learning_rate=adaptive, penalty=l1, power_t=0.25; total time=   0.1s\n",
      "[CV] END alpha=0.001, epsilon=0.1, eta0=0.1, learning_rate=adaptive, penalty=l1, power_t=0.25; total time=   0.1s\n",
      "[CV] END alpha=0.001, epsilon=0.1, eta0=0.1, learning_rate=adaptive, penalty=l1, power_t=0.1; total time=   0.1s\n",
      "[CV] END alpha=0.001, epsilon=0.1, eta0=0.1, learning_rate=adaptive, penalty=l1, power_t=0.1; total time=   0.1s\n",
      "[CV] END alpha=0.001, epsilon=0.1, eta0=0.1, learning_rate=adaptive, penalty=elasticnet, power_t=0.25; total time=   0.1s\n",
      "[CV] END alpha=0.001, epsilon=0.1, eta0=0.1, learning_rate=adaptive, penalty=elasticnet, power_t=0.25; total time=   0.1s\n",
      "[CV] END alpha=0.001, epsilon=0.1, eta0=0.1, learning_rate=adaptive, penalty=elasticnet, power_t=0.1; total time=   0.1s\n",
      "[CV] END alpha=0.001, epsilon=0.1, eta0=0.1, learning_rate=adaptive, penalty=elasticnet, power_t=0.1; total time=   0.1s\n",
      "[CV] END alpha=0.001, epsilon=0.05, eta0=0.01, learning_rate=constant, penalty=l2, power_t=0.25; total time=   0.0s\n",
      "[CV] END alpha=0.001, epsilon=0.05, eta0=0.01, learning_rate=constant, penalty=l2, power_t=0.25; total time=   0.0s\n",
      "[CV] END alpha=0.001, epsilon=0.05, eta0=0.01, learning_rate=constant, penalty=l2, power_t=0.1; total time=   0.0s\n",
      "[CV] END alpha=0.001, epsilon=0.05, eta0=0.01, learning_rate=constant, penalty=l2, power_t=0.1; total time=   0.0s\n",
      "[CV] END alpha=0.001, epsilon=0.05, eta0=0.01, learning_rate=constant, penalty=l1, power_t=0.25; total time=   0.0s\n",
      "[CV] END alpha=0.001, epsilon=0.05, eta0=0.01, learning_rate=constant, penalty=l1, power_t=0.25; total time=   0.0s\n",
      "[CV] END alpha=0.001, epsilon=0.05, eta0=0.01, learning_rate=constant, penalty=l1, power_t=0.1; total time=   0.0s\n",
      "[CV] END alpha=0.001, epsilon=0.05, eta0=0.01, learning_rate=constant, penalty=l1, power_t=0.1; total time=   0.0s\n",
      "[CV] END alpha=0.001, epsilon=0.05, eta0=0.01, learning_rate=constant, penalty=elasticnet, power_t=0.25; total time=   0.0s\n",
      "[CV] END alpha=0.001, epsilon=0.05, eta0=0.01, learning_rate=constant, penalty=elasticnet, power_t=0.25; total time=   0.0s\n",
      "[CV] END alpha=0.001, epsilon=0.05, eta0=0.01, learning_rate=constant, penalty=elasticnet, power_t=0.1; total time=   0.0s\n",
      "[CV] END alpha=0.001, epsilon=0.05, eta0=0.01, learning_rate=constant, penalty=elasticnet, power_t=0.1; total time=   0.0s\n",
      "[CV] END alpha=0.001, epsilon=0.05, eta0=0.01, learning_rate=invscaling, penalty=l2, power_t=0.25; total time=   0.1s\n",
      "[CV] END alpha=0.001, epsilon=0.05, eta0=0.01, learning_rate=invscaling, penalty=l2, power_t=0.25; total time=   0.1s\n",
      "[CV] END alpha=0.001, epsilon=0.05, eta0=0.01, learning_rate=invscaling, penalty=l2, power_t=0.1; total time=   0.1s\n",
      "[CV] END alpha=0.001, epsilon=0.05, eta0=0.01, learning_rate=invscaling, penalty=l2, power_t=0.1; total time=   0.1s\n",
      "[CV] END alpha=0.001, epsilon=0.05, eta0=0.01, learning_rate=invscaling, penalty=l1, power_t=0.25; total time=   0.2s\n",
      "[CV] END alpha=0.001, epsilon=0.05, eta0=0.01, learning_rate=invscaling, penalty=l1, power_t=0.25; total time=   0.1s\n",
      "[CV] END alpha=0.001, epsilon=0.05, eta0=0.01, learning_rate=invscaling, penalty=l1, power_t=0.1; total time=   0.1s\n",
      "[CV] END alpha=0.001, epsilon=0.05, eta0=0.01, learning_rate=invscaling, penalty=l1, power_t=0.1; total time=   0.1s\n",
      "[CV] END alpha=0.001, epsilon=0.05, eta0=0.01, learning_rate=invscaling, penalty=elasticnet, power_t=0.25; total time=   0.1s\n",
      "[CV] END alpha=0.001, epsilon=0.05, eta0=0.01, learning_rate=invscaling, penalty=elasticnet, power_t=0.25; total time=   0.1s\n",
      "[CV] END alpha=0.001, epsilon=0.05, eta0=0.01, learning_rate=invscaling, penalty=elasticnet, power_t=0.1; total time=   0.1s\n",
      "[CV] END alpha=0.001, epsilon=0.05, eta0=0.01, learning_rate=invscaling, penalty=elasticnet, power_t=0.1; total time=   0.1s\n",
      "[CV] END alpha=0.001, epsilon=0.05, eta0=0.01, learning_rate=adaptive, penalty=l2, power_t=0.25; total time=   0.1s\n",
      "[CV] END alpha=0.001, epsilon=0.05, eta0=0.01, learning_rate=adaptive, penalty=l2, power_t=0.25; total time=   0.1s\n",
      "[CV] END alpha=0.001, epsilon=0.05, eta0=0.01, learning_rate=adaptive, penalty=l2, power_t=0.1; total time=   0.0s\n",
      "[CV] END alpha=0.001, epsilon=0.05, eta0=0.01, learning_rate=adaptive, penalty=l2, power_t=0.1; total time=   0.1s\n",
      "[CV] END alpha=0.001, epsilon=0.05, eta0=0.01, learning_rate=adaptive, penalty=l1, power_t=0.25; total time=   0.1s\n",
      "[CV] END alpha=0.001, epsilon=0.05, eta0=0.01, learning_rate=adaptive, penalty=l1, power_t=0.25; total time=   0.1s\n",
      "[CV] END alpha=0.001, epsilon=0.05, eta0=0.01, learning_rate=adaptive, penalty=l1, power_t=0.1; total time=   0.1s\n",
      "[CV] END alpha=0.001, epsilon=0.05, eta0=0.01, learning_rate=adaptive, penalty=l1, power_t=0.1; total time=   0.1s\n",
      "[CV] END alpha=0.001, epsilon=0.05, eta0=0.01, learning_rate=adaptive, penalty=elasticnet, power_t=0.25; total time=   0.1s\n",
      "[CV] END alpha=0.001, epsilon=0.05, eta0=0.01, learning_rate=adaptive, penalty=elasticnet, power_t=0.25; total time=   0.1s\n",
      "[CV] END alpha=0.001, epsilon=0.05, eta0=0.01, learning_rate=adaptive, penalty=elasticnet, power_t=0.1; total time=   0.1s\n",
      "[CV] END alpha=0.001, epsilon=0.05, eta0=0.01, learning_rate=adaptive, penalty=elasticnet, power_t=0.1; total time=   0.1s\n",
      "[CV] END alpha=0.001, epsilon=0.05, eta0=0.1, learning_rate=constant, penalty=l2, power_t=0.25; total time=   0.0s\n",
      "[CV] END alpha=0.001, epsilon=0.05, eta0=0.1, learning_rate=constant, penalty=l2, power_t=0.25; total time=   0.0s\n",
      "[CV] END alpha=0.001, epsilon=0.05, eta0=0.1, learning_rate=constant, penalty=l2, power_t=0.1; total time=   0.0s\n",
      "[CV] END alpha=0.001, epsilon=0.05, eta0=0.1, learning_rate=constant, penalty=l2, power_t=0.1; total time=   0.0s\n",
      "[CV] END alpha=0.001, epsilon=0.05, eta0=0.1, learning_rate=constant, penalty=l1, power_t=0.25; total time=   0.0s\n",
      "[CV] END alpha=0.001, epsilon=0.05, eta0=0.1, learning_rate=constant, penalty=l1, power_t=0.25; total time=   0.0s\n",
      "[CV] END alpha=0.001, epsilon=0.05, eta0=0.1, learning_rate=constant, penalty=l1, power_t=0.1; total time=   0.0s\n",
      "[CV] END alpha=0.001, epsilon=0.05, eta0=0.1, learning_rate=constant, penalty=l1, power_t=0.1; total time=   0.0s\n",
      "[CV] END alpha=0.001, epsilon=0.05, eta0=0.1, learning_rate=constant, penalty=elasticnet, power_t=0.25; total time=   0.0s\n",
      "[CV] END alpha=0.001, epsilon=0.05, eta0=0.1, learning_rate=constant, penalty=elasticnet, power_t=0.25; total time=   0.0s\n",
      "[CV] END alpha=0.001, epsilon=0.05, eta0=0.1, learning_rate=constant, penalty=elasticnet, power_t=0.1; total time=   0.0s\n",
      "[CV] END alpha=0.001, epsilon=0.05, eta0=0.1, learning_rate=constant, penalty=elasticnet, power_t=0.1; total time=   0.0s\n",
      "[CV] END alpha=0.001, epsilon=0.05, eta0=0.1, learning_rate=invscaling, penalty=l2, power_t=0.25; total time=   0.1s\n",
      "[CV] END alpha=0.001, epsilon=0.05, eta0=0.1, learning_rate=invscaling, penalty=l2, power_t=0.25; total time=   0.1s\n",
      "[CV] END alpha=0.001, epsilon=0.05, eta0=0.1, learning_rate=invscaling, penalty=l2, power_t=0.1; total time=   0.0s\n",
      "[CV] END alpha=0.001, epsilon=0.05, eta0=0.1, learning_rate=invscaling, penalty=l2, power_t=0.1; total time=   0.1s\n",
      "[CV] END alpha=0.001, epsilon=0.05, eta0=0.1, learning_rate=invscaling, penalty=l1, power_t=0.25; total time=   0.1s\n",
      "[CV] END alpha=0.001, epsilon=0.05, eta0=0.1, learning_rate=invscaling, penalty=l1, power_t=0.25; total time=   0.1s\n",
      "[CV] END alpha=0.001, epsilon=0.05, eta0=0.1, learning_rate=invscaling, penalty=l1, power_t=0.1; total time=   0.1s\n",
      "[CV] END alpha=0.001, epsilon=0.05, eta0=0.1, learning_rate=invscaling, penalty=l1, power_t=0.1; total time=   0.1s\n",
      "[CV] END alpha=0.001, epsilon=0.05, eta0=0.1, learning_rate=invscaling, penalty=elasticnet, power_t=0.25; total time=   0.1s\n",
      "[CV] END alpha=0.001, epsilon=0.05, eta0=0.1, learning_rate=invscaling, penalty=elasticnet, power_t=0.25; total time=   0.1s\n",
      "[CV] END alpha=0.001, epsilon=0.05, eta0=0.1, learning_rate=invscaling, penalty=elasticnet, power_t=0.1; total time=   0.1s\n",
      "[CV] END alpha=0.001, epsilon=0.05, eta0=0.1, learning_rate=invscaling, penalty=elasticnet, power_t=0.1; total time=   0.1s\n",
      "[CV] END alpha=0.001, epsilon=0.05, eta0=0.1, learning_rate=adaptive, penalty=l2, power_t=0.25; total time=   0.1s\n",
      "[CV] END alpha=0.001, epsilon=0.05, eta0=0.1, learning_rate=adaptive, penalty=l2, power_t=0.25; total time=   0.1s\n",
      "[CV] END alpha=0.001, epsilon=0.05, eta0=0.1, learning_rate=adaptive, penalty=l2, power_t=0.1; total time=   0.1s\n",
      "[CV] END alpha=0.001, epsilon=0.05, eta0=0.1, learning_rate=adaptive, penalty=l2, power_t=0.1; total time=   0.1s\n",
      "[CV] END alpha=0.001, epsilon=0.05, eta0=0.1, learning_rate=adaptive, penalty=l1, power_t=0.25; total time=   0.1s\n",
      "[CV] END alpha=0.001, epsilon=0.05, eta0=0.1, learning_rate=adaptive, penalty=l1, power_t=0.25; total time=   0.1s\n",
      "[CV] END alpha=0.001, epsilon=0.05, eta0=0.1, learning_rate=adaptive, penalty=l1, power_t=0.1; total time=   0.1s\n",
      "[CV] END alpha=0.001, epsilon=0.05, eta0=0.1, learning_rate=adaptive, penalty=l1, power_t=0.1; total time=   0.1s\n",
      "[CV] END alpha=0.001, epsilon=0.05, eta0=0.1, learning_rate=adaptive, penalty=elasticnet, power_t=0.25; total time=   0.1s\n",
      "[CV] END alpha=0.001, epsilon=0.05, eta0=0.1, learning_rate=adaptive, penalty=elasticnet, power_t=0.25; total time=   0.1s\n",
      "[CV] END alpha=0.001, epsilon=0.05, eta0=0.1, learning_rate=adaptive, penalty=elasticnet, power_t=0.1; total time=   0.1s\n",
      "[CV] END alpha=0.001, epsilon=0.05, eta0=0.1, learning_rate=adaptive, penalty=elasticnet, power_t=0.1; total time=   0.1s\n",
      "[CV] END alpha=0.1, epsilon=0.1, eta0=0.01, learning_rate=constant, penalty=l2, power_t=0.25; total time=   0.0s\n",
      "[CV] END alpha=0.1, epsilon=0.1, eta0=0.01, learning_rate=constant, penalty=l2, power_t=0.25; total time=   0.0s\n",
      "[CV] END alpha=0.1, epsilon=0.1, eta0=0.01, learning_rate=constant, penalty=l2, power_t=0.1; total time=   0.0s\n",
      "[CV] END alpha=0.1, epsilon=0.1, eta0=0.01, learning_rate=constant, penalty=l2, power_t=0.1; total time=   0.0s\n",
      "[CV] END alpha=0.1, epsilon=0.1, eta0=0.01, learning_rate=constant, penalty=l1, power_t=0.25; total time=   0.0s\n",
      "[CV] END alpha=0.1, epsilon=0.1, eta0=0.01, learning_rate=constant, penalty=l1, power_t=0.25; total time=   0.0s\n",
      "[CV] END alpha=0.1, epsilon=0.1, eta0=0.01, learning_rate=constant, penalty=l1, power_t=0.1; total time=   0.0s\n",
      "[CV] END alpha=0.1, epsilon=0.1, eta0=0.01, learning_rate=constant, penalty=l1, power_t=0.1; total time=   0.0s\n",
      "[CV] END alpha=0.1, epsilon=0.1, eta0=0.01, learning_rate=constant, penalty=elasticnet, power_t=0.25; total time=   0.0s\n",
      "[CV] END alpha=0.1, epsilon=0.1, eta0=0.01, learning_rate=constant, penalty=elasticnet, power_t=0.25; total time=   0.0s\n",
      "[CV] END alpha=0.1, epsilon=0.1, eta0=0.01, learning_rate=constant, penalty=elasticnet, power_t=0.1; total time=   0.0s\n",
      "[CV] END alpha=0.1, epsilon=0.1, eta0=0.01, learning_rate=constant, penalty=elasticnet, power_t=0.1; total time=   0.0s\n",
      "[CV] END alpha=0.1, epsilon=0.1, eta0=0.01, learning_rate=invscaling, penalty=l2, power_t=0.25; total time=   0.1s\n",
      "[CV] END alpha=0.1, epsilon=0.1, eta0=0.01, learning_rate=invscaling, penalty=l2, power_t=0.25; total time=   0.1s\n",
      "[CV] END alpha=0.1, epsilon=0.1, eta0=0.01, learning_rate=invscaling, penalty=l2, power_t=0.1; total time=   0.0s\n",
      "[CV] END alpha=0.1, epsilon=0.1, eta0=0.01, learning_rate=invscaling, penalty=l2, power_t=0.1; total time=   0.0s\n",
      "[CV] END alpha=0.1, epsilon=0.1, eta0=0.01, learning_rate=invscaling, penalty=l1, power_t=0.25; total time=   0.1s\n",
      "[CV] END alpha=0.1, epsilon=0.1, eta0=0.01, learning_rate=invscaling, penalty=l1, power_t=0.25; total time=   0.2s\n",
      "[CV] END alpha=0.1, epsilon=0.1, eta0=0.01, learning_rate=invscaling, penalty=l1, power_t=0.1; total time=   0.0s\n",
      "[CV] END alpha=0.1, epsilon=0.1, eta0=0.01, learning_rate=invscaling, penalty=l1, power_t=0.1; total time=   0.1s\n",
      "[CV] END alpha=0.1, epsilon=0.1, eta0=0.01, learning_rate=invscaling, penalty=elasticnet, power_t=0.25; total time=   0.1s\n",
      "[CV] END alpha=0.1, epsilon=0.1, eta0=0.01, learning_rate=invscaling, penalty=elasticnet, power_t=0.25; total time=   0.2s\n",
      "[CV] END alpha=0.1, epsilon=0.1, eta0=0.01, learning_rate=invscaling, penalty=elasticnet, power_t=0.1; total time=   0.0s\n",
      "[CV] END alpha=0.1, epsilon=0.1, eta0=0.01, learning_rate=invscaling, penalty=elasticnet, power_t=0.1; total time=   0.0s\n",
      "[CV] END alpha=0.1, epsilon=0.1, eta0=0.01, learning_rate=adaptive, penalty=l2, power_t=0.25; total time=   0.1s\n",
      "[CV] END alpha=0.1, epsilon=0.1, eta0=0.01, learning_rate=adaptive, penalty=l2, power_t=0.25; total time=   0.0s\n",
      "[CV] END alpha=0.1, epsilon=0.1, eta0=0.01, learning_rate=adaptive, penalty=l2, power_t=0.1; total time=   0.0s\n",
      "[CV] END alpha=0.1, epsilon=0.1, eta0=0.01, learning_rate=adaptive, penalty=l2, power_t=0.1; total time=   0.1s\n",
      "[CV] END alpha=0.1, epsilon=0.1, eta0=0.01, learning_rate=adaptive, penalty=l1, power_t=0.25; total time=   0.1s\n",
      "[CV] END alpha=0.1, epsilon=0.1, eta0=0.01, learning_rate=adaptive, penalty=l1, power_t=0.25; total time=   0.1s\n",
      "[CV] END alpha=0.1, epsilon=0.1, eta0=0.01, learning_rate=adaptive, penalty=l1, power_t=0.1; total time=   0.1s\n",
      "[CV] END alpha=0.1, epsilon=0.1, eta0=0.01, learning_rate=adaptive, penalty=l1, power_t=0.1; total time=   0.1s\n",
      "[CV] END alpha=0.1, epsilon=0.1, eta0=0.01, learning_rate=adaptive, penalty=elasticnet, power_t=0.25; total time=   0.1s\n",
      "[CV] END alpha=0.1, epsilon=0.1, eta0=0.01, learning_rate=adaptive, penalty=elasticnet, power_t=0.25; total time=   0.1s\n",
      "[CV] END alpha=0.1, epsilon=0.1, eta0=0.01, learning_rate=adaptive, penalty=elasticnet, power_t=0.1; total time=   0.1s\n",
      "[CV] END alpha=0.1, epsilon=0.1, eta0=0.01, learning_rate=adaptive, penalty=elasticnet, power_t=0.1; total time=   0.1s\n",
      "[CV] END alpha=0.1, epsilon=0.1, eta0=0.1, learning_rate=constant, penalty=l2, power_t=0.25; total time=   0.0s\n",
      "[CV] END alpha=0.1, epsilon=0.1, eta0=0.1, learning_rate=constant, penalty=l2, power_t=0.25; total time=   0.0s\n",
      "[CV] END alpha=0.1, epsilon=0.1, eta0=0.1, learning_rate=constant, penalty=l2, power_t=0.1; total time=   0.0s\n",
      "[CV] END alpha=0.1, epsilon=0.1, eta0=0.1, learning_rate=constant, penalty=l2, power_t=0.1; total time=   0.0s\n",
      "[CV] END alpha=0.1, epsilon=0.1, eta0=0.1, learning_rate=constant, penalty=l1, power_t=0.25; total time=   0.0s\n",
      "[CV] END alpha=0.1, epsilon=0.1, eta0=0.1, learning_rate=constant, penalty=l1, power_t=0.25; total time=   0.0s\n",
      "[CV] END alpha=0.1, epsilon=0.1, eta0=0.1, learning_rate=constant, penalty=l1, power_t=0.1; total time=   0.0s\n",
      "[CV] END alpha=0.1, epsilon=0.1, eta0=0.1, learning_rate=constant, penalty=l1, power_t=0.1; total time=   0.0s\n",
      "[CV] END alpha=0.1, epsilon=0.1, eta0=0.1, learning_rate=constant, penalty=elasticnet, power_t=0.25; total time=   0.0s\n",
      "[CV] END alpha=0.1, epsilon=0.1, eta0=0.1, learning_rate=constant, penalty=elasticnet, power_t=0.25; total time=   0.0s\n",
      "[CV] END alpha=0.1, epsilon=0.1, eta0=0.1, learning_rate=constant, penalty=elasticnet, power_t=0.1; total time=   0.0s\n",
      "[CV] END alpha=0.1, epsilon=0.1, eta0=0.1, learning_rate=constant, penalty=elasticnet, power_t=0.1; total time=   0.0s\n",
      "[CV] END alpha=0.1, epsilon=0.1, eta0=0.1, learning_rate=invscaling, penalty=l2, power_t=0.25; total time=   0.1s\n",
      "[CV] END alpha=0.1, epsilon=0.1, eta0=0.1, learning_rate=invscaling, penalty=l2, power_t=0.25; total time=   0.1s\n",
      "[CV] END alpha=0.1, epsilon=0.1, eta0=0.1, learning_rate=invscaling, penalty=l2, power_t=0.1; total time=   0.1s\n",
      "[CV] END alpha=0.1, epsilon=0.1, eta0=0.1, learning_rate=invscaling, penalty=l2, power_t=0.1; total time=   0.0s\n",
      "[CV] END alpha=0.1, epsilon=0.1, eta0=0.1, learning_rate=invscaling, penalty=l1, power_t=0.25; total time=   0.1s\n",
      "[CV] END alpha=0.1, epsilon=0.1, eta0=0.1, learning_rate=invscaling, penalty=l1, power_t=0.25; total time=   0.1s\n",
      "[CV] END alpha=0.1, epsilon=0.1, eta0=0.1, learning_rate=invscaling, penalty=l1, power_t=0.1; total time=   0.1s\n",
      "[CV] END alpha=0.1, epsilon=0.1, eta0=0.1, learning_rate=invscaling, penalty=l1, power_t=0.1; total time=   0.1s\n",
      "[CV] END alpha=0.1, epsilon=0.1, eta0=0.1, learning_rate=invscaling, penalty=elasticnet, power_t=0.25; total time=   0.2s\n",
      "[CV] END alpha=0.1, epsilon=0.1, eta0=0.1, learning_rate=invscaling, penalty=elasticnet, power_t=0.25; total time=   0.1s\n",
      "[CV] END alpha=0.1, epsilon=0.1, eta0=0.1, learning_rate=invscaling, penalty=elasticnet, power_t=0.1; total time=   0.0s\n",
      "[CV] END alpha=0.1, epsilon=0.1, eta0=0.1, learning_rate=invscaling, penalty=elasticnet, power_t=0.1; total time=   0.1s\n",
      "[CV] END alpha=0.1, epsilon=0.1, eta0=0.1, learning_rate=adaptive, penalty=l2, power_t=0.25; total time=   0.1s\n",
      "[CV] END alpha=0.1, epsilon=0.1, eta0=0.1, learning_rate=adaptive, penalty=l2, power_t=0.25; total time=   0.1s\n",
      "[CV] END alpha=0.1, epsilon=0.1, eta0=0.1, learning_rate=adaptive, penalty=l2, power_t=0.1; total time=   0.1s\n",
      "[CV] END alpha=0.1, epsilon=0.1, eta0=0.1, learning_rate=adaptive, penalty=l2, power_t=0.1; total time=   0.1s\n",
      "[CV] END alpha=0.1, epsilon=0.1, eta0=0.1, learning_rate=adaptive, penalty=l1, power_t=0.25; total time=   0.1s\n",
      "[CV] END alpha=0.1, epsilon=0.1, eta0=0.1, learning_rate=adaptive, penalty=l1, power_t=0.25; total time=   0.1s\n",
      "[CV] END alpha=0.1, epsilon=0.1, eta0=0.1, learning_rate=adaptive, penalty=l1, power_t=0.1; total time=   0.1s\n",
      "[CV] END alpha=0.1, epsilon=0.1, eta0=0.1, learning_rate=adaptive, penalty=l1, power_t=0.1; total time=   0.1s\n",
      "[CV] END alpha=0.1, epsilon=0.1, eta0=0.1, learning_rate=adaptive, penalty=elasticnet, power_t=0.25; total time=   0.1s\n",
      "[CV] END alpha=0.1, epsilon=0.1, eta0=0.1, learning_rate=adaptive, penalty=elasticnet, power_t=0.25; total time=   0.1s\n",
      "[CV] END alpha=0.1, epsilon=0.1, eta0=0.1, learning_rate=adaptive, penalty=elasticnet, power_t=0.1; total time=   0.1s\n",
      "[CV] END alpha=0.1, epsilon=0.1, eta0=0.1, learning_rate=adaptive, penalty=elasticnet, power_t=0.1; total time=   0.1s\n",
      "[CV] END alpha=0.1, epsilon=0.05, eta0=0.01, learning_rate=constant, penalty=l2, power_t=0.25; total time=   0.0s\n",
      "[CV] END alpha=0.1, epsilon=0.05, eta0=0.01, learning_rate=constant, penalty=l2, power_t=0.25; total time=   0.0s\n",
      "[CV] END alpha=0.1, epsilon=0.05, eta0=0.01, learning_rate=constant, penalty=l2, power_t=0.1; total time=   0.0s\n",
      "[CV] END alpha=0.1, epsilon=0.05, eta0=0.01, learning_rate=constant, penalty=l2, power_t=0.1; total time=   0.0s\n",
      "[CV] END alpha=0.1, epsilon=0.05, eta0=0.01, learning_rate=constant, penalty=l1, power_t=0.25; total time=   0.0s\n",
      "[CV] END alpha=0.1, epsilon=0.05, eta0=0.01, learning_rate=constant, penalty=l1, power_t=0.25; total time=   0.0s\n",
      "[CV] END alpha=0.1, epsilon=0.05, eta0=0.01, learning_rate=constant, penalty=l1, power_t=0.1; total time=   0.0s\n",
      "[CV] END alpha=0.1, epsilon=0.05, eta0=0.01, learning_rate=constant, penalty=l1, power_t=0.1; total time=   0.0s\n",
      "[CV] END alpha=0.1, epsilon=0.05, eta0=0.01, learning_rate=constant, penalty=elasticnet, power_t=0.25; total time=   0.0s\n",
      "[CV] END alpha=0.1, epsilon=0.05, eta0=0.01, learning_rate=constant, penalty=elasticnet, power_t=0.25; total time=   0.0s\n",
      "[CV] END alpha=0.1, epsilon=0.05, eta0=0.01, learning_rate=constant, penalty=elasticnet, power_t=0.1; total time=   0.0s\n",
      "[CV] END alpha=0.1, epsilon=0.05, eta0=0.01, learning_rate=constant, penalty=elasticnet, power_t=0.1; total time=   0.0s\n",
      "[CV] END alpha=0.1, epsilon=0.05, eta0=0.01, learning_rate=invscaling, penalty=l2, power_t=0.25; total time=   0.1s\n",
      "[CV] END alpha=0.1, epsilon=0.05, eta0=0.01, learning_rate=invscaling, penalty=l2, power_t=0.25; total time=   0.1s\n",
      "[CV] END alpha=0.1, epsilon=0.05, eta0=0.01, learning_rate=invscaling, penalty=l2, power_t=0.1; total time=   0.0s\n",
      "[CV] END alpha=0.1, epsilon=0.05, eta0=0.01, learning_rate=invscaling, penalty=l2, power_t=0.1; total time=   0.1s\n",
      "[CV] END alpha=0.1, epsilon=0.05, eta0=0.01, learning_rate=invscaling, penalty=l1, power_t=0.25; total time=   0.1s\n",
      "[CV] END alpha=0.1, epsilon=0.05, eta0=0.01, learning_rate=invscaling, penalty=l1, power_t=0.25; total time=   0.1s\n",
      "[CV] END alpha=0.1, epsilon=0.05, eta0=0.01, learning_rate=invscaling, penalty=l1, power_t=0.1; total time=   0.1s\n",
      "[CV] END alpha=0.1, epsilon=0.05, eta0=0.01, learning_rate=invscaling, penalty=l1, power_t=0.1; total time=   0.1s\n",
      "[CV] END alpha=0.1, epsilon=0.05, eta0=0.01, learning_rate=invscaling, penalty=elasticnet, power_t=0.25; total time=   0.1s\n",
      "[CV] END alpha=0.1, epsilon=0.05, eta0=0.01, learning_rate=invscaling, penalty=elasticnet, power_t=0.25; total time=   0.1s\n",
      "[CV] END alpha=0.1, epsilon=0.05, eta0=0.01, learning_rate=invscaling, penalty=elasticnet, power_t=0.1; total time=   0.1s\n",
      "[CV] END alpha=0.1, epsilon=0.05, eta0=0.01, learning_rate=invscaling, penalty=elasticnet, power_t=0.1; total time=   0.1s\n",
      "[CV] END alpha=0.1, epsilon=0.05, eta0=0.01, learning_rate=adaptive, penalty=l2, power_t=0.25; total time=   0.1s\n",
      "[CV] END alpha=0.1, epsilon=0.05, eta0=0.01, learning_rate=adaptive, penalty=l2, power_t=0.25; total time=   0.0s\n",
      "[CV] END alpha=0.1, epsilon=0.05, eta0=0.01, learning_rate=adaptive, penalty=l2, power_t=0.1; total time=   0.1s\n",
      "[CV] END alpha=0.1, epsilon=0.05, eta0=0.01, learning_rate=adaptive, penalty=l2, power_t=0.1; total time=   0.1s\n",
      "[CV] END alpha=0.1, epsilon=0.05, eta0=0.01, learning_rate=adaptive, penalty=l1, power_t=0.25; total time=   0.1s\n",
      "[CV] END alpha=0.1, epsilon=0.05, eta0=0.01, learning_rate=adaptive, penalty=l1, power_t=0.25; total time=   0.1s\n",
      "[CV] END alpha=0.1, epsilon=0.05, eta0=0.01, learning_rate=adaptive, penalty=l1, power_t=0.1; total time=   0.1s\n",
      "[CV] END alpha=0.1, epsilon=0.05, eta0=0.01, learning_rate=adaptive, penalty=l1, power_t=0.1; total time=   0.1s\n",
      "[CV] END alpha=0.1, epsilon=0.05, eta0=0.01, learning_rate=adaptive, penalty=elasticnet, power_t=0.25; total time=   0.1s\n",
      "[CV] END alpha=0.1, epsilon=0.05, eta0=0.01, learning_rate=adaptive, penalty=elasticnet, power_t=0.25; total time=   0.1s\n",
      "[CV] END alpha=0.1, epsilon=0.05, eta0=0.01, learning_rate=adaptive, penalty=elasticnet, power_t=0.1; total time=   0.1s\n",
      "[CV] END alpha=0.1, epsilon=0.05, eta0=0.01, learning_rate=adaptive, penalty=elasticnet, power_t=0.1; total time=   0.1s\n",
      "[CV] END alpha=0.1, epsilon=0.05, eta0=0.1, learning_rate=constant, penalty=l2, power_t=0.25; total time=   0.0s\n",
      "[CV] END alpha=0.1, epsilon=0.05, eta0=0.1, learning_rate=constant, penalty=l2, power_t=0.25; total time=   0.0s\n",
      "[CV] END alpha=0.1, epsilon=0.05, eta0=0.1, learning_rate=constant, penalty=l2, power_t=0.1; total time=   0.0s\n",
      "[CV] END alpha=0.1, epsilon=0.05, eta0=0.1, learning_rate=constant, penalty=l2, power_t=0.1; total time=   0.0s\n",
      "[CV] END alpha=0.1, epsilon=0.05, eta0=0.1, learning_rate=constant, penalty=l1, power_t=0.25; total time=   0.0s\n",
      "[CV] END alpha=0.1, epsilon=0.05, eta0=0.1, learning_rate=constant, penalty=l1, power_t=0.25; total time=   0.0s\n",
      "[CV] END alpha=0.1, epsilon=0.05, eta0=0.1, learning_rate=constant, penalty=l1, power_t=0.1; total time=   0.0s\n",
      "[CV] END alpha=0.1, epsilon=0.05, eta0=0.1, learning_rate=constant, penalty=l1, power_t=0.1; total time=   0.0s\n",
      "[CV] END alpha=0.1, epsilon=0.05, eta0=0.1, learning_rate=constant, penalty=elasticnet, power_t=0.25; total time=   0.0s\n",
      "[CV] END alpha=0.1, epsilon=0.05, eta0=0.1, learning_rate=constant, penalty=elasticnet, power_t=0.25; total time=   0.0s\n",
      "[CV] END alpha=0.1, epsilon=0.05, eta0=0.1, learning_rate=constant, penalty=elasticnet, power_t=0.1; total time=   0.0s\n",
      "[CV] END alpha=0.1, epsilon=0.05, eta0=0.1, learning_rate=constant, penalty=elasticnet, power_t=0.1; total time=   0.0s\n",
      "[CV] END alpha=0.1, epsilon=0.05, eta0=0.1, learning_rate=invscaling, penalty=l2, power_t=0.25; total time=   0.1s\n",
      "[CV] END alpha=0.1, epsilon=0.05, eta0=0.1, learning_rate=invscaling, penalty=l2, power_t=0.25; total time=   0.2s\n",
      "[CV] END alpha=0.1, epsilon=0.05, eta0=0.1, learning_rate=invscaling, penalty=l2, power_t=0.1; total time=   0.1s\n",
      "[CV] END alpha=0.1, epsilon=0.05, eta0=0.1, learning_rate=invscaling, penalty=l2, power_t=0.1; total time=   0.0s\n",
      "[CV] END alpha=0.1, epsilon=0.05, eta0=0.1, learning_rate=invscaling, penalty=l1, power_t=0.25; total time=   0.1s\n",
      "[CV] END alpha=0.1, epsilon=0.05, eta0=0.1, learning_rate=invscaling, penalty=l1, power_t=0.25; total time=   0.2s\n",
      "[CV] END alpha=0.1, epsilon=0.05, eta0=0.1, learning_rate=invscaling, penalty=l1, power_t=0.1; total time=   0.1s\n",
      "[CV] END alpha=0.1, epsilon=0.05, eta0=0.1, learning_rate=invscaling, penalty=l1, power_t=0.1; total time=   0.1s\n",
      "[CV] END alpha=0.1, epsilon=0.05, eta0=0.1, learning_rate=invscaling, penalty=elasticnet, power_t=0.25; total time=   0.2s\n",
      "[CV] END alpha=0.1, epsilon=0.05, eta0=0.1, learning_rate=invscaling, penalty=elasticnet, power_t=0.25; total time=   0.2s\n",
      "[CV] END alpha=0.1, epsilon=0.05, eta0=0.1, learning_rate=invscaling, penalty=elasticnet, power_t=0.1; total time=   0.1s\n",
      "[CV] END alpha=0.1, epsilon=0.05, eta0=0.1, learning_rate=invscaling, penalty=elasticnet, power_t=0.1; total time=   0.1s\n",
      "[CV] END alpha=0.1, epsilon=0.05, eta0=0.1, learning_rate=adaptive, penalty=l2, power_t=0.25; total time=   0.1s\n",
      "[CV] END alpha=0.1, epsilon=0.05, eta0=0.1, learning_rate=adaptive, penalty=l2, power_t=0.25; total time=   0.1s\n",
      "[CV] END alpha=0.1, epsilon=0.05, eta0=0.1, learning_rate=adaptive, penalty=l2, power_t=0.1; total time=   0.1s\n",
      "[CV] END alpha=0.1, epsilon=0.05, eta0=0.1, learning_rate=adaptive, penalty=l2, power_t=0.1; total time=   0.1s\n",
      "[CV] END alpha=0.1, epsilon=0.05, eta0=0.1, learning_rate=adaptive, penalty=l1, power_t=0.25; total time=   0.1s\n",
      "[CV] END alpha=0.1, epsilon=0.05, eta0=0.1, learning_rate=adaptive, penalty=l1, power_t=0.25; total time=   0.1s\n",
      "[CV] END alpha=0.1, epsilon=0.05, eta0=0.1, learning_rate=adaptive, penalty=l1, power_t=0.1; total time=   0.1s\n",
      "[CV] END alpha=0.1, epsilon=0.05, eta0=0.1, learning_rate=adaptive, penalty=l1, power_t=0.1; total time=   0.1s\n",
      "[CV] END alpha=0.1, epsilon=0.05, eta0=0.1, learning_rate=adaptive, penalty=elasticnet, power_t=0.25; total time=   0.1s\n",
      "[CV] END alpha=0.1, epsilon=0.05, eta0=0.1, learning_rate=adaptive, penalty=elasticnet, power_t=0.25; total time=   0.1s\n",
      "[CV] END alpha=0.1, epsilon=0.05, eta0=0.1, learning_rate=adaptive, penalty=elasticnet, power_t=0.1; total time=   0.1s\n",
      "[CV] END alpha=0.1, epsilon=0.05, eta0=0.1, learning_rate=adaptive, penalty=elasticnet, power_t=0.1; total time=   0.1s\n"
     ]
    },
    {
     "data": {
      "text/html": [
       "<div>\n",
       "<style scoped>\n",
       "    .dataframe tbody tr th:only-of-type {\n",
       "        vertical-align: middle;\n",
       "    }\n",
       "\n",
       "    .dataframe tbody tr th {\n",
       "        vertical-align: top;\n",
       "    }\n",
       "\n",
       "    .dataframe thead th {\n",
       "        text-align: right;\n",
       "    }\n",
       "</style>\n",
       "<table border=\"1\" class=\"dataframe\">\n",
       "  <thead>\n",
       "    <tr style=\"text-align: center;\">\n",
       "      <th></th>\n",
       "      <th>Model</th>\n",
       "      <th>Parameters</th>\n",
       "      <th>RMSE</th>\n",
       "      <th>R2 Score</th>\n",
       "      <th>MAE</th>\n",
       "    </tr>\n",
       "  </thead>\n",
       "  <tbody>\n",
       "    <tr>\n",
       "      <th>0</th>\n",
       "      <td>SGD</td>\n",
       "      <td>{'alpha': 0.1, 'epsilon': 0.05, 'eta0': 0.1, '...</td>\n",
       "      <td>1.3238413929419064e+16</td>\n",
       "      <td>-9.007040224844841e+19</td>\n",
       "      <td>1.188627397897394e+16</td>\n",
       "    </tr>\n",
       "  </tbody>\n",
       "</table>\n",
       "</div>"
      ],
      "text/plain": [
       "  Model                     Parameters                               RMSE                  R2 Score                 MAE          \n",
       "0   SGD  {'alpha': 0.1, 'epsilon': 0.05, 'eta0': 0.1, '...  1.3238413929419064e+16  -9.007040224844841e+19  1.188627397897394e+16"
      ]
     },
     "metadata": {},
     "output_type": "display_data"
    },
    {
     "name": "stderr",
     "output_type": "stream",
     "text": [
      "/tmp/ipykernel_10927/383821282.py:12: FutureWarning: The frame.append method is deprecated and will be removed from pandas in a future version. Use pandas.concat instead.\n",
      "  results = results.append(sgd_regressor(x_train, y_train, x_test, y_test), ignore_index=True)\n"
     ]
    },
    {
     "name": "stdout",
     "output_type": "stream",
     "text": [
      "Fitting 2 folds for each of 8 candidates, totalling 16 fits\n",
      "[CV] END .............alpha=0.001, epsilon=1.8, max_iter=100; total time=   0.0s\n",
      "[CV] END .............alpha=0.001, epsilon=1.8, max_iter=100; total time=   0.0s\n",
      "[CV] END .............alpha=0.001, epsilon=1.8, max_iter=300; total time=   0.0s\n",
      "[CV] END .............alpha=0.001, epsilon=1.8, max_iter=300; total time=   0.0s\n",
      "[CV] END ...............alpha=0.001, epsilon=3, max_iter=100; total time=   0.0s\n",
      "[CV] END ...............alpha=0.001, epsilon=3, max_iter=100; total time=   0.0s\n",
      "[CV] END ...............alpha=0.001, epsilon=3, max_iter=300; total time=   0.0s\n",
      "[CV] END ...............alpha=0.001, epsilon=3, max_iter=300; total time=   0.0s\n",
      "[CV] END ..............alpha=0.01, epsilon=1.8, max_iter=100; total time=   0.0s\n",
      "[CV] END ..............alpha=0.01, epsilon=1.8, max_iter=100; total time=   0.0s\n",
      "[CV] END ..............alpha=0.01, epsilon=1.8, max_iter=300; total time=   0.0s\n",
      "[CV] END ..............alpha=0.01, epsilon=1.8, max_iter=300; total time=   0.0s\n",
      "[CV] END ................alpha=0.01, epsilon=3, max_iter=100; total time=   0.0s\n",
      "[CV] END ................alpha=0.01, epsilon=3, max_iter=100; total time=   0.0s\n",
      "[CV] END ................alpha=0.01, epsilon=3, max_iter=300; total time=   0.0s\n",
      "[CV] END ................alpha=0.01, epsilon=3, max_iter=300; total time=   0.0s\n"
     ]
    },
    {
     "data": {
      "text/html": [
       "<div>\n",
       "<style scoped>\n",
       "    .dataframe tbody tr th:only-of-type {\n",
       "        vertical-align: middle;\n",
       "    }\n",
       "\n",
       "    .dataframe tbody tr th {\n",
       "        vertical-align: top;\n",
       "    }\n",
       "\n",
       "    .dataframe thead th {\n",
       "        text-align: right;\n",
       "    }\n",
       "</style>\n",
       "<table border=\"1\" class=\"dataframe\">\n",
       "  <thead>\n",
       "    <tr style=\"text-align: center;\">\n",
       "      <th></th>\n",
       "      <th>Model</th>\n",
       "      <th>Parameters</th>\n",
       "      <th>RMSE</th>\n",
       "      <th>R2 Score</th>\n",
       "      <th>MAE</th>\n",
       "    </tr>\n",
       "  </thead>\n",
       "  <tbody>\n",
       "    <tr>\n",
       "      <th>0</th>\n",
       "      <td>Huber</td>\n",
       "      <td>{'alpha': 0.01, 'epsilon': 3, 'max_iter': 100}</td>\n",
       "      <td>1313176.49</td>\n",
       "      <td>0.11</td>\n",
       "      <td>969625.09</td>\n",
       "    </tr>\n",
       "  </tbody>\n",
       "</table>\n",
       "</div>"
      ],
      "text/plain": [
       "  Model                     Parameters                       RMSE    R2 Score    MAE    \n",
       "0  Huber  {'alpha': 0.01, 'epsilon': 3, 'max_iter': 100}  1313176.49   0.11    969625.09"
      ]
     },
     "metadata": {},
     "output_type": "display_data"
    },
    {
     "name": "stderr",
     "output_type": "stream",
     "text": [
      "/tmp/ipykernel_10927/383821282.py:13: FutureWarning: The frame.append method is deprecated and will be removed from pandas in a future version. Use pandas.concat instead.\n",
      "  results = results.append(huber_regressor(x_train, y_train, x_test, y_test), ignore_index=True)\n"
     ]
    },
    {
     "name": "stdout",
     "output_type": "stream",
     "text": [
      "Fitting 2 folds for each of 2 candidates, totalling 4 fits\n"
     ]
    },
    {
     "name": "stderr",
     "output_type": "stream",
     "text": [
      "/home/ec2-user/anaconda3/envs/python3/lib/python3.10/site-packages/sklearn/linear_model/_theil_sen.py:69: RuntimeWarning: divide by zero encountered in true_divide\n",
      "  1 / diff_norm, axis=0\n"
     ]
    },
    {
     "name": "stdout",
     "output_type": "stream",
     "text": [
      "[CV] END .......................................max_iter=400; total time=   2.2s\n"
     ]
    },
    {
     "name": "stderr",
     "output_type": "stream",
     "text": [
      "/home/ec2-user/anaconda3/envs/python3/lib/python3.10/site-packages/sklearn/linear_model/_theil_sen.py:69: RuntimeWarning: divide by zero encountered in true_divide\n",
      "  1 / diff_norm, axis=0\n"
     ]
    },
    {
     "name": "stdout",
     "output_type": "stream",
     "text": [
      "[CV] END .......................................max_iter=400; total time=   2.2s\n"
     ]
    },
    {
     "name": "stderr",
     "output_type": "stream",
     "text": [
      "/home/ec2-user/anaconda3/envs/python3/lib/python3.10/site-packages/sklearn/linear_model/_theil_sen.py:69: RuntimeWarning: divide by zero encountered in true_divide\n",
      "  1 / diff_norm, axis=0\n"
     ]
    },
    {
     "name": "stdout",
     "output_type": "stream",
     "text": [
      "[CV] END .......................................max_iter=800; total time=   2.2s\n"
     ]
    },
    {
     "name": "stderr",
     "output_type": "stream",
     "text": [
      "/home/ec2-user/anaconda3/envs/python3/lib/python3.10/site-packages/sklearn/linear_model/_theil_sen.py:69: RuntimeWarning: divide by zero encountered in true_divide\n",
      "  1 / diff_norm, axis=0\n"
     ]
    },
    {
     "name": "stdout",
     "output_type": "stream",
     "text": [
      "[CV] END .......................................max_iter=800; total time=   2.2s\n"
     ]
    },
    {
     "name": "stderr",
     "output_type": "stream",
     "text": [
      "/home/ec2-user/anaconda3/envs/python3/lib/python3.10/site-packages/sklearn/linear_model/_theil_sen.py:69: RuntimeWarning: divide by zero encountered in true_divide\n",
      "  1 / diff_norm, axis=0\n",
      "/home/ec2-user/anaconda3/envs/python3/lib/python3.10/site-packages/sklearn/linear_model/_theil_sen.py:69: RuntimeWarning: divide by zero encountered in true_divide\n",
      "  1 / diff_norm, axis=0\n"
     ]
    },
    {
     "data": {
      "text/html": [
       "<div>\n",
       "<style scoped>\n",
       "    .dataframe tbody tr th:only-of-type {\n",
       "        vertical-align: middle;\n",
       "    }\n",
       "\n",
       "    .dataframe tbody tr th {\n",
       "        vertical-align: top;\n",
       "    }\n",
       "\n",
       "    .dataframe thead th {\n",
       "        text-align: right;\n",
       "    }\n",
       "</style>\n",
       "<table border=\"1\" class=\"dataframe\">\n",
       "  <thead>\n",
       "    <tr style=\"text-align: center;\">\n",
       "      <th></th>\n",
       "      <th>Model</th>\n",
       "      <th>Parameters</th>\n",
       "      <th>RMSE</th>\n",
       "      <th>R2 Score</th>\n",
       "      <th>MAE</th>\n",
       "    </tr>\n",
       "  </thead>\n",
       "  <tbody>\n",
       "    <tr>\n",
       "      <th>0</th>\n",
       "      <td>TheilSen</td>\n",
       "      <td>{'max_iter': 400}</td>\n",
       "      <td>9538741.700000001</td>\n",
       "      <td>-45.76</td>\n",
       "      <td>4400946.93</td>\n",
       "    </tr>\n",
       "  </tbody>\n",
       "</table>\n",
       "</div>"
      ],
      "text/plain": [
       "    Model       Parameters            RMSE        R2 Score     MAE    \n",
       "0  TheilSen  {'max_iter': 400}  9538741.700000001  -45.76   4400946.93"
      ]
     },
     "metadata": {},
     "output_type": "display_data"
    },
    {
     "name": "stderr",
     "output_type": "stream",
     "text": [
      "/tmp/ipykernel_10927/383821282.py:14: FutureWarning: The frame.append method is deprecated and will be removed from pandas in a future version. Use pandas.concat instead.\n",
      "  results = results.append(theilsen_regressor(x_train, y_train, x_test, y_test), ignore_index=True)\n"
     ]
    },
    {
     "name": "stdout",
     "output_type": "stream",
     "text": [
      "Fitting 2 folds for each of 6 candidates, totalling 12 fits\n",
      "[CV] END learning_rate=0.01, max_depth=10, min_split_loss=0, n_estimators=600, subsample=0.6; total time=   5.7s\n",
      "[CV] END learning_rate=0.01, max_depth=10, min_split_loss=0, n_estimators=600, subsample=0.6; total time=   5.7s\n",
      "[CV] END learning_rate=0.01, max_depth=10, min_split_loss=10, n_estimators=600, subsample=0.6; total time=   5.7s\n",
      "[CV] END learning_rate=0.01, max_depth=10, min_split_loss=10, n_estimators=600, subsample=0.6; total time=   5.7s\n",
      "[CV] END learning_rate=0.01, max_depth=10, min_split_loss=50, n_estimators=600, subsample=0.6; total time=   5.7s\n",
      "[CV] END learning_rate=0.01, max_depth=10, min_split_loss=50, n_estimators=600, subsample=0.6; total time=   5.7s\n",
      "[CV] END learning_rate=0.01, max_depth=100, min_split_loss=0, n_estimators=600, subsample=0.6; total time=  16.4s\n",
      "[CV] END learning_rate=0.01, max_depth=100, min_split_loss=0, n_estimators=600, subsample=0.6; total time=  16.6s\n",
      "[CV] END learning_rate=0.01, max_depth=100, min_split_loss=10, n_estimators=600, subsample=0.6; total time=  16.5s\n"
     ]
    }
   ],
   "source": [
    "results_v2 = pd.DataFrame()\n",
    "execute_analysis(results_v2)"
   ]
  },
  {
   "cell_type": "code",
   "execution_count": null,
   "id": "275d61d4-f5ad-40da-9a40-ccbeb95fc123",
   "metadata": {},
   "outputs": [],
   "source": []
  },
  {
   "cell_type": "code",
   "execution_count": null,
   "id": "c042bae7-9243-4606-89ad-6e2e65ef8660",
   "metadata": {},
   "outputs": [],
   "source": []
  }
 ],
 "metadata": {
  "kernelspec": {
   "display_name": "conda_python3",
   "language": "python",
   "name": "conda_python3"
  },
  "language_info": {
   "codemirror_mode": {
    "name": "ipython",
    "version": 3
   },
   "file_extension": ".py",
   "mimetype": "text/x-python",
   "name": "python",
   "nbconvert_exporter": "python",
   "pygments_lexer": "ipython3",
   "version": "3.10.8"
  }
 },
 "nbformat": 4,
 "nbformat_minor": 5
}
