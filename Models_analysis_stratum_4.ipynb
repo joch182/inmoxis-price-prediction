{
 "cells": [
  {
   "cell_type": "code",
   "execution_count": 1,
   "id": "ce4bbd69-cce7-432f-a150-d473d88ef649",
   "metadata": {
    "tags": []
   },
   "outputs": [
    {
     "name": "stdout",
     "output_type": "stream",
     "text": [
      "python3 is /home/ec2-user/anaconda3/envs/python3/bin/python3\n",
      "Looking in indexes: https://pypi.org/simple, https://pip.repos.neuron.amazonaws.com\n",
      "Requirement already satisfied: xgboost in /home/ec2-user/anaconda3/envs/python3/lib/python3.10/site-packages (1.7.5)\n",
      "Requirement already satisfied: numpy in /home/ec2-user/anaconda3/envs/python3/lib/python3.10/site-packages (from xgboost) (1.22.3)\n",
      "Requirement already satisfied: scipy in /home/ec2-user/anaconda3/envs/python3/lib/python3.10/site-packages (from xgboost) (1.10.0)\n",
      "Imports finished...\n"
     ]
    }
   ],
   "source": [
    "%run Regression_model_functions.ipynb\n",
    "pd.set_option('display.max_columns', None)\n",
    "pd.set_option('display.expand_frame_repr', True)\n",
    "from sklearn.model_selection import train_test_split\n",
    "from pprint import pprint"
   ]
  },
  {
   "cell_type": "code",
   "execution_count": 11,
   "id": "e0b02bc3-f838-4b85-98fb-7fc9cb857442",
   "metadata": {
    "tags": []
   },
   "outputs": [],
   "source": [
    "def data_split(df):\n",
    "    # Data split\n",
    "    x = df.drop('price_m2',axis=1)\n",
    "    y = df['price_m2']\n",
    "    x_train, x_test, y_train, y_test = train_test_split(x, y, test_size = 0.2, random_state = 42)\n",
    "    return x_train, x_test, y_train, y_test"
   ]
  },
  {
   "cell_type": "code",
   "execution_count": 12,
   "id": "084a3531-d185-450e-9254-e9b3c8f2d57d",
   "metadata": {
    "tags": []
   },
   "outputs": [],
   "source": [
    "def execute_analysis():\n",
    "    df = pd.DataFrame()\n",
    "    df = pd.concat([df,linear_regression(x_train, y_train, x_test, y_test, x_column_names)], ignore_index=True)\n",
    "    # results = pd.concat([df,ransac(x_train, y_train, x_test, y_test)], ignore_index=True)\n",
    "    df = pd.concat([df,ridge(x_train, y_train, x_test, y_test, x_column_names)], ignore_index=True)\n",
    "    # df = pd.concat([df,elasticnet(x_train, y_train, x_test, y_test)], ignore_index=True)\n",
    "    # results = pd.concat([df,linearsvr(x_train, y_train, x_test, y_test)], ignore_index=True)\n",
    "    # results = pd.concat([df,bayesianridge(x_train, y_train, x_test, y_test)], ignore_index=True)\n",
    "    df = pd.concat([df,lasso(x_train, y_train, x_test, y_test, x_column_names)], ignore_index=True)\n",
    "    df = pd.concat([df,decisiontree_regressor(x_train, y_train, x_test, y_test, x_column_names)], ignore_index=True)\n",
    "    df = pd.concat([df,randomforest_regressor(x_train, y_train, x_test, y_test, x_column_names)], ignore_index=True)\n",
    "    df = pd.concat([df,gradientboost_regressor(x_train, y_train, x_test, y_test, x_column_names)], ignore_index=True)\n",
    "    # df = pd.concat([df,sgd_regressor(x_train, y_train, x_test, y_test)], ignore_index=True)\n",
    "    # df = pd.concat([df,huber_regressor(x_train, y_train, x_test, y_test)], ignore_index=True)\n",
    "    # df = pd.concat([df,theilsen_regressor(x_train, y_train, x_test, y_test)], ignore_index=True)\n",
    "    df = pd.concat([df,xgboost(x_train, y_train, x_test, y_test, x_column_names)], ignore_index=True)\n",
    "    return df"
   ]
  },
  {
   "cell_type": "code",
   "execution_count": null,
   "id": "9453b5d9-272b-4c7c-a215-3d645f4fbc5d",
   "metadata": {
    "tags": []
   },
   "outputs": [],
   "source": [
    "# Analysis 1: Use full DF\n",
    "data_df = pd.read_csv('Data/20230409_Sales_HousesApartments_Bogota_Stratum4_price_and_pricem2.csv')\n",
    "data_df.drop('price', axis=1, inplace=True)\n",
    "data_df.dropna(inplace=True)\n",
    "x_train, x_test, y_train, y_test = data_split(data_df)\n",
    "\n",
    "x_column_names = data_df.drop('price_m2',axis=1).columns.values.tolist()\n",
    "results_v1 = execute_analysis()"
   ]
  },
  {
   "cell_type": "code",
   "execution_count": 5,
   "id": "7fafbced-6920-41c2-a215-18ec371ed95a",
   "metadata": {
    "tags": []
   },
   "outputs": [
    {
     "name": "stdout",
     "output_type": "stream",
     "text": [
      "--------------- Results Analysis 1 ---------------\n"
     ]
    },
    {
     "data": {
      "text/html": [
       "<div>\n",
       "<style scoped>\n",
       "    .dataframe tbody tr th:only-of-type {\n",
       "        vertical-align: middle;\n",
       "    }\n",
       "\n",
       "    .dataframe tbody tr th {\n",
       "        vertical-align: top;\n",
       "    }\n",
       "\n",
       "    .dataframe thead th {\n",
       "        text-align: right;\n",
       "    }\n",
       "</style>\n",
       "<table border=\"1\" class=\"dataframe\">\n",
       "  <thead>\n",
       "    <tr style=\"text-align: right;\">\n",
       "      <th></th>\n",
       "      <th>Model</th>\n",
       "      <th>Parameters</th>\n",
       "      <th>RMSE</th>\n",
       "      <th>R2 Score</th>\n",
       "      <th>MAE</th>\n",
       "      <th>Feature Importance</th>\n",
       "    </tr>\n",
       "  </thead>\n",
       "  <tbody>\n",
       "    <tr>\n",
       "      <th>0</th>\n",
       "      <td>Lineal Regression</td>\n",
       "      <td>NA</td>\n",
       "      <td>971323.21</td>\n",
       "      <td>0.52</td>\n",
       "      <td>720827.86</td>\n",
       "      <td>[(is_apartment, -30416.99098136891), (is_house...</td>\n",
       "    </tr>\n",
       "    <tr>\n",
       "      <th>1</th>\n",
       "      <td>Ridge</td>\n",
       "      <td>NA</td>\n",
       "      <td>972036.1900000001</td>\n",
       "      <td>0.51</td>\n",
       "      <td>721470.91</td>\n",
       "      <td>[(is_apartment, -25848.75860831601), (is_house...</td>\n",
       "    </tr>\n",
       "    <tr>\n",
       "      <th>2</th>\n",
       "      <td>Lasso</td>\n",
       "      <td>NA</td>\n",
       "      <td>971324.38</td>\n",
       "      <td>0.52</td>\n",
       "      <td>720829.13</td>\n",
       "      <td>[(is_apartment, -60803.00457512204), (is_house...</td>\n",
       "    </tr>\n",
       "    <tr>\n",
       "      <th>3</th>\n",
       "      <td>DecissionTree Regressor</td>\n",
       "      <td>{'max_features': 'sqrt', 'min_samples_leaf': 5...</td>\n",
       "      <td>893173.99</td>\n",
       "      <td>0.59</td>\n",
       "      <td>595232.2000000001</td>\n",
       "      <td>[(is_apartment, 0.0030721651473733765), (is_ho...</td>\n",
       "    </tr>\n",
       "    <tr>\n",
       "      <th>4</th>\n",
       "      <td>RandomForest Regressor</td>\n",
       "      <td>{'max_features': 0.6, 'min_samples_leaf': 1, '...</td>\n",
       "      <td>649271.22</td>\n",
       "      <td>0.78</td>\n",
       "      <td>405032.73</td>\n",
       "      <td>[(is_apartment, 0.010848872483742321), (is_hou...</td>\n",
       "    </tr>\n",
       "    <tr>\n",
       "      <th>5</th>\n",
       "      <td>Gradient Boost</td>\n",
       "      <td>{'learning_rate': 0.1, 'min_samples_split': 2,...</td>\n",
       "      <td>748583.18</td>\n",
       "      <td>0.71</td>\n",
       "      <td>532402.3200000001</td>\n",
       "      <td>[(is_apartment, 0.014248923240768747), (is_hou...</td>\n",
       "    </tr>\n",
       "    <tr>\n",
       "      <th>6</th>\n",
       "      <td>XGBoost</td>\n",
       "      <td>{'learning_rate': 0.01, 'max_depth': 100, 'min...</td>\n",
       "      <td>619975.41</td>\n",
       "      <td>0.8</td>\n",
       "      <td>374743.09</td>\n",
       "      <td>[(is_apartment, 0.029709352), (is_house, 0.0),...</td>\n",
       "    </tr>\n",
       "  </tbody>\n",
       "</table>\n",
       "</div>"
      ],
      "text/plain": [
       "                     Model                                         Parameters  \\\n",
       "0        Lineal Regression                                                 NA   \n",
       "1                    Ridge                                                 NA   \n",
       "2                    Lasso                                                 NA   \n",
       "3  DecissionTree Regressor  {'max_features': 'sqrt', 'min_samples_leaf': 5...   \n",
       "4   RandomForest Regressor  {'max_features': 0.6, 'min_samples_leaf': 1, '...   \n",
       "5           Gradient Boost  {'learning_rate': 0.1, 'min_samples_split': 2,...   \n",
       "6                  XGBoost  {'learning_rate': 0.01, 'max_depth': 100, 'min...   \n",
       "\n",
       "                RMSE R2 Score                MAE  \\\n",
       "0          971323.21     0.52          720827.86   \n",
       "1  972036.1900000001     0.51          721470.91   \n",
       "2          971324.38     0.52          720829.13   \n",
       "3          893173.99     0.59  595232.2000000001   \n",
       "4          649271.22     0.78          405032.73   \n",
       "5          748583.18     0.71  532402.3200000001   \n",
       "6          619975.41      0.8          374743.09   \n",
       "\n",
       "                                  Feature Importance  \n",
       "0  [(is_apartment, -30416.99098136891), (is_house...  \n",
       "1  [(is_apartment, -25848.75860831601), (is_house...  \n",
       "2  [(is_apartment, -60803.00457512204), (is_house...  \n",
       "3  [(is_apartment, 0.0030721651473733765), (is_ho...  \n",
       "4  [(is_apartment, 0.010848872483742321), (is_hou...  \n",
       "5  [(is_apartment, 0.014248923240768747), (is_hou...  \n",
       "6  [(is_apartment, 0.029709352), (is_house, 0.0),...  "
      ]
     },
     "metadata": {},
     "output_type": "display_data"
    },
    {
     "name": "stdout",
     "output_type": "stream",
     "text": [
      "--------------------- Finish ---------------------\n"
     ]
    }
   ],
   "source": [
    "print(\"--------------- Results Analysis 1 ---------------\")\n",
    "display(results_v1)\n",
    "print(\"--------------------- Finish ---------------------\")"
   ]
  },
  {
   "cell_type": "code",
   "execution_count": null,
   "id": "dd671721-0009-4038-b4f8-c5a539195950",
   "metadata": {
    "tags": []
   },
   "outputs": [],
   "source": [
    "# Analysis 2: Reduce DF\n",
    "data_df = pd.read_csv('Data/20230409_Sales_HousesApartments_Bogota_Stratum4_price_and_pricem2.csv')\n",
    "data_df.drop('price', axis=1, inplace=True)\n",
    "data_df = data_df[data_df['price_m2'] <= 15000000]\n",
    "data_df = data_df[data_df['total_area_m2'] <= 400]\n",
    "data_df = data_df[data_df['administration_price'] <= 1500000]\n",
    "data_df.dropna(inplace=True)\n",
    "\n",
    "x_train, x_test, y_train, y_test = data_split(data_df)\n",
    "x_column_names = data_df.drop('price_m2',axis=1).columns.values.tolist()\n",
    "results_v2 = execute_analysis()"
   ]
  },
  {
   "cell_type": "code",
   "execution_count": 14,
   "id": "e197fdd9-1dc5-404b-b212-f01d3218084a",
   "metadata": {},
   "outputs": [
    {
     "name": "stdout",
     "output_type": "stream",
     "text": [
      "--------------- Results Analysis 2 ---------------\n"
     ]
    },
    {
     "data": {
      "text/html": [
       "<div>\n",
       "<style scoped>\n",
       "    .dataframe tbody tr th:only-of-type {\n",
       "        vertical-align: middle;\n",
       "    }\n",
       "\n",
       "    .dataframe tbody tr th {\n",
       "        vertical-align: top;\n",
       "    }\n",
       "\n",
       "    .dataframe thead th {\n",
       "        text-align: right;\n",
       "    }\n",
       "</style>\n",
       "<table border=\"1\" class=\"dataframe\">\n",
       "  <thead>\n",
       "    <tr style=\"text-align: right;\">\n",
       "      <th></th>\n",
       "      <th>Model</th>\n",
       "      <th>Parameters</th>\n",
       "      <th>RMSE</th>\n",
       "      <th>R2 Score</th>\n",
       "      <th>MAE</th>\n",
       "      <th>Feature Importance</th>\n",
       "    </tr>\n",
       "  </thead>\n",
       "  <tbody>\n",
       "    <tr>\n",
       "      <th>0</th>\n",
       "      <td>Lineal Regression</td>\n",
       "      <td>NA</td>\n",
       "      <td>926237.48</td>\n",
       "      <td>0.52</td>\n",
       "      <td>696058.53</td>\n",
       "      <td>[(is_apartment, -43496.01008601065), (is_house...</td>\n",
       "    </tr>\n",
       "    <tr>\n",
       "      <th>1</th>\n",
       "      <td>Ridge</td>\n",
       "      <td>NA</td>\n",
       "      <td>926457.25</td>\n",
       "      <td>0.52</td>\n",
       "      <td>696732.99</td>\n",
       "      <td>[(is_apartment, -38729.72699576752), (is_house...</td>\n",
       "    </tr>\n",
       "    <tr>\n",
       "      <th>2</th>\n",
       "      <td>Lasso</td>\n",
       "      <td>NA</td>\n",
       "      <td>926237.02</td>\n",
       "      <td>0.52</td>\n",
       "      <td>696059.58</td>\n",
       "      <td>[(is_apartment, -86959.94466325057), (is_house...</td>\n",
       "    </tr>\n",
       "    <tr>\n",
       "      <th>3</th>\n",
       "      <td>DecissionTree Regressor</td>\n",
       "      <td>{'max_features': 'sqrt', 'min_samples_leaf': 5...</td>\n",
       "      <td>819063.92</td>\n",
       "      <td>0.63</td>\n",
       "      <td>561215.56</td>\n",
       "      <td>[(is_apartment, 0.0), (is_house, 0.04883211390...</td>\n",
       "    </tr>\n",
       "    <tr>\n",
       "      <th>4</th>\n",
       "      <td>RandomForest Regressor</td>\n",
       "      <td>{'max_features': 0.6, 'min_samples_leaf': 1, '...</td>\n",
       "      <td>631083.0</td>\n",
       "      <td>0.78</td>\n",
       "      <td>393057.75</td>\n",
       "      <td>[(is_apartment, 0.011280301121370701), (is_hou...</td>\n",
       "    </tr>\n",
       "    <tr>\n",
       "      <th>5</th>\n",
       "      <td>Gradient Boost</td>\n",
       "      <td>{'learning_rate': 0.1, 'min_samples_split': 5,...</td>\n",
       "      <td>715264.8</td>\n",
       "      <td>0.71</td>\n",
       "      <td>522189.83</td>\n",
       "      <td>[(is_apartment, 0.010527471339923577), (is_hou...</td>\n",
       "    </tr>\n",
       "    <tr>\n",
       "      <th>6</th>\n",
       "      <td>XGBoost</td>\n",
       "      <td>{'learning_rate': 0.01, 'max_depth': 100, 'min...</td>\n",
       "      <td>605621.48</td>\n",
       "      <td>0.8</td>\n",
       "      <td>369142.45</td>\n",
       "      <td>[(is_apartment, 0.028849494), (is_house, 0.0),...</td>\n",
       "    </tr>\n",
       "  </tbody>\n",
       "</table>\n",
       "</div>"
      ],
      "text/plain": [
       "                     Model                                         Parameters  \\\n",
       "0        Lineal Regression                                                 NA   \n",
       "1                    Ridge                                                 NA   \n",
       "2                    Lasso                                                 NA   \n",
       "3  DecissionTree Regressor  {'max_features': 'sqrt', 'min_samples_leaf': 5...   \n",
       "4   RandomForest Regressor  {'max_features': 0.6, 'min_samples_leaf': 1, '...   \n",
       "5           Gradient Boost  {'learning_rate': 0.1, 'min_samples_split': 5,...   \n",
       "6                  XGBoost  {'learning_rate': 0.01, 'max_depth': 100, 'min...   \n",
       "\n",
       "        RMSE R2 Score        MAE  \\\n",
       "0  926237.48     0.52  696058.53   \n",
       "1  926457.25     0.52  696732.99   \n",
       "2  926237.02     0.52  696059.58   \n",
       "3  819063.92     0.63  561215.56   \n",
       "4   631083.0     0.78  393057.75   \n",
       "5   715264.8     0.71  522189.83   \n",
       "6  605621.48      0.8  369142.45   \n",
       "\n",
       "                                  Feature Importance  \n",
       "0  [(is_apartment, -43496.01008601065), (is_house...  \n",
       "1  [(is_apartment, -38729.72699576752), (is_house...  \n",
       "2  [(is_apartment, -86959.94466325057), (is_house...  \n",
       "3  [(is_apartment, 0.0), (is_house, 0.04883211390...  \n",
       "4  [(is_apartment, 0.011280301121370701), (is_hou...  \n",
       "5  [(is_apartment, 0.010527471339923577), (is_hou...  \n",
       "6  [(is_apartment, 0.028849494), (is_house, 0.0),...  "
      ]
     },
     "metadata": {},
     "output_type": "display_data"
    },
    {
     "name": "stdout",
     "output_type": "stream",
     "text": [
      "--------------------- Finish ---------------------\n"
     ]
    }
   ],
   "source": [
    "print(\"--------------- Results Analysis 2 ---------------\")\n",
    "display(results_v2)\n",
    "print(\"--------------------- Finish ---------------------\")"
   ]
  },
  {
   "cell_type": "code",
   "execution_count": null,
   "id": "2fca4a26-ccdc-4aec-aaac-303170cac6a8",
   "metadata": {
    "tags": []
   },
   "outputs": [],
   "source": [
    "# Analysis 3: Reduce DF\n",
    "data_df = pd.read_csv('Data/20230409_Sales_HousesApartments_Bogota_Stratum4_price_and_pricem2.csv')\n",
    "data_df.drop(['price', 'is_apartment', 'is_house', 'administration_price'], axis=1, inplace=True)\n",
    "data_df.dropna(inplace=True)\n",
    "\n",
    "x_train, x_test, y_train, y_test = data_split(data_df)\n",
    "x_column_names = data_df.drop('price_m2',axis=1).columns.values.tolist()\n",
    "results_v3 = execute_analysis()"
   ]
  },
  {
   "cell_type": "code",
   "execution_count": 17,
   "id": "a8d3b246-344a-40cb-bf12-35e6b6adaf1a",
   "metadata": {
    "tags": []
   },
   "outputs": [
    {
     "name": "stdout",
     "output_type": "stream",
     "text": [
      "--------------- Results Analysis 3 ---------------\n"
     ]
    },
    {
     "data": {
      "text/html": [
       "<div>\n",
       "<style scoped>\n",
       "    .dataframe tbody tr th:only-of-type {\n",
       "        vertical-align: middle;\n",
       "    }\n",
       "\n",
       "    .dataframe tbody tr th {\n",
       "        vertical-align: top;\n",
       "    }\n",
       "\n",
       "    .dataframe thead th {\n",
       "        text-align: right;\n",
       "    }\n",
       "</style>\n",
       "<table border=\"1\" class=\"dataframe\">\n",
       "  <thead>\n",
       "    <tr style=\"text-align: right;\">\n",
       "      <th></th>\n",
       "      <th>Model</th>\n",
       "      <th>Parameters</th>\n",
       "      <th>RMSE</th>\n",
       "      <th>R2 Score</th>\n",
       "      <th>MAE</th>\n",
       "      <th>Feature Importance</th>\n",
       "    </tr>\n",
       "  </thead>\n",
       "  <tbody>\n",
       "    <tr>\n",
       "      <th>0</th>\n",
       "      <td>Lineal Regression</td>\n",
       "      <td>NA</td>\n",
       "      <td>978726.13</td>\n",
       "      <td>0.51</td>\n",
       "      <td>723112.5</td>\n",
       "      <td>[(less_than_10_years_old, 520382.43155546975),...</td>\n",
       "    </tr>\n",
       "    <tr>\n",
       "      <th>1</th>\n",
       "      <td>Ridge</td>\n",
       "      <td>NA</td>\n",
       "      <td>979496.41</td>\n",
       "      <td>0.51</td>\n",
       "      <td>723648.99</td>\n",
       "      <td>[(less_than_10_years_old, 514653.8172778529), ...</td>\n",
       "    </tr>\n",
       "    <tr>\n",
       "      <th>2</th>\n",
       "      <td>Lasso</td>\n",
       "      <td>NA</td>\n",
       "      <td>978727.09</td>\n",
       "      <td>0.51</td>\n",
       "      <td>723113.14</td>\n",
       "      <td>[(less_than_10_years_old, 730076.1958382877), ...</td>\n",
       "    </tr>\n",
       "    <tr>\n",
       "      <th>3</th>\n",
       "      <td>DecissionTree Regressor</td>\n",
       "      <td>{'max_features': 'sqrt', 'min_samples_leaf': 5...</td>\n",
       "      <td>900289.96</td>\n",
       "      <td>0.58</td>\n",
       "      <td>591825.28</td>\n",
       "      <td>[(less_than_10_years_old, 0.040391584811995986...</td>\n",
       "    </tr>\n",
       "    <tr>\n",
       "      <th>4</th>\n",
       "      <td>RandomForest Regressor</td>\n",
       "      <td>{'max_features': 0.6, 'min_samples_leaf': 1, '...</td>\n",
       "      <td>672121.75</td>\n",
       "      <td>0.77</td>\n",
       "      <td>422300.14</td>\n",
       "      <td>[(less_than_10_years_old, 0.07909232063278561)...</td>\n",
       "    </tr>\n",
       "    <tr>\n",
       "      <th>5</th>\n",
       "      <td>Gradient Boost</td>\n",
       "      <td>{'learning_rate': 0.1, 'min_samples_split': 10...</td>\n",
       "      <td>768618.67</td>\n",
       "      <td>0.7000000000000001</td>\n",
       "      <td>554861.5</td>\n",
       "      <td>[(less_than_10_years_old, 0.10135754806724767)...</td>\n",
       "    </tr>\n",
       "    <tr>\n",
       "      <th>6</th>\n",
       "      <td>XGBoost</td>\n",
       "      <td>{'learning_rate': 0.01, 'max_depth': 100, 'min...</td>\n",
       "      <td>653104.2000000001</td>\n",
       "      <td>0.78</td>\n",
       "      <td>399644.42</td>\n",
       "      <td>[(less_than_10_years_old, 0.17509809), (more_t...</td>\n",
       "    </tr>\n",
       "  </tbody>\n",
       "</table>\n",
       "</div>"
      ],
      "text/plain": [
       "                     Model                                         Parameters  \\\n",
       "0        Lineal Regression                                                 NA   \n",
       "1                    Ridge                                                 NA   \n",
       "2                    Lasso                                                 NA   \n",
       "3  DecissionTree Regressor  {'max_features': 'sqrt', 'min_samples_leaf': 5...   \n",
       "4   RandomForest Regressor  {'max_features': 0.6, 'min_samples_leaf': 1, '...   \n",
       "5           Gradient Boost  {'learning_rate': 0.1, 'min_samples_split': 10...   \n",
       "6                  XGBoost  {'learning_rate': 0.01, 'max_depth': 100, 'min...   \n",
       "\n",
       "                RMSE            R2 Score        MAE  \\\n",
       "0          978726.13                0.51   723112.5   \n",
       "1          979496.41                0.51  723648.99   \n",
       "2          978727.09                0.51  723113.14   \n",
       "3          900289.96                0.58  591825.28   \n",
       "4          672121.75                0.77  422300.14   \n",
       "5          768618.67  0.7000000000000001   554861.5   \n",
       "6  653104.2000000001                0.78  399644.42   \n",
       "\n",
       "                                  Feature Importance  \n",
       "0  [(less_than_10_years_old, 520382.43155546975),...  \n",
       "1  [(less_than_10_years_old, 514653.8172778529), ...  \n",
       "2  [(less_than_10_years_old, 730076.1958382877), ...  \n",
       "3  [(less_than_10_years_old, 0.040391584811995986...  \n",
       "4  [(less_than_10_years_old, 0.07909232063278561)...  \n",
       "5  [(less_than_10_years_old, 0.10135754806724767)...  \n",
       "6  [(less_than_10_years_old, 0.17509809), (more_t...  "
      ]
     },
     "metadata": {},
     "output_type": "display_data"
    },
    {
     "name": "stdout",
     "output_type": "stream",
     "text": [
      "--------------------- Finish ---------------------\n"
     ]
    }
   ],
   "source": [
    "print(\"--------------- Results Analysis 3 ---------------\")\n",
    "display(results_v3)\n",
    "print(\"--------------------- Finish ---------------------\")"
   ]
  },
  {
   "cell_type": "code",
   "execution_count": 20,
   "id": "b8b0ec40-d889-4113-a4a4-6eac7b3924d6",
   "metadata": {
    "tags": []
   },
   "outputs": [
    {
     "name": "stdout",
     "output_type": "stream",
     "text": [
      "[('less_than_10_years_old', 0.17509809),\n",
      " ('more_than_20_years_old', 0.050135512),\n",
      " ('between_10_and_20_years_old', 0.015329247),\n",
      " ('garages', 0.06757722),\n",
      " ('baths', 0.044983666),\n",
      " ('lat', 0.05128308),\n",
      " ('lng', 0.050282653),\n",
      " ('rooms', 0.4720861),\n",
      " ('total_area_m2', 0.073224485)]\n"
     ]
    }
   ],
   "source": [
    "pprint(results_v3['Feature Importance'][6])"
   ]
  },
  {
   "cell_type": "code",
   "execution_count": null,
   "id": "6596b0a1-36b2-4bbf-bdb8-e2fd114f4491",
   "metadata": {
    "tags": []
   },
   "outputs": [],
   "source": [
    "# Analysis 4: Reduce DF\n",
    "data_df = pd.read_csv('Data/20230409_Sales_HousesApartments_Bogota_Stratum4_price_and_pricem2.csv')\n",
    "data_df.drop(['price', 'is_apartment', 'is_house', 'more_than_20_years_old', 'between_10_and_20_years_old'], axis=1, inplace=True)\n",
    "data_df.dropna(inplace=True)\n",
    "\n",
    "x_train, x_test, y_train, y_test = data_split(data_df)\n",
    "x_column_names = data_df.drop('price_m2',axis=1).columns.values.tolist()\n",
    "results_v4 = execute_analysis()"
   ]
  },
  {
   "cell_type": "code",
   "execution_count": 22,
   "id": "d62b35f2-102d-4015-a09e-17e57d5044d4",
   "metadata": {
    "tags": []
   },
   "outputs": [
    {
     "name": "stdout",
     "output_type": "stream",
     "text": [
      "--------------- Results Analysis 4 ---------------\n"
     ]
    },
    {
     "data": {
      "text/html": [
       "<div>\n",
       "<style scoped>\n",
       "    .dataframe tbody tr th:only-of-type {\n",
       "        vertical-align: middle;\n",
       "    }\n",
       "\n",
       "    .dataframe tbody tr th {\n",
       "        vertical-align: top;\n",
       "    }\n",
       "\n",
       "    .dataframe thead th {\n",
       "        text-align: right;\n",
       "    }\n",
       "</style>\n",
       "<table border=\"1\" class=\"dataframe\">\n",
       "  <thead>\n",
       "    <tr style=\"text-align: right;\">\n",
       "      <th></th>\n",
       "      <th>Model</th>\n",
       "      <th>Parameters</th>\n",
       "      <th>RMSE</th>\n",
       "      <th>R2 Score</th>\n",
       "      <th>MAE</th>\n",
       "      <th>Feature Importance</th>\n",
       "    </tr>\n",
       "  </thead>\n",
       "  <tbody>\n",
       "    <tr>\n",
       "      <th>0</th>\n",
       "      <td>Lineal Regression</td>\n",
       "      <td>NA</td>\n",
       "      <td>983901.24</td>\n",
       "      <td>0.5</td>\n",
       "      <td>734209.26</td>\n",
       "      <td>[(less_than_10_years_old, 790193.3290495996), ...</td>\n",
       "    </tr>\n",
       "    <tr>\n",
       "      <th>1</th>\n",
       "      <td>Ridge</td>\n",
       "      <td>NA</td>\n",
       "      <td>984389.23</td>\n",
       "      <td>0.5</td>\n",
       "      <td>734726.71</td>\n",
       "      <td>[(less_than_10_years_old, 782822.3802583585), ...</td>\n",
       "    </tr>\n",
       "    <tr>\n",
       "      <th>2</th>\n",
       "      <td>Lasso</td>\n",
       "      <td>NA</td>\n",
       "      <td>983902.23</td>\n",
       "      <td>0.5</td>\n",
       "      <td>734210.54</td>\n",
       "      <td>[(less_than_10_years_old, 790167.768425047), (...</td>\n",
       "    </tr>\n",
       "    <tr>\n",
       "      <th>3</th>\n",
       "      <td>DecissionTree Regressor</td>\n",
       "      <td>{'max_features': 'sqrt', 'min_samples_leaf': 5...</td>\n",
       "      <td>896304.39</td>\n",
       "      <td>0.59</td>\n",
       "      <td>593894.14</td>\n",
       "      <td>[(less_than_10_years_old, 0.11004033711504255)...</td>\n",
       "    </tr>\n",
       "    <tr>\n",
       "      <th>4</th>\n",
       "      <td>RandomForest Regressor</td>\n",
       "      <td>{'max_features': 0.6, 'min_samples_leaf': 1, '...</td>\n",
       "      <td>650287.59</td>\n",
       "      <td>0.78</td>\n",
       "      <td>407963.59</td>\n",
       "      <td>[(less_than_10_years_old, 0.10016309326175085)...</td>\n",
       "    </tr>\n",
       "    <tr>\n",
       "      <th>5</th>\n",
       "      <td>Gradient Boost</td>\n",
       "      <td>{'learning_rate': 0.1, 'min_samples_split': 2,...</td>\n",
       "      <td>767830.21</td>\n",
       "      <td>0.7000000000000001</td>\n",
       "      <td>552047.41</td>\n",
       "      <td>[(less_than_10_years_old, 0.13049804273925436)...</td>\n",
       "    </tr>\n",
       "    <tr>\n",
       "      <th>6</th>\n",
       "      <td>XGBoost</td>\n",
       "      <td>{'learning_rate': 0.01, 'max_depth': 100, 'min...</td>\n",
       "      <td>630351.84</td>\n",
       "      <td>0.8</td>\n",
       "      <td>380535.14</td>\n",
       "      <td>[(less_than_10_years_old, 0.14789681), (garage...</td>\n",
       "    </tr>\n",
       "  </tbody>\n",
       "</table>\n",
       "</div>"
      ],
      "text/plain": [
       "                     Model                                         Parameters  \\\n",
       "0        Lineal Regression                                                 NA   \n",
       "1                    Ridge                                                 NA   \n",
       "2                    Lasso                                                 NA   \n",
       "3  DecissionTree Regressor  {'max_features': 'sqrt', 'min_samples_leaf': 5...   \n",
       "4   RandomForest Regressor  {'max_features': 0.6, 'min_samples_leaf': 1, '...   \n",
       "5           Gradient Boost  {'learning_rate': 0.1, 'min_samples_split': 2,...   \n",
       "6                  XGBoost  {'learning_rate': 0.01, 'max_depth': 100, 'min...   \n",
       "\n",
       "        RMSE            R2 Score        MAE  \\\n",
       "0  983901.24                 0.5  734209.26   \n",
       "1  984389.23                 0.5  734726.71   \n",
       "2  983902.23                 0.5  734210.54   \n",
       "3  896304.39                0.59  593894.14   \n",
       "4  650287.59                0.78  407963.59   \n",
       "5  767830.21  0.7000000000000001  552047.41   \n",
       "6  630351.84                 0.8  380535.14   \n",
       "\n",
       "                                  Feature Importance  \n",
       "0  [(less_than_10_years_old, 790193.3290495996), ...  \n",
       "1  [(less_than_10_years_old, 782822.3802583585), ...  \n",
       "2  [(less_than_10_years_old, 790167.768425047), (...  \n",
       "3  [(less_than_10_years_old, 0.11004033711504255)...  \n",
       "4  [(less_than_10_years_old, 0.10016309326175085)...  \n",
       "5  [(less_than_10_years_old, 0.13049804273925436)...  \n",
       "6  [(less_than_10_years_old, 0.14789681), (garage...  "
      ]
     },
     "metadata": {},
     "output_type": "display_data"
    },
    {
     "name": "stdout",
     "output_type": "stream",
     "text": [
      "--------------------- Finish ---------------------\n"
     ]
    }
   ],
   "source": [
    "print(\"--------------- Results Analysis 4 ---------------\")\n",
    "display(results_v4)\n",
    "print(\"--------------------- Finish ---------------------\")"
   ]
  },
  {
   "cell_type": "code",
   "execution_count": null,
   "id": "f095c538-0158-43d3-9b6c-b58a0e259b96",
   "metadata": {},
   "outputs": [],
   "source": []
  }
 ],
 "metadata": {
  "kernelspec": {
   "display_name": "conda_python3",
   "language": "python",
   "name": "conda_python3"
  },
  "language_info": {
   "codemirror_mode": {
    "name": "ipython",
    "version": 3
   },
   "file_extension": ".py",
   "mimetype": "text/x-python",
   "name": "python",
   "nbconvert_exporter": "python",
   "pygments_lexer": "ipython3",
   "version": "3.10.8"
  }
 },
 "nbformat": 4,
 "nbformat_minor": 5
}
