{
 "cells": [
  {
   "cell_type": "code",
   "execution_count": 39,
   "id": "ce4bbd69-cce7-432f-a150-d473d88ef649",
   "metadata": {
    "tags": []
   },
   "outputs": [
    {
     "name": "stdout",
     "output_type": "stream",
     "text": [
      "python3 is /Users/joseheredia/anaconda3/bin/python3\n",
      "/bin/bash: /home/ec2-user/anaconda3/envs/python3/bin/python3: No such file or directory\n",
      "Imports finished...\n"
     ]
    }
   ],
   "source": [
    "%run Regression_model_functions.ipynb\n",
    "pd.set_option('display.max_columns', None)\n",
    "pd.set_option('display.expand_frame_repr', True)\n",
    "from sklearn.model_selection import train_test_split\n",
    "from pprint import pprint"
   ]
  },
  {
   "cell_type": "code",
   "execution_count": 40,
   "id": "e0b02bc3-f838-4b85-98fb-7fc9cb857442",
   "metadata": {
    "tags": []
   },
   "outputs": [],
   "source": [
    "def data_split(df):\n",
    "    # Data split\n",
    "    x = df.drop('price_m2',axis=1)\n",
    "    y = df['price_m2']\n",
    "    x_train, x_test, y_train, y_test = train_test_split(x, y, test_size = 0.2, random_state = 42)\n",
    "    return x_train, x_test, y_train, y_test"
   ]
  },
  {
   "cell_type": "code",
   "execution_count": 44,
   "id": "084a3531-d185-450e-9254-e9b3c8f2d57d",
   "metadata": {
    "tags": []
   },
   "outputs": [],
   "source": [
    "def execute_analysis():\n",
    "    df = pd.DataFrame()\n",
    "    df = pd.concat([df,xgboost(x_train, y_train, x_test, y_test, x_column_names)], ignore_index=True)\n",
    "    df = pd.concat([df,gradientboost_regressor(x_train, y_train, x_test, y_test, x_column_names)], ignore_index=True)\n",
    "    df = pd.concat([df,randomforest_regressor(x_train, y_train, x_test, y_test, x_column_names)], ignore_index=True)\n",
    "    df = pd.concat([df,linear_regression(x_train, y_train, x_test, y_test, x_column_names)], ignore_index=True)\n",
    "    # results = pd.concat([df,ransac(x_train, y_train, x_test, y_test)], ignore_index=True)\n",
    "    df = pd.concat([df,ridge(x_train, y_train, x_test, y_test, x_column_names)], ignore_index=True)\n",
    "    # df = pd.concat([df,elasticnet(x_train, y_train, x_test, y_test)], ignore_index=True)\n",
    "    # results = pd.concat([df,linearsvr(x_train, y_train, x_test, y_test)], ignore_index=True)\n",
    "    # results = pd.concat([df,bayesianridge(x_train, y_train, x_test, y_test)], ignore_index=True)\n",
    "    df = pd.concat([df,lasso(x_train, y_train, x_test, y_test, x_column_names)], ignore_index=True)\n",
    "    df = pd.concat([df,decisiontree_regressor(x_train, y_train, x_test, y_test, x_column_names)], ignore_index=True)\n",
    "    # df = pd.concat([df,sgd_regressor(x_train, y_train, x_test, y_test)], ignore_index=True)\n",
    "    # df = pd.concat([df,huber_regressor(x_train, y_train, x_test, y_test)], ignore_index=True)\n",
    "    # df = pd.concat([df,theilsen_regressor(x_train, y_train, x_test, y_test)], ignore_index=True)\n",
    "    return df"
   ]
  },
  {
   "cell_type": "code",
   "execution_count": 45,
   "id": "d22461c5-9d07-419f-9de0-6ad9b50e06c0",
   "metadata": {},
   "outputs": [
    {
     "data": {
      "text/html": [
       "<div>\n",
       "<style scoped>\n",
       "    .dataframe tbody tr th:only-of-type {\n",
       "        vertical-align: middle;\n",
       "    }\n",
       "\n",
       "    .dataframe tbody tr th {\n",
       "        vertical-align: top;\n",
       "    }\n",
       "\n",
       "    .dataframe thead th {\n",
       "        text-align: right;\n",
       "    }\n",
       "</style>\n",
       "<table border=\"1\" class=\"dataframe\">\n",
       "  <thead>\n",
       "    <tr style=\"text-align: right;\">\n",
       "      <th></th>\n",
       "      <th>lat</th>\n",
       "      <th>lng</th>\n",
       "      <th>stratum</th>\n",
       "      <th>living_area_m2</th>\n",
       "      <th>administration_price</th>\n",
       "      <th>rooms</th>\n",
       "      <th>price_m2</th>\n",
       "      <th>is_apartment</th>\n",
       "      <th>from_10_to_20_years</th>\n",
       "      <th>from_5_to_10_years</th>\n",
       "      <th>More_than_20_years</th>\n",
       "      <th>is_new</th>\n",
       "    </tr>\n",
       "  </thead>\n",
       "  <tbody>\n",
       "    <tr>\n",
       "      <th>0</th>\n",
       "      <td>4.679580</td>\n",
       "      <td>-74.050410</td>\n",
       "      <td>6.0</td>\n",
       "      <td>260.0</td>\n",
       "      <td>1.250</td>\n",
       "      <td>3.0</td>\n",
       "      <td>6.500000</td>\n",
       "      <td>True</td>\n",
       "      <td>True</td>\n",
       "      <td>False</td>\n",
       "      <td>False</td>\n",
       "      <td>False</td>\n",
       "    </tr>\n",
       "    <tr>\n",
       "      <th>1</th>\n",
       "      <td>4.675672</td>\n",
       "      <td>-74.042930</td>\n",
       "      <td>6.0</td>\n",
       "      <td>200.0</td>\n",
       "      <td>1.500</td>\n",
       "      <td>4.0</td>\n",
       "      <td>8.000000</td>\n",
       "      <td>True</td>\n",
       "      <td>False</td>\n",
       "      <td>True</td>\n",
       "      <td>False</td>\n",
       "      <td>False</td>\n",
       "    </tr>\n",
       "    <tr>\n",
       "      <th>2</th>\n",
       "      <td>4.720000</td>\n",
       "      <td>-74.042000</td>\n",
       "      <td>5.0</td>\n",
       "      <td>267.0</td>\n",
       "      <td>0.115</td>\n",
       "      <td>4.0</td>\n",
       "      <td>3.932584</td>\n",
       "      <td>False</td>\n",
       "      <td>False</td>\n",
       "      <td>False</td>\n",
       "      <td>True</td>\n",
       "      <td>False</td>\n",
       "    </tr>\n",
       "    <tr>\n",
       "      <th>3</th>\n",
       "      <td>4.768770</td>\n",
       "      <td>-74.033485</td>\n",
       "      <td>4.0</td>\n",
       "      <td>127.0</td>\n",
       "      <td>0.336</td>\n",
       "      <td>3.0</td>\n",
       "      <td>3.370079</td>\n",
       "      <td>False</td>\n",
       "      <td>False</td>\n",
       "      <td>True</td>\n",
       "      <td>False</td>\n",
       "      <td>False</td>\n",
       "    </tr>\n",
       "    <tr>\n",
       "      <th>4</th>\n",
       "      <td>4.763851</td>\n",
       "      <td>-74.068344</td>\n",
       "      <td>5.0</td>\n",
       "      <td>221.0</td>\n",
       "      <td>0.300</td>\n",
       "      <td>3.0</td>\n",
       "      <td>6.875000</td>\n",
       "      <td>False</td>\n",
       "      <td>True</td>\n",
       "      <td>False</td>\n",
       "      <td>False</td>\n",
       "      <td>False</td>\n",
       "    </tr>\n",
       "  </tbody>\n",
       "</table>\n",
       "</div>"
      ],
      "text/plain": [
       "        lat        lng  stratum  living_area_m2  administration_price  rooms   \n",
       "0  4.679580 -74.050410      6.0           260.0                 1.250    3.0  \\\n",
       "1  4.675672 -74.042930      6.0           200.0                 1.500    4.0   \n",
       "2  4.720000 -74.042000      5.0           267.0                 0.115    4.0   \n",
       "3  4.768770 -74.033485      4.0           127.0                 0.336    3.0   \n",
       "4  4.763851 -74.068344      5.0           221.0                 0.300    3.0   \n",
       "\n",
       "   price_m2  is_apartment  from_10_to_20_years  from_5_to_10_years   \n",
       "0  6.500000          True                 True               False  \\\n",
       "1  8.000000          True                False                True   \n",
       "2  3.932584         False                False               False   \n",
       "3  3.370079         False                False                True   \n",
       "4  6.875000         False                 True               False   \n",
       "\n",
       "   More_than_20_years  is_new  \n",
       "0               False   False  \n",
       "1               False   False  \n",
       "2                True   False  \n",
       "3               False   False  \n",
       "4               False   False  "
      ]
     },
     "metadata": {},
     "output_type": "display_data"
    }
   ],
   "source": [
    "display(data_df.head())"
   ]
  },
  {
   "cell_type": "code",
   "execution_count": null,
   "id": "9453b5d9-272b-4c7c-a215-3d645f4fbc5d",
   "metadata": {
    "tags": []
   },
   "outputs": [],
   "source": [
    "# Analysis 1: Remove redundant columns\n",
    "# data_df = pd.read_csv('Data/20230409_Sales_HousesApartments_Bogota_Stratum4_price_and_pricem2.csv')\n",
    "data_df = pd.read_csv('Data/Raw_data_sales_full_excl_nbrs.csv')\n",
    "# data_df.drop('price', axis=1, inplace=True)\n",
    "data_df.drop(columns=['garages','baths'], inplace=True)\n",
    "# data_df.dropna(inplace=True)\n",
    "x_train, x_test, y_train, y_test = data_split(data_df)\n",
    "x_column_names = data_df.drop('price_m2',axis=1).columns.values.tolist()\n",
    "results_v1 = execute_analysis()"
   ]
  },
  {
   "cell_type": "code",
   "execution_count": 47,
   "id": "7fafbced-6920-41c2-a215-18ec371ed95a",
   "metadata": {
    "tags": []
   },
   "outputs": [
    {
     "name": "stdout",
     "output_type": "stream",
     "text": [
      "--------------- Results Analysis 1 ---------------\n"
     ]
    },
    {
     "data": {
      "text/html": [
       "<div>\n",
       "<style scoped>\n",
       "    .dataframe tbody tr th:only-of-type {\n",
       "        vertical-align: middle;\n",
       "    }\n",
       "\n",
       "    .dataframe tbody tr th {\n",
       "        vertical-align: top;\n",
       "    }\n",
       "\n",
       "    .dataframe thead th {\n",
       "        text-align: right;\n",
       "    }\n",
       "</style>\n",
       "<table border=\"1\" class=\"dataframe\">\n",
       "  <thead>\n",
       "    <tr style=\"text-align: right;\">\n",
       "      <th></th>\n",
       "      <th>Model</th>\n",
       "      <th>Parameters</th>\n",
       "      <th>RMSE</th>\n",
       "      <th>R2 Score</th>\n",
       "      <th>MAE</th>\n",
       "      <th>Feature Importance</th>\n",
       "    </tr>\n",
       "  </thead>\n",
       "  <tbody>\n",
       "    <tr>\n",
       "      <th>0</th>\n",
       "      <td>XGBoost</td>\n",
       "      <td>{'learning_rate': 0.01, 'max_depth': 100, 'min...</td>\n",
       "      <td>0.81</td>\n",
       "      <td>0.8</td>\n",
       "      <td>0.52</td>\n",
       "      <td>[(lat, 0.008474376), (lng, 0.008552799), (stra...</td>\n",
       "    </tr>\n",
       "    <tr>\n",
       "      <th>1</th>\n",
       "      <td>Gradient Boost</td>\n",
       "      <td>{'learning_rate': 0.1, 'loss': 'squared_error'...</td>\n",
       "      <td>0.99</td>\n",
       "      <td>0.71</td>\n",
       "      <td>0.72</td>\n",
       "      <td>[(lat, 0.18039761538145277), (lng, 0.059370682...</td>\n",
       "    </tr>\n",
       "    <tr>\n",
       "      <th>2</th>\n",
       "      <td>RandomForest Regressor</td>\n",
       "      <td>{'max_features': 0.6, 'min_samples_leaf': 1, '...</td>\n",
       "      <td>0.83</td>\n",
       "      <td>0.8</td>\n",
       "      <td>0.54</td>\n",
       "      <td>[(lat, 0.20379056865517575), (lng, 0.127922673...</td>\n",
       "    </tr>\n",
       "    <tr>\n",
       "      <th>3</th>\n",
       "      <td>Lineal Regression</td>\n",
       "      <td>NA</td>\n",
       "      <td>1.21</td>\n",
       "      <td>0.56</td>\n",
       "      <td>0.92</td>\n",
       "      <td>[(lat, -13.602169471232248), (lng, 9.807939435...</td>\n",
       "    </tr>\n",
       "    <tr>\n",
       "      <th>4</th>\n",
       "      <td>Ridge</td>\n",
       "      <td>NA</td>\n",
       "      <td>1.21</td>\n",
       "      <td>0.56</td>\n",
       "      <td>0.92</td>\n",
       "      <td>[(lat, -13.30296813333818), (lng, 9.3489888876...</td>\n",
       "    </tr>\n",
       "    <tr>\n",
       "      <th>5</th>\n",
       "      <td>Lasso</td>\n",
       "      <td>NA</td>\n",
       "      <td>1.8</td>\n",
       "      <td>0.03</td>\n",
       "      <td>1.42</td>\n",
       "      <td>[(lat, -0.0), (lng, 0.0), (stratum, 0.03233762...</td>\n",
       "    </tr>\n",
       "    <tr>\n",
       "      <th>6</th>\n",
       "      <td>DecissionTree Regressor</td>\n",
       "      <td>{'max_features': 'sqrt', 'min_samples_leaf': 5...</td>\n",
       "      <td>1.06</td>\n",
       "      <td>0.66</td>\n",
       "      <td>0.74</td>\n",
       "      <td>[(lat, 0.17291698785976656), (lng, 0.093467557...</td>\n",
       "    </tr>\n",
       "  </tbody>\n",
       "</table>\n",
       "</div>"
      ],
      "text/plain": [
       "                     Model                                         Parameters   \n",
       "0                  XGBoost  {'learning_rate': 0.01, 'max_depth': 100, 'min...  \\\n",
       "1           Gradient Boost  {'learning_rate': 0.1, 'loss': 'squared_error'...   \n",
       "2   RandomForest Regressor  {'max_features': 0.6, 'min_samples_leaf': 1, '...   \n",
       "3        Lineal Regression                                                 NA   \n",
       "4                    Ridge                                                 NA   \n",
       "5                    Lasso                                                 NA   \n",
       "6  DecissionTree Regressor  {'max_features': 'sqrt', 'min_samples_leaf': 5...   \n",
       "\n",
       "   RMSE R2 Score   MAE                                 Feature Importance  \n",
       "0  0.81      0.8  0.52  [(lat, 0.008474376), (lng, 0.008552799), (stra...  \n",
       "1  0.99     0.71  0.72  [(lat, 0.18039761538145277), (lng, 0.059370682...  \n",
       "2  0.83      0.8  0.54  [(lat, 0.20379056865517575), (lng, 0.127922673...  \n",
       "3  1.21     0.56  0.92  [(lat, -13.602169471232248), (lng, 9.807939435...  \n",
       "4  1.21     0.56  0.92  [(lat, -13.30296813333818), (lng, 9.3489888876...  \n",
       "5   1.8     0.03  1.42  [(lat, -0.0), (lng, 0.0), (stratum, 0.03233762...  \n",
       "6  1.06     0.66  0.74  [(lat, 0.17291698785976656), (lng, 0.093467557...  "
      ]
     },
     "metadata": {},
     "output_type": "display_data"
    },
    {
     "name": "stdout",
     "output_type": "stream",
     "text": [
      "--------------------- Finish ---------------------\n"
     ]
    }
   ],
   "source": [
    "print(\"--------------- Results Analysis 1 ---------------\")\n",
    "display(results_v1)\n",
    "print(\"--------------------- Finish ---------------------\")"
   ]
  },
  {
   "cell_type": "code",
   "execution_count": null,
   "id": "9ee2c208-cb44-47dd-a7f4-8945339c5c9b",
   "metadata": {},
   "outputs": [],
   "source": [
    "# Analysis 2: Reduce DF\n",
    "data_df = pd.read_csv('Data/Raw_data_sales_full_excl_nbrs.csv')\n",
    "data_df.drop(columns=['garages','baths', 'rooms'], inplace=True)\n",
    "x_train, x_test, y_train, y_test = data_split(data_df)\n",
    "x_column_names = data_df.drop('price_m2',axis=1).columns.values.tolist()\n",
    "results_v2 = execute_analysis()"
   ]
  },
  {
   "cell_type": "code",
   "execution_count": 49,
   "id": "21b6fe29-e3a9-4331-9a9e-f0907f6daecb",
   "metadata": {},
   "outputs": [
    {
     "name": "stdout",
     "output_type": "stream",
     "text": [
      "--------------- Results Analysis 2 ---------------\n"
     ]
    },
    {
     "data": {
      "text/html": [
       "<div>\n",
       "<style scoped>\n",
       "    .dataframe tbody tr th:only-of-type {\n",
       "        vertical-align: middle;\n",
       "    }\n",
       "\n",
       "    .dataframe tbody tr th {\n",
       "        vertical-align: top;\n",
       "    }\n",
       "\n",
       "    .dataframe thead th {\n",
       "        text-align: right;\n",
       "    }\n",
       "</style>\n",
       "<table border=\"1\" class=\"dataframe\">\n",
       "  <thead>\n",
       "    <tr style=\"text-align: right;\">\n",
       "      <th></th>\n",
       "      <th>Model</th>\n",
       "      <th>Parameters</th>\n",
       "      <th>RMSE</th>\n",
       "      <th>R2 Score</th>\n",
       "      <th>MAE</th>\n",
       "      <th>Feature Importance</th>\n",
       "    </tr>\n",
       "  </thead>\n",
       "  <tbody>\n",
       "    <tr>\n",
       "      <th>0</th>\n",
       "      <td>XGBoost</td>\n",
       "      <td>{'learning_rate': 0.01, 'max_depth': 100, 'min...</td>\n",
       "      <td>0.82</td>\n",
       "      <td>0.8</td>\n",
       "      <td>0.52</td>\n",
       "      <td>[(lat, 0.008902231), (lng, 0.009582237), (stra...</td>\n",
       "    </tr>\n",
       "    <tr>\n",
       "      <th>1</th>\n",
       "      <td>Gradient Boost</td>\n",
       "      <td>{'learning_rate': 0.1, 'loss': 'squared_error'...</td>\n",
       "      <td>0.99</td>\n",
       "      <td>0.71</td>\n",
       "      <td>0.72</td>\n",
       "      <td>[(lat, 0.19836401330110703), (lng, 0.086731604...</td>\n",
       "    </tr>\n",
       "    <tr>\n",
       "      <th>2</th>\n",
       "      <td>RandomForest Regressor</td>\n",
       "      <td>{'max_features': 0.6, 'min_samples_leaf': 1, '...</td>\n",
       "      <td>0.83</td>\n",
       "      <td>0.79</td>\n",
       "      <td>0.54</td>\n",
       "      <td>[(lat, 0.21717420212173938), (lng, 0.139200193...</td>\n",
       "    </tr>\n",
       "    <tr>\n",
       "      <th>3</th>\n",
       "      <td>Lineal Regression</td>\n",
       "      <td>NA</td>\n",
       "      <td>1.23</td>\n",
       "      <td>0.54</td>\n",
       "      <td>0.94</td>\n",
       "      <td>[(lat, -14.87610972922266), (lng, 11.913862575...</td>\n",
       "    </tr>\n",
       "    <tr>\n",
       "      <th>4</th>\n",
       "      <td>Ridge</td>\n",
       "      <td>NA</td>\n",
       "      <td>1.23</td>\n",
       "      <td>0.54</td>\n",
       "      <td>0.94</td>\n",
       "      <td>[(lat, -14.55304518806653), (lng, 11.400205818...</td>\n",
       "    </tr>\n",
       "    <tr>\n",
       "      <th>5</th>\n",
       "      <td>Lasso</td>\n",
       "      <td>NA</td>\n",
       "      <td>1.8</td>\n",
       "      <td>0.03</td>\n",
       "      <td>1.42</td>\n",
       "      <td>[(lat, -0.0), (lng, 0.0), (stratum, 0.03233762...</td>\n",
       "    </tr>\n",
       "    <tr>\n",
       "      <th>6</th>\n",
       "      <td>DecissionTree Regressor</td>\n",
       "      <td>{'max_features': 'sqrt', 'min_samples_leaf': 5...</td>\n",
       "      <td>1.06</td>\n",
       "      <td>0.67</td>\n",
       "      <td>0.73</td>\n",
       "      <td>[(lat, 0.22737990249150836), (lng, 0.216676543...</td>\n",
       "    </tr>\n",
       "  </tbody>\n",
       "</table>\n",
       "</div>"
      ],
      "text/plain": [
       "                     Model                                         Parameters   \n",
       "0                  XGBoost  {'learning_rate': 0.01, 'max_depth': 100, 'min...  \\\n",
       "1           Gradient Boost  {'learning_rate': 0.1, 'loss': 'squared_error'...   \n",
       "2   RandomForest Regressor  {'max_features': 0.6, 'min_samples_leaf': 1, '...   \n",
       "3        Lineal Regression                                                 NA   \n",
       "4                    Ridge                                                 NA   \n",
       "5                    Lasso                                                 NA   \n",
       "6  DecissionTree Regressor  {'max_features': 'sqrt', 'min_samples_leaf': 5...   \n",
       "\n",
       "   RMSE R2 Score   MAE                                 Feature Importance  \n",
       "0  0.82      0.8  0.52  [(lat, 0.008902231), (lng, 0.009582237), (stra...  \n",
       "1  0.99     0.71  0.72  [(lat, 0.19836401330110703), (lng, 0.086731604...  \n",
       "2  0.83     0.79  0.54  [(lat, 0.21717420212173938), (lng, 0.139200193...  \n",
       "3  1.23     0.54  0.94  [(lat, -14.87610972922266), (lng, 11.913862575...  \n",
       "4  1.23     0.54  0.94  [(lat, -14.55304518806653), (lng, 11.400205818...  \n",
       "5   1.8     0.03  1.42  [(lat, -0.0), (lng, 0.0), (stratum, 0.03233762...  \n",
       "6  1.06     0.67  0.73  [(lat, 0.22737990249150836), (lng, 0.216676543...  "
      ]
     },
     "metadata": {},
     "output_type": "display_data"
    },
    {
     "name": "stdout",
     "output_type": "stream",
     "text": [
      "--------------------- Finish ---------------------\n"
     ]
    }
   ],
   "source": [
    "print(\"--------------- Results Analysis 2 ---------------\")\n",
    "display(results_v2)\n",
    "print(\"--------------------- Finish ---------------------\")"
   ]
  },
  {
   "cell_type": "code",
   "execution_count": null,
   "id": "2fca4a26-ccdc-4aec-aaac-303170cac6a8",
   "metadata": {
    "tags": []
   },
   "outputs": [],
   "source": [
    "# Analysis 3: Full DF\n",
    "data_df = pd.read_csv('Data/Raw_data_sales_full_excl_nbrs.csv')\n",
    "x_train, x_test, y_train, y_test = data_split(data_df)\n",
    "x_column_names = data_df.drop('price_m2',axis=1).columns.values.tolist()\n",
    "results_v3 = execute_analysis()"
   ]
  },
  {
   "cell_type": "code",
   "execution_count": 51,
   "id": "a8d3b246-344a-40cb-bf12-35e6b6adaf1a",
   "metadata": {
    "tags": []
   },
   "outputs": [
    {
     "name": "stdout",
     "output_type": "stream",
     "text": [
      "--------------- Results Analysis 3 ---------------\n"
     ]
    },
    {
     "data": {
      "text/html": [
       "<div>\n",
       "<style scoped>\n",
       "    .dataframe tbody tr th:only-of-type {\n",
       "        vertical-align: middle;\n",
       "    }\n",
       "\n",
       "    .dataframe tbody tr th {\n",
       "        vertical-align: top;\n",
       "    }\n",
       "\n",
       "    .dataframe thead th {\n",
       "        text-align: right;\n",
       "    }\n",
       "</style>\n",
       "<table border=\"1\" class=\"dataframe\">\n",
       "  <thead>\n",
       "    <tr style=\"text-align: right;\">\n",
       "      <th></th>\n",
       "      <th>Model</th>\n",
       "      <th>Parameters</th>\n",
       "      <th>RMSE</th>\n",
       "      <th>R2 Score</th>\n",
       "      <th>MAE</th>\n",
       "      <th>Feature Importance</th>\n",
       "    </tr>\n",
       "  </thead>\n",
       "  <tbody>\n",
       "    <tr>\n",
       "      <th>0</th>\n",
       "      <td>XGBoost</td>\n",
       "      <td>{'learning_rate': 0.01, 'max_depth': 100, 'min...</td>\n",
       "      <td>0.79</td>\n",
       "      <td>0.81</td>\n",
       "      <td>0.5</td>\n",
       "      <td>[(lat, 0.008155236), (lng, 0.00788017), (strat...</td>\n",
       "    </tr>\n",
       "    <tr>\n",
       "      <th>1</th>\n",
       "      <td>Gradient Boost</td>\n",
       "      <td>{'learning_rate': 0.1, 'loss': 'squared_error'...</td>\n",
       "      <td>0.96</td>\n",
       "      <td>0.72</td>\n",
       "      <td>0.7</td>\n",
       "      <td>[(lat, 0.17123841227989045), (lng, 0.056556431...</td>\n",
       "    </tr>\n",
       "    <tr>\n",
       "      <th>2</th>\n",
       "      <td>RandomForest Regressor</td>\n",
       "      <td>{'max_features': 0.6, 'min_samples_leaf': 1, '...</td>\n",
       "      <td>0.81</td>\n",
       "      <td>0.8</td>\n",
       "      <td>0.53</td>\n",
       "      <td>[(lat, 0.19436885756516184), (lng, 0.116934888...</td>\n",
       "    </tr>\n",
       "    <tr>\n",
       "      <th>3</th>\n",
       "      <td>Lineal Regression</td>\n",
       "      <td>NA</td>\n",
       "      <td>1.18</td>\n",
       "      <td>0.58</td>\n",
       "      <td>0.89</td>\n",
       "      <td>[(lat, -14.192225668815261), (lng, 9.079787013...</td>\n",
       "    </tr>\n",
       "    <tr>\n",
       "      <th>4</th>\n",
       "      <td>Ridge</td>\n",
       "      <td>NA</td>\n",
       "      <td>1.18</td>\n",
       "      <td>0.58</td>\n",
       "      <td>0.89</td>\n",
       "      <td>[(lat, -13.8916957464668), (lng, 8.63802336245...</td>\n",
       "    </tr>\n",
       "    <tr>\n",
       "      <th>5</th>\n",
       "      <td>Lasso</td>\n",
       "      <td>NA</td>\n",
       "      <td>1.8</td>\n",
       "      <td>0.03</td>\n",
       "      <td>1.42</td>\n",
       "      <td>[(lat, -0.0), (lng, 0.0), (stratum, 0.03233762...</td>\n",
       "    </tr>\n",
       "    <tr>\n",
       "      <th>6</th>\n",
       "      <td>DecissionTree Regressor</td>\n",
       "      <td>{'max_features': 'sqrt', 'min_samples_leaf': 5...</td>\n",
       "      <td>1.05</td>\n",
       "      <td>0.67</td>\n",
       "      <td>0.74</td>\n",
       "      <td>[(lat, 0.15966682845398003), (lng, 0.067717240...</td>\n",
       "    </tr>\n",
       "  </tbody>\n",
       "</table>\n",
       "</div>"
      ],
      "text/plain": [
       "                     Model                                         Parameters   \n",
       "0                  XGBoost  {'learning_rate': 0.01, 'max_depth': 100, 'min...  \\\n",
       "1           Gradient Boost  {'learning_rate': 0.1, 'loss': 'squared_error'...   \n",
       "2   RandomForest Regressor  {'max_features': 0.6, 'min_samples_leaf': 1, '...   \n",
       "3        Lineal Regression                                                 NA   \n",
       "4                    Ridge                                                 NA   \n",
       "5                    Lasso                                                 NA   \n",
       "6  DecissionTree Regressor  {'max_features': 'sqrt', 'min_samples_leaf': 5...   \n",
       "\n",
       "   RMSE R2 Score   MAE                                 Feature Importance  \n",
       "0  0.79     0.81   0.5  [(lat, 0.008155236), (lng, 0.00788017), (strat...  \n",
       "1  0.96     0.72   0.7  [(lat, 0.17123841227989045), (lng, 0.056556431...  \n",
       "2  0.81      0.8  0.53  [(lat, 0.19436885756516184), (lng, 0.116934888...  \n",
       "3  1.18     0.58  0.89  [(lat, -14.192225668815261), (lng, 9.079787013...  \n",
       "4  1.18     0.58  0.89  [(lat, -13.8916957464668), (lng, 8.63802336245...  \n",
       "5   1.8     0.03  1.42  [(lat, -0.0), (lng, 0.0), (stratum, 0.03233762...  \n",
       "6  1.05     0.67  0.74  [(lat, 0.15966682845398003), (lng, 0.067717240...  "
      ]
     },
     "metadata": {},
     "output_type": "display_data"
    },
    {
     "name": "stdout",
     "output_type": "stream",
     "text": [
      "--------------------- Finish ---------------------\n"
     ]
    }
   ],
   "source": [
    "print(\"--------------- Results Analysis 3 ---------------\")\n",
    "display(results_v3)\n",
    "print(\"--------------------- Finish ---------------------\")"
   ]
  },
  {
   "cell_type": "code",
   "execution_count": null,
   "id": "6596b0a1-36b2-4bbf-bdb8-e2fd114f4491",
   "metadata": {
    "tags": []
   },
   "outputs": [],
   "source": [
    "# Analysis 4: Reduce DF\n",
    "data_df = pd.read_csv('Data/Raw_data_sales_full_excl_nbrs.csv')\n",
    "data_df.drop(columns=['garages'], inplace=True)\n",
    "x_train, x_test, y_train, y_test = data_split(data_df)\n",
    "x_column_names = data_df.drop('price_m2',axis=1).columns.values.tolist()\n",
    "results_v4 = execute_analysis()"
   ]
  },
  {
   "cell_type": "code",
   "execution_count": 53,
   "id": "d62b35f2-102d-4015-a09e-17e57d5044d4",
   "metadata": {
    "tags": []
   },
   "outputs": [
    {
     "name": "stdout",
     "output_type": "stream",
     "text": [
      "--------------- Results Analysis 4 ---------------\n"
     ]
    },
    {
     "data": {
      "text/html": [
       "<div>\n",
       "<style scoped>\n",
       "    .dataframe tbody tr th:only-of-type {\n",
       "        vertical-align: middle;\n",
       "    }\n",
       "\n",
       "    .dataframe tbody tr th {\n",
       "        vertical-align: top;\n",
       "    }\n",
       "\n",
       "    .dataframe thead th {\n",
       "        text-align: right;\n",
       "    }\n",
       "</style>\n",
       "<table border=\"1\" class=\"dataframe\">\n",
       "  <thead>\n",
       "    <tr style=\"text-align: right;\">\n",
       "      <th></th>\n",
       "      <th>Model</th>\n",
       "      <th>Parameters</th>\n",
       "      <th>RMSE</th>\n",
       "      <th>R2 Score</th>\n",
       "      <th>MAE</th>\n",
       "      <th>Feature Importance</th>\n",
       "    </tr>\n",
       "  </thead>\n",
       "  <tbody>\n",
       "    <tr>\n",
       "      <th>0</th>\n",
       "      <td>XGBoost</td>\n",
       "      <td>{'learning_rate': 0.01, 'max_depth': 100, 'min...</td>\n",
       "      <td>0.81</td>\n",
       "      <td>0.8</td>\n",
       "      <td>0.51</td>\n",
       "      <td>[(lat, 0.008302038), (lng, 0.008272111), (stra...</td>\n",
       "    </tr>\n",
       "    <tr>\n",
       "      <th>1</th>\n",
       "      <td>Gradient Boost</td>\n",
       "      <td>{'learning_rate': 0.1, 'loss': 'squared_error'...</td>\n",
       "      <td>0.98</td>\n",
       "      <td>0.71</td>\n",
       "      <td>0.72</td>\n",
       "      <td>[(lat, 0.1797912409855127), (lng, 0.0585074779...</td>\n",
       "    </tr>\n",
       "    <tr>\n",
       "      <th>2</th>\n",
       "      <td>RandomForest Regressor</td>\n",
       "      <td>{'max_features': 0.6, 'min_samples_leaf': 1, '...</td>\n",
       "      <td>0.82</td>\n",
       "      <td>0.8</td>\n",
       "      <td>0.54</td>\n",
       "      <td>[(lat, 0.20017465597652503), (lng, 0.123287867...</td>\n",
       "    </tr>\n",
       "    <tr>\n",
       "      <th>3</th>\n",
       "      <td>Lineal Regression</td>\n",
       "      <td>NA</td>\n",
       "      <td>1.21</td>\n",
       "      <td>0.56</td>\n",
       "      <td>0.92</td>\n",
       "      <td>[(lat, -13.726604748054763), (lng, 9.387024902...</td>\n",
       "    </tr>\n",
       "    <tr>\n",
       "      <th>4</th>\n",
       "      <td>Ridge</td>\n",
       "      <td>NA</td>\n",
       "      <td>1.21</td>\n",
       "      <td>0.56</td>\n",
       "      <td>0.92</td>\n",
       "      <td>[(lat, -13.430162033585953), (lng, 8.939748479...</td>\n",
       "    </tr>\n",
       "    <tr>\n",
       "      <th>5</th>\n",
       "      <td>Lasso</td>\n",
       "      <td>NA</td>\n",
       "      <td>1.8</td>\n",
       "      <td>0.03</td>\n",
       "      <td>1.42</td>\n",
       "      <td>[(lat, -0.0), (lng, 0.0), (stratum, 0.03233762...</td>\n",
       "    </tr>\n",
       "    <tr>\n",
       "      <th>6</th>\n",
       "      <td>DecissionTree Regressor</td>\n",
       "      <td>{'max_features': 'sqrt', 'min_samples_leaf': 5...</td>\n",
       "      <td>1.05</td>\n",
       "      <td>0.67</td>\n",
       "      <td>0.73</td>\n",
       "      <td>[(lat, 0.2753599306908155), (lng, 0.1827236560...</td>\n",
       "    </tr>\n",
       "  </tbody>\n",
       "</table>\n",
       "</div>"
      ],
      "text/plain": [
       "                     Model                                         Parameters   \n",
       "0                  XGBoost  {'learning_rate': 0.01, 'max_depth': 100, 'min...  \\\n",
       "1           Gradient Boost  {'learning_rate': 0.1, 'loss': 'squared_error'...   \n",
       "2   RandomForest Regressor  {'max_features': 0.6, 'min_samples_leaf': 1, '...   \n",
       "3        Lineal Regression                                                 NA   \n",
       "4                    Ridge                                                 NA   \n",
       "5                    Lasso                                                 NA   \n",
       "6  DecissionTree Regressor  {'max_features': 'sqrt', 'min_samples_leaf': 5...   \n",
       "\n",
       "   RMSE R2 Score   MAE                                 Feature Importance  \n",
       "0  0.81      0.8  0.51  [(lat, 0.008302038), (lng, 0.008272111), (stra...  \n",
       "1  0.98     0.71  0.72  [(lat, 0.1797912409855127), (lng, 0.0585074779...  \n",
       "2  0.82      0.8  0.54  [(lat, 0.20017465597652503), (lng, 0.123287867...  \n",
       "3  1.21     0.56  0.92  [(lat, -13.726604748054763), (lng, 9.387024902...  \n",
       "4  1.21     0.56  0.92  [(lat, -13.430162033585953), (lng, 8.939748479...  \n",
       "5   1.8     0.03  1.42  [(lat, -0.0), (lng, 0.0), (stratum, 0.03233762...  \n",
       "6  1.05     0.67  0.73  [(lat, 0.2753599306908155), (lng, 0.1827236560...  "
      ]
     },
     "metadata": {},
     "output_type": "display_data"
    },
    {
     "name": "stdout",
     "output_type": "stream",
     "text": [
      "--------------------- Finish ---------------------\n"
     ]
    }
   ],
   "source": [
    "print(\"--------------- Results Analysis 4 ---------------\")\n",
    "display(results_v4)\n",
    "print(\"--------------------- Finish ---------------------\")"
   ]
  },
  {
   "cell_type": "code",
   "execution_count": null,
   "id": "f095c538-0158-43d3-9b6c-b58a0e259b96",
   "metadata": {
    "tags": []
   },
   "outputs": [],
   "source": [
    "# Analysis 5: Reduce DF\n",
    "data_df = pd.read_csv('Data/20230409_Sales_HousesApartments_Bogota_Stratum4_price_and_pricem2.csv')\n",
    "data_df.drop('price', axis=1, inplace=True)\n",
    "data_df = data_df[data_df['price_m2'] <= 15000000]\n",
    "data_df = data_df[data_df['total_area_m2'] <= 400]\n",
    "data_df = data_df[data_df['administration_price'] <= 1500000]\n",
    "data_df.drop(['is_apartment', 'is_house', 'more_than_20_years_old', 'between_10_and_20_years_old'], axis=1, inplace=True)\n",
    "data_df.dropna(inplace=True)\n",
    "\n",
    "x_train, x_test, y_train, y_test = data_split(data_df)\n",
    "x_column_names = data_df.drop('price_m2',axis=1).columns.values.tolist()\n",
    "results_v5 = execute_analysis()"
   ]
  },
  {
   "cell_type": "code",
   "execution_count": null,
   "id": "62687831-1e93-4877-b126-33d0f960e5f4",
   "metadata": {
    "tags": []
   },
   "outputs": [],
   "source": [
    "print(\"--------------- Results Analysis 5 ---------------\")\n",
    "display(results_v5)\n",
    "print(\"--------------------- Finish ---------------------\")"
   ]
  },
  {
   "cell_type": "code",
   "execution_count": null,
   "id": "f6915624-a99c-49e5-a48d-9527a202989b",
   "metadata": {
    "tags": []
   },
   "outputs": [],
   "source": [
    "# Analysis 6: Reduce DF\n",
    "data_df = pd.read_csv('Data/20230409_Sales_HousesApartments_Bogota_Stratum4_price_and_pricem2.csv')\n",
    "data_df.drop('price', axis=1, inplace=True)\n",
    "data_df = data_df[data_df['price_m2'] <= 15000000]\n",
    "data_df = data_df[data_df['total_area_m2'] <= 400]\n",
    "data_df = data_df[data_df['administration_price'] <= 1500000]\n",
    "data_df = data_df[data_df['lat'] > 4.58 ]\n",
    "data_df = data_df[data_df['lng'] > -74.15 ]\n",
    "data_df = data_df[data_df['lng'] < -74.02 ]\n",
    "data_df.dropna(inplace=True)\n",
    "\n",
    "x_train, x_test, y_train, y_test = data_split(data_df)\n",
    "x_column_names = data_df.drop('price_m2',axis=1).columns.values.tolist()\n",
    "results_v6 = execute_analysis()"
   ]
  },
  {
   "cell_type": "code",
   "execution_count": null,
   "id": "2678c233-5117-4d14-90fb-dc6486d23e3c",
   "metadata": {
    "tags": []
   },
   "outputs": [],
   "source": [
    "print(\"--------------- Results Analysis 6 ---------------\")\n",
    "display(results_v6)\n",
    "print(\"--------------------- Finish ---------------------\")"
   ]
  },
  {
   "cell_type": "code",
   "execution_count": null,
   "id": "8b205c5c-f3c6-4aa2-b2ce-b252daf6fdd8",
   "metadata": {
    "tags": []
   },
   "outputs": [],
   "source": [
    "# Analysis 7: Reduce DF\n",
    "data_df = pd.read_csv('Data/20230409_Sales_HousesApartments_Bogota_Stratum4_price_and_pricem2.csv')\n",
    "data_df.drop('price', axis=1, inplace=True)\n",
    "data_df = data_df[data_df['price_m2'] <= 15000000]\n",
    "data_df = data_df[data_df['total_area_m2'] <= 400]\n",
    "data_df = data_df[data_df['administration_price'] <= 1500000]\n",
    "data_df = data_df[data_df['lat'] > 4.58 ]\n",
    "data_df = data_df[data_df['lng'] > -74.15 ]\n",
    "data_df = data_df[data_df['lng'] < -74.02 ]\n",
    "data_df.drop(['is_apartment', 'is_house', 'more_than_20_years_old', 'between_10_and_20_years_old'], axis=1, inplace=True)\n",
    "data_df.dropna(inplace=True)\n",
    "\n",
    "x_train, x_test, y_train, y_test = data_split(data_df)\n",
    "x_column_names = data_df.drop('price_m2',axis=1).columns.values.tolist()\n",
    "results_v7 = execute_analysis()"
   ]
  },
  {
   "cell_type": "code",
   "execution_count": null,
   "id": "3272e95a-ca54-4cd4-9751-3842a82416d7",
   "metadata": {
    "tags": []
   },
   "outputs": [],
   "source": [
    "print(\"--------------- Results Analysis 7 ---------------\")\n",
    "display(results_v7)\n",
    "print(\"--------------------- Finish ---------------------\")"
   ]
  },
  {
   "cell_type": "code",
   "execution_count": null,
   "id": "97fe1cf2-afc8-4841-837b-ae44f1433238",
   "metadata": {
    "tags": []
   },
   "outputs": [],
   "source": [
    "pprint(results_v6['Feature Importance'][6])"
   ]
  },
  {
   "cell_type": "code",
   "execution_count": null,
   "id": "9db3fdaf-7cbe-46c6-9880-05f66b4e6841",
   "metadata": {
    "tags": []
   },
   "outputs": [],
   "source": [
    "# Analysis 8: Reduce DF\n",
    "data_df = pd.read_csv('Data/20230409_Sales_HousesApartments_Bogota_Stratum4_price_and_pricem2.csv')\n",
    "data_df.drop('price', axis=1, inplace=True)\n",
    "data_df = data_df[data_df['price_m2'] <= 15000000]\n",
    "data_df = data_df[data_df['total_area_m2'] <= 400]\n",
    "data_df = data_df[data_df['administration_price'] <= 1500000]\n",
    "data_df = data_df[data_df['lat'] > 4.58 ]\n",
    "data_df = data_df[data_df['lng'] > -74.15 ]\n",
    "data_df = data_df[data_df['lng'] < -74.02 ]\n",
    "data_df = data_df[data_df['rooms'] < 5 ]\n",
    "data_df.dropna(inplace=True)\n",
    "\n",
    "x_train, x_test, y_train, y_test = data_split(data_df)\n",
    "x_column_names = data_df.drop('price_m2',axis=1).columns.values.tolist()\n",
    "results_v8 = execute_analysis()"
   ]
  },
  {
   "cell_type": "code",
   "execution_count": null,
   "id": "8e566ced-9cd8-4706-a6e7-5e3f67c27b82",
   "metadata": {
    "tags": []
   },
   "outputs": [],
   "source": [
    "print(\"--------------- Results Analysis 8 ---------------\")\n",
    "display(results_v8)\n",
    "print(\"--------------------- Finish ---------------------\")"
   ]
  },
  {
   "cell_type": "code",
   "execution_count": null,
   "id": "c826f113-60fe-4fa8-949c-ec884ac224fd",
   "metadata": {
    "tags": []
   },
   "outputs": [],
   "source": [
    "# Analysis 9: Reduce DF\n",
    "data_df = pd.read_csv('Data/20230409_Sales_HousesApartments_Bogota_Stratum4_price_and_pricem2.csv')\n",
    "data_df.drop(['price', 'is_house'], axis=1, inplace=True)\n",
    "data_df = data_df[data_df['price_m2'] <= 15000000]\n",
    "data_df = data_df[data_df['total_area_m2'] <= 400]\n",
    "data_df = data_df[data_df['administration_price'] <= 1500000]\n",
    "data_df = data_df[data_df['lat'] > 4.58 ]\n",
    "data_df = data_df[data_df['lng'] > -74.15 ]\n",
    "data_df = data_df[data_df['lng'] < -74.02 ]\n",
    "data_df.dropna(inplace=True)\n",
    "\n",
    "x_train, x_test, y_train, y_test = data_split(data_df)\n",
    "x_column_names = data_df.drop('price_m2',axis=1).columns.values.tolist()\n",
    "results_v9 = execute_analysis()"
   ]
  },
  {
   "cell_type": "code",
   "execution_count": null,
   "id": "28dfe1c5-68f3-4e18-835f-d6759a413b0c",
   "metadata": {
    "tags": []
   },
   "outputs": [],
   "source": [
    "print(\"--------------- Results Analysis 9 ---------------\")\n",
    "display(results_v9)\n",
    "print(\"--------------------- Finish ---------------------\")"
   ]
  },
  {
   "cell_type": "code",
   "execution_count": null,
   "id": "a1577a97-6360-4bf3-8b98-2e8277cd5b16",
   "metadata": {},
   "outputs": [],
   "source": []
  }
 ],
 "metadata": {
  "kernelspec": {
   "display_name": "Python 3",
   "language": "python",
   "name": "python3"
  },
  "language_info": {
   "codemirror_mode": {
    "name": "ipython",
    "version": 3
   },
   "file_extension": ".py",
   "mimetype": "text/x-python",
   "name": "python",
   "nbconvert_exporter": "python",
   "pygments_lexer": "ipython3",
   "version": "3.8.0"
  }
 },
 "nbformat": 4,
 "nbformat_minor": 5
}
